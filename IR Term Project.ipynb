{
 "cells": [
  {
   "cell_type": "markdown",
   "id": "aad9ad9e",
   "metadata": {},
   "source": [
    "# Fact Verification and Evidence Retrieval"
   ]
  },
  {
   "cell_type": "markdown",
   "id": "aad88697",
   "metadata": {},
   "source": [
    "### Import libraries"
   ]
  },
  {
   "cell_type": "code",
   "execution_count": 1,
   "id": "fe4790a8",
   "metadata": {},
   "outputs": [],
   "source": [
    "import json\n",
    "import os\n",
    "import os.path as path\n",
    "import heapq\n",
    "import torch\n",
    "import random"
   ]
  },
  {
   "cell_type": "markdown",
   "id": "7801bc7f",
   "metadata": {},
   "source": [
    "### Define the paths"
   ]
  },
  {
   "cell_type": "code",
   "execution_count": 2,
   "id": "24ff6da7",
   "metadata": {},
   "outputs": [
    {
     "name": "stdout",
     "output_type": "stream",
     "text": [
      "Base dir: /Users/debrup/PycharmProjects/ir_project/ir_project\n",
      "Raw Training set: /Users/debrup/PycharmProjects/ir_project/ir_project/fever/train.jsonl\n",
      "Training DocRetrieval Output File: /Users/debrup/PycharmProjects/ir_project/ir_project/fever/train.wiki7.jsonl\n",
      "Database path: /Users/debrup/PycharmProjects/ir_project/ir_project/fever/fever.db\n"
     ]
    }
   ],
   "source": [
    "BASE_DIR = os.getcwd()\n",
    "\n",
    "raw_training_set = path.join(BASE_DIR, \"fever/train.jsonl\")\n",
    "training_doc_file = path.join(BASE_DIR,\"fever/train.wiki7.jsonl\")\n",
    "db_path = path.join(BASE_DIR, \"fever/fever.db\")\n",
    "\n",
    "print(\"Base dir:\",BASE_DIR)\n",
    "print(\"Raw Training set:\",raw_training_set)\n",
    "print(\"Training DocRetrieval Output File:\",training_doc_file)\n",
    "print(\"Database path:\",db_path)\n"
   ]
  },
  {
   "cell_type": "markdown",
   "id": "cca765dd",
   "metadata": {},
   "source": [
    "### Check if gpu is available"
   ]
  },
  {
   "cell_type": "code",
   "execution_count": 3,
   "id": "b81d1db2",
   "metadata": {},
   "outputs": [
    {
     "name": "stdout",
     "output_type": "stream",
     "text": [
      "True\n"
     ]
    }
   ],
   "source": [
    "print(torch.backends.mps.is_available())"
   ]
  },
  {
   "cell_type": "code",
   "execution_count": 4,
   "id": "66576020",
   "metadata": {},
   "outputs": [
    {
     "name": "stdout",
     "output_type": "stream",
     "text": [
      "True\n"
     ]
    }
   ],
   "source": [
    "print(torch.backends.mps.is_built())"
   ]
  },
  {
   "cell_type": "code",
   "execution_count": 5,
   "id": "cd3c1430",
   "metadata": {},
   "outputs": [
    {
     "name": "stdout",
     "output_type": "stream",
     "text": [
      "mps\n"
     ]
    }
   ],
   "source": [
    "device = torch.device(\"mps\" if torch.device(\"mps\") else \"cpu\")\n",
    "print(device)"
   ]
  },
  {
   "cell_type": "markdown",
   "id": "bff85ba7",
   "metadata": {},
   "source": [
    "### Open the train.jsonl file"
   ]
  },
  {
   "cell_type": "code",
   "execution_count": 6,
   "id": "1164eea5",
   "metadata": {},
   "outputs": [],
   "source": [
    "class Reader:\n",
    "    def __init__(self,encoding=\"utf-8\"):\n",
    "        self.enc = encoding\n",
    "\n",
    "    def read(self,file):\n",
    "        with open(file,\"r\",encoding = self.enc) as f:\n",
    "            return self.process(f)\n",
    "\n",
    "    def process(self,f):\n",
    "        pass"
   ]
  },
  {
   "cell_type": "code",
   "execution_count": 7,
   "id": "0a599e21",
   "metadata": {},
   "outputs": [],
   "source": [
    "class JSONLineReader(Reader):\n",
    "    def process(self,fp):\n",
    "        data = []\n",
    "        for line in fp.readlines():\n",
    "            data.append(json.loads(line.strip()))\n",
    "        return data\n",
    "    "
   ]
  },
  {
   "cell_type": "markdown",
   "id": "600bf40e",
   "metadata": {},
   "source": [
    "### Read lines of train.json"
   ]
  },
  {
   "cell_type": "code",
   "execution_count": 8,
   "id": "70b1359a",
   "metadata": {},
   "outputs": [],
   "source": [
    "processed = dict()\n",
    "jlr = JSONLineReader()\n",
    "lines = jlr.read(raw_training_set)"
   ]
  },
  {
   "cell_type": "code",
   "execution_count": 9,
   "id": "45e8fe27",
   "metadata": {},
   "outputs": [
    {
     "name": "stdout",
     "output_type": "stream",
     "text": [
      "<class 'list'>\n"
     ]
    }
   ],
   "source": [
    "test_lines = lines[0:3]\n",
    "print(type(test_lines))"
   ]
  },
  {
   "cell_type": "markdown",
   "id": "481f1c0c",
   "metadata": {},
   "source": [
    "### Get the claim lines"
   ]
  },
  {
   "cell_type": "code",
   "execution_count": 10,
   "id": "3509f296",
   "metadata": {},
   "outputs": [
    {
     "name": "stdout",
     "output_type": "stream",
     "text": [
      "['Nikolaj Coster-Waldau worked with the Fox Broadcasting Company.', 'Roman Atwood is a content creator.', 'History of art includes architecture, dance, sculpture, music, painting, poetry literature, theatre, narrative, film, photography and graphic arts.']\n"
     ]
    }
   ],
   "source": [
    "claim_test_lines = [ sub['claim'] for sub in test_lines]\n",
    "print(claim_test_lines )"
   ]
  },
  {
   "cell_type": "markdown",
   "id": "b5b974f8",
   "metadata": {},
   "source": [
    "### Install stanza"
   ]
  },
  {
   "cell_type": "code",
   "execution_count": 11,
   "id": "8320b2d4",
   "metadata": {
    "scrolled": true
   },
   "outputs": [
    {
     "name": "stdout",
     "output_type": "stream",
     "text": [
      "Requirement already satisfied: stanza in /Users/debrup/miniconda3/envs/def/lib/python3.11/site-packages (1.5.0)\n",
      "Requirement already satisfied: emoji in /Users/debrup/miniconda3/envs/def/lib/python3.11/site-packages (from stanza) (2.2.0)\n",
      "Requirement already satisfied: numpy in /Users/debrup/miniconda3/envs/def/lib/python3.11/site-packages (from stanza) (1.24.2)\n",
      "Requirement already satisfied: protobuf in /Users/debrup/miniconda3/envs/def/lib/python3.11/site-packages (from stanza) (4.22.1)\n",
      "Requirement already satisfied: requests in /Users/debrup/miniconda3/envs/def/lib/python3.11/site-packages (from stanza) (2.28.2)\n",
      "Requirement already satisfied: six in /Users/debrup/miniconda3/envs/def/lib/python3.11/site-packages (from stanza) (1.16.0)\n",
      "Requirement already satisfied: torch>=1.3.0 in /Users/debrup/miniconda3/envs/def/lib/python3.11/site-packages (from stanza) (2.0.0)\n",
      "Requirement already satisfied: tqdm in /Users/debrup/miniconda3/envs/def/lib/python3.11/site-packages (from stanza) (4.65.0)\n",
      "Requirement already satisfied: filelock in /Users/debrup/miniconda3/envs/def/lib/python3.11/site-packages (from torch>=1.3.0->stanza) (3.10.7)\n",
      "Requirement already satisfied: typing-extensions in /Users/debrup/miniconda3/envs/def/lib/python3.11/site-packages (from torch>=1.3.0->stanza) (4.5.0)\n",
      "Requirement already satisfied: sympy in /Users/debrup/miniconda3/envs/def/lib/python3.11/site-packages (from torch>=1.3.0->stanza) (1.11.1)\n",
      "Requirement already satisfied: networkx in /Users/debrup/miniconda3/envs/def/lib/python3.11/site-packages (from torch>=1.3.0->stanza) (3.0)\n",
      "Requirement already satisfied: jinja2 in /Users/debrup/miniconda3/envs/def/lib/python3.11/site-packages (from torch>=1.3.0->stanza) (3.1.2)\n",
      "Requirement already satisfied: charset-normalizer<4,>=2 in /Users/debrup/miniconda3/envs/def/lib/python3.11/site-packages (from requests->stanza) (3.1.0)\n",
      "Requirement already satisfied: idna<4,>=2.5 in /Users/debrup/miniconda3/envs/def/lib/python3.11/site-packages (from requests->stanza) (3.4)\n",
      "Requirement already satisfied: urllib3<1.27,>=1.21.1 in /Users/debrup/miniconda3/envs/def/lib/python3.11/site-packages (from requests->stanza) (1.26.15)\n",
      "Requirement already satisfied: certifi>=2017.4.17 in /Users/debrup/miniconda3/envs/def/lib/python3.11/site-packages (from requests->stanza) (2022.12.7)\n",
      "Requirement already satisfied: MarkupSafe>=2.0 in /Users/debrup/miniconda3/envs/def/lib/python3.11/site-packages (from jinja2->torch>=1.3.0->stanza) (2.1.2)\n",
      "Requirement already satisfied: mpmath>=0.19 in /Users/debrup/miniconda3/envs/def/lib/python3.11/site-packages (from sympy->torch>=1.3.0->stanza) (1.3.0)\n",
      "Note: you may need to restart the kernel to use updated packages.\n"
     ]
    }
   ],
   "source": [
    "pip install stanza\n"
   ]
  },
  {
   "cell_type": "markdown",
   "id": "fc372d7c",
   "metadata": {},
   "source": [
    "### Import stanza and download english model"
   ]
  },
  {
   "cell_type": "code",
   "execution_count": 12,
   "id": "5a27e7f8",
   "metadata": {
    "scrolled": true
   },
   "outputs": [
    {
     "name": "stderr",
     "output_type": "stream",
     "text": [
      "/Users/debrup/miniconda3/envs/def/lib/python3.11/site-packages/tqdm/auto.py:21: TqdmWarning: IProgress not found. Please update jupyter and ipywidgets. See https://ipywidgets.readthedocs.io/en/stable/user_install.html\n",
      "  from .autonotebook import tqdm as notebook_tqdm\n",
      "Downloading https://raw.githubusercontent.com/stanfordnlp/stanza-resources/main/resources_1.5.0.json: 200kB [00:00, 31.9MB/s]\n",
      "2023-04-09 15:38:05 INFO: Downloading default packages for language: en (English) ...\n",
      "2023-04-09 15:38:08 INFO: File exists: /Users/debrup/stanza_resources/en/default.zip\n",
      "2023-04-09 15:38:12 INFO: Finished downloading models and saved to /Users/debrup/stanza_resources.\n"
     ]
    }
   ],
   "source": [
    "import stanza\n",
    "stanza.download('en') # download the English model"
   ]
  },
  {
   "cell_type": "markdown",
   "id": "d2ec6b9b",
   "metadata": {},
   "source": [
    "### Try NER on the claim"
   ]
  },
  {
   "cell_type": "code",
   "execution_count": 13,
   "id": "52ac3134",
   "metadata": {},
   "outputs": [
    {
     "name": "stderr",
     "output_type": "stream",
     "text": [
      "2023-04-09 15:38:12 INFO: Checking for updates to resources.json in case models have been updated.  Note: this behavior can be turned off with download_method=None or download_method=DownloadMethod.REUSE_RESOURCES\n",
      "Downloading https://raw.githubusercontent.com/stanfordnlp/stanza-resources/main/resources_1.5.0.json: 200kB [00:00, 4.14MB/s]\n",
      "2023-04-09 15:38:13 INFO: Loading these models for language: en (English):\n",
      "=========================\n",
      "| Processor | Package   |\n",
      "-------------------------\n",
      "| tokenize  | combined  |\n",
      "| ner       | ontonotes |\n",
      "=========================\n",
      "\n",
      "2023-04-09 15:38:13 INFO: Using device: cpu\n",
      "2023-04-09 15:38:13 INFO: Loading: tokenize\n",
      "2023-04-09 15:38:13 INFO: Loading: ner\n",
      "2023-04-09 15:38:14 INFO: Done loading processors!\n"
     ]
    },
    {
     "name": "stdout",
     "output_type": "stream",
     "text": [
      "Nikolaj Coster-Waldau PERSON\n",
      "the Fox Broadcasting Company ORG\n",
      "Roman Atwood PERSON\n"
     ]
    }
   ],
   "source": [
    "## Find the entities in the lines and the noun phrases\n",
    "\n",
    "nlp = stanza.Pipeline('en', processors='tokenize,ner')\n",
    "\n",
    "for text in claim_test_lines:\n",
    "    doc = nlp(text)\n",
    "    for ent in doc.ents:\n",
    "        print(ent.text, ent.type)\n"
   ]
  },
  {
   "cell_type": "markdown",
   "id": "555d8169",
   "metadata": {},
   "source": [
    "### Install spacy"
   ]
  },
  {
   "cell_type": "code",
   "execution_count": 14,
   "id": "dbc316d8",
   "metadata": {
    "scrolled": true
   },
   "outputs": [
    {
     "name": "stdout",
     "output_type": "stream",
     "text": [
      "Requirement already satisfied: spacy in /Users/debrup/miniconda3/envs/def/lib/python3.11/site-packages (3.5.1)\n",
      "Requirement already satisfied: spacy-legacy<3.1.0,>=3.0.11 in /Users/debrup/miniconda3/envs/def/lib/python3.11/site-packages (from spacy) (3.0.12)\n",
      "Requirement already satisfied: spacy-loggers<2.0.0,>=1.0.0 in /Users/debrup/miniconda3/envs/def/lib/python3.11/site-packages (from spacy) (1.0.4)\n",
      "Requirement already satisfied: murmurhash<1.1.0,>=0.28.0 in /Users/debrup/miniconda3/envs/def/lib/python3.11/site-packages (from spacy) (1.0.9)\n",
      "Requirement already satisfied: cymem<2.1.0,>=2.0.2 in /Users/debrup/miniconda3/envs/def/lib/python3.11/site-packages (from spacy) (2.0.7)\n",
      "Requirement already satisfied: preshed<3.1.0,>=3.0.2 in /Users/debrup/miniconda3/envs/def/lib/python3.11/site-packages (from spacy) (3.0.8)\n",
      "Requirement already satisfied: thinc<8.2.0,>=8.1.8 in /Users/debrup/miniconda3/envs/def/lib/python3.11/site-packages (from spacy) (8.1.9)\n",
      "Requirement already satisfied: wasabi<1.2.0,>=0.9.1 in /Users/debrup/miniconda3/envs/def/lib/python3.11/site-packages (from spacy) (1.1.1)\n",
      "Requirement already satisfied: srsly<3.0.0,>=2.4.3 in /Users/debrup/miniconda3/envs/def/lib/python3.11/site-packages (from spacy) (2.4.6)\n",
      "Requirement already satisfied: catalogue<2.1.0,>=2.0.6 in /Users/debrup/miniconda3/envs/def/lib/python3.11/site-packages (from spacy) (2.0.8)\n",
      "Requirement already satisfied: typer<0.8.0,>=0.3.0 in /Users/debrup/miniconda3/envs/def/lib/python3.11/site-packages (from spacy) (0.7.0)\n",
      "Requirement already satisfied: pathy>=0.10.0 in /Users/debrup/miniconda3/envs/def/lib/python3.11/site-packages (from spacy) (0.10.1)\n",
      "Requirement already satisfied: smart-open<7.0.0,>=5.2.1 in /Users/debrup/miniconda3/envs/def/lib/python3.11/site-packages (from spacy) (6.3.0)\n",
      "Requirement already satisfied: tqdm<5.0.0,>=4.38.0 in /Users/debrup/miniconda3/envs/def/lib/python3.11/site-packages (from spacy) (4.65.0)\n",
      "Requirement already satisfied: numpy>=1.15.0 in /Users/debrup/miniconda3/envs/def/lib/python3.11/site-packages (from spacy) (1.24.2)\n",
      "Requirement already satisfied: requests<3.0.0,>=2.13.0 in /Users/debrup/miniconda3/envs/def/lib/python3.11/site-packages (from spacy) (2.28.2)\n",
      "Requirement already satisfied: pydantic!=1.8,!=1.8.1,<1.11.0,>=1.7.4 in /Users/debrup/miniconda3/envs/def/lib/python3.11/site-packages (from spacy) (1.10.7)\n",
      "Requirement already satisfied: jinja2 in /Users/debrup/miniconda3/envs/def/lib/python3.11/site-packages (from spacy) (3.1.2)\n",
      "Requirement already satisfied: setuptools in /Users/debrup/miniconda3/envs/def/lib/python3.11/site-packages (from spacy) (67.6.1)\n",
      "Requirement already satisfied: packaging>=20.0 in /Users/debrup/miniconda3/envs/def/lib/python3.11/site-packages (from spacy) (23.0)\n",
      "Requirement already satisfied: langcodes<4.0.0,>=3.2.0 in /Users/debrup/miniconda3/envs/def/lib/python3.11/site-packages (from spacy) (3.3.0)\n",
      "Requirement already satisfied: typing-extensions>=4.2.0 in /Users/debrup/miniconda3/envs/def/lib/python3.11/site-packages (from pydantic!=1.8,!=1.8.1,<1.11.0,>=1.7.4->spacy) (4.5.0)\n",
      "Requirement already satisfied: charset-normalizer<4,>=2 in /Users/debrup/miniconda3/envs/def/lib/python3.11/site-packages (from requests<3.0.0,>=2.13.0->spacy) (3.1.0)\n",
      "Requirement already satisfied: idna<4,>=2.5 in /Users/debrup/miniconda3/envs/def/lib/python3.11/site-packages (from requests<3.0.0,>=2.13.0->spacy) (3.4)\n",
      "Requirement already satisfied: urllib3<1.27,>=1.21.1 in /Users/debrup/miniconda3/envs/def/lib/python3.11/site-packages (from requests<3.0.0,>=2.13.0->spacy) (1.26.15)\n",
      "Requirement already satisfied: certifi>=2017.4.17 in /Users/debrup/miniconda3/envs/def/lib/python3.11/site-packages (from requests<3.0.0,>=2.13.0->spacy) (2022.12.7)\n",
      "Requirement already satisfied: blis<0.8.0,>=0.7.8 in /Users/debrup/miniconda3/envs/def/lib/python3.11/site-packages (from thinc<8.2.0,>=8.1.8->spacy) (0.7.9)\n",
      "Requirement already satisfied: confection<1.0.0,>=0.0.1 in /Users/debrup/miniconda3/envs/def/lib/python3.11/site-packages (from thinc<8.2.0,>=8.1.8->spacy) (0.0.4)\n",
      "Requirement already satisfied: click<9.0.0,>=7.1.1 in /Users/debrup/miniconda3/envs/def/lib/python3.11/site-packages (from typer<0.8.0,>=0.3.0->spacy) (8.1.3)\n",
      "Requirement already satisfied: MarkupSafe>=2.0 in /Users/debrup/miniconda3/envs/def/lib/python3.11/site-packages (from jinja2->spacy) (2.1.2)\n",
      "Note: you may need to restart the kernel to use updated packages.\n"
     ]
    }
   ],
   "source": [
    "pip install spacy"
   ]
  },
  {
   "cell_type": "markdown",
   "id": "81a9710a",
   "metadata": {},
   "source": [
    "### Try NER using spacy"
   ]
  },
  {
   "cell_type": "code",
   "execution_count": 15,
   "id": "95c3560b",
   "metadata": {},
   "outputs": [
    {
     "name": "stdout",
     "output_type": "stream",
     "text": [
      "Nikolaj Coster-Waldau PERSON\n",
      "the Fox Broadcasting Company ORG\n",
      "Roman Atwood PERSON\n"
     ]
    }
   ],
   "source": [
    "import spacy\n",
    "\n",
    "nlp = spacy.load(\"en_core_web_sm\")\n",
    "\n",
    "\n",
    "docs = list(nlp.pipe(claim_test_lines))\n",
    "\n",
    "for doc in docs:\n",
    "    for ent in doc.ents:\n",
    "        print(ent.text, ent.label_)"
   ]
  },
  {
   "cell_type": "markdown",
   "id": "60d8e56d",
   "metadata": {},
   "source": [
    "#### As we can see the NER Models cannot get all the required entities. They can only derive very specific entity objects."
   ]
  },
  {
   "cell_type": "markdown",
   "id": "d7b98c51",
   "metadata": {},
   "source": [
    "### Install nltk"
   ]
  },
  {
   "cell_type": "code",
   "execution_count": 16,
   "id": "c53cc046",
   "metadata": {},
   "outputs": [
    {
     "name": "stdout",
     "output_type": "stream",
     "text": [
      "Requirement already satisfied: nltk in /Users/debrup/miniconda3/envs/def/lib/python3.11/site-packages (3.8.1)\n",
      "Requirement already satisfied: click in /Users/debrup/miniconda3/envs/def/lib/python3.11/site-packages (from nltk) (8.1.3)\n",
      "Requirement already satisfied: joblib in /Users/debrup/miniconda3/envs/def/lib/python3.11/site-packages (from nltk) (1.2.0)\n",
      "Requirement already satisfied: regex>=2021.8.3 in /Users/debrup/miniconda3/envs/def/lib/python3.11/site-packages (from nltk) (2023.3.23)\n",
      "Requirement already satisfied: tqdm in /Users/debrup/miniconda3/envs/def/lib/python3.11/site-packages (from nltk) (4.65.0)\n",
      "Note: you may need to restart the kernel to use updated packages.\n"
     ]
    }
   ],
   "source": [
    "pip install nltk"
   ]
  },
  {
   "cell_type": "markdown",
   "id": "5c6102a5",
   "metadata": {},
   "source": [
    "### Extract all the noun phrases of the claims using constituency tree"
   ]
  },
  {
   "cell_type": "code",
   "execution_count": 17,
   "id": "2f473337",
   "metadata": {},
   "outputs": [
    {
     "name": "stderr",
     "output_type": "stream",
     "text": [
      "2023-04-09 15:38:20 INFO: Checking for updates to resources.json in case models have been updated.  Note: this behavior can be turned off with download_method=None or download_method=DownloadMethod.REUSE_RESOURCES\n",
      "Downloading https://raw.githubusercontent.com/stanfordnlp/stanza-resources/main/resources_1.5.0.json: 200kB [00:00, 2.81MB/s]\n",
      "2023-04-09 15:38:21 INFO: Loading these models for language: en (English):\n",
      "===========================\n",
      "| Processor    | Package  |\n",
      "---------------------------\n",
      "| tokenize     | combined |\n",
      "| pos          | combined |\n",
      "| constituency | wsj      |\n",
      "===========================\n",
      "\n",
      "2023-04-09 15:38:21 INFO: Using device: cpu\n",
      "2023-04-09 15:38:21 INFO: Loading: tokenize\n",
      "2023-04-09 15:38:21 INFO: Loading: pos\n",
      "2023-04-09 15:38:21 INFO: Loading: constituency\n",
      "2023-04-09 15:38:22 INFO: Done loading processors!\n"
     ]
    }
   ],
   "source": [
    "import stanza\n",
    "import wikipedia\n",
    "\n",
    "def preprocess(np):\n",
    "    page = np.replace('( ', '-LRB-')\n",
    "    page = page.replace(' )', '-RRB-')\n",
    "    page = page.replace(' - ', '-')\n",
    "    page = page.replace(' :', '-COLON-')\n",
    "    page = page.replace(' ,', ',')\n",
    "    page = page.replace(\" 's\", \"'s\")\n",
    "    page = page.replace(' ', '_')\n",
    "    return page\n",
    "    \n",
    "\n",
    "claim_train_lines = [ sub['claim'] for sub in lines]\n",
    "\n",
    "nlp = stanza.Pipeline(lang='en', processors='tokenize,pos,constituency')\n",
    "entities=[]  # entities will be a list of size len(train_claims) having list of entities(noun_phrases) as each elem\n",
    "wiki_pages=[]\n",
    "\n",
    "test=[\"I am a happy person\"]\n",
    "\n",
    "for claim in claim_test_lines:\n",
    "    doc = nlp(claim)\n",
    "    for sentence in doc.sentences:\n",
    "        tree = sentence.constituency\n",
    "        np=[]\n",
    "        tree.visit_preorder(internal = lambda x: np.append(x.leaf_labels()) if x.label==\"NP\" else None)\n",
    "        noun_phrases = [' '.join(n) for n in np]\n",
    "        entities.append(noun_phrases)\n",
    "        \n",
    "        predicted_wiki = [preprocess((wikipedia.search(n))[0]) for n in noun_phrases] \n",
    "        wiki_pages.append(predicted_wiki)\n",
    "        \n",
    "        ##print(noun_phrases)\n",
    "        ##print(type(sentence.constituency))\n",
    "\n",
    "        \n",
    "    "
   ]
  },
  {
   "cell_type": "markdown",
   "id": "b0c2ee3f",
   "metadata": {},
   "source": [
    "### Example constituency trees"
   ]
  },
  {
   "cell_type": "code",
   "execution_count": 18,
   "id": "5c12ad2e",
   "metadata": {},
   "outputs": [
    {
     "name": "stdout",
     "output_type": "stream",
     "text": [
      "[(ROOT (S (NP (NP (NN History)) (PP (IN of) (NP (NN art)))) (VP (VBZ includes) (NP (NP (NN architecture)) (, ,) (NP (NN dance)) (, ,) (NP (NN sculpture)) (, ,) (NP (NN music)) (, ,) (NP (NN painting)) (, ,) (NP (NN poetry) (NN literature)) (, ,) (NP (NN theatre)) (, ,) (NP (JJ narrative)) (, ,) (NP (NN film)) (, ,) (NP (NN photography)) (CC and) (NP (JJ graphic) (NNS arts)))) (. .)))]\n"
     ]
    }
   ],
   "source": [
    "print([i.constituency for i in doc.sentences])"
   ]
  },
  {
   "cell_type": "code",
   "execution_count": 19,
   "id": "1a413039",
   "metadata": {},
   "outputs": [
    {
     "data": {
      "text/plain": [
       "(ROOT (S (NP (NP (NN History)) (PP (IN of) (NP (NN art)))) (VP (VBZ includes) (NP (NP (NN architecture)) (, ,) (NP (NN dance)) (, ,) (NP (NN sculpture)) (, ,) (NP (NN music)) (, ,) (NP (NN painting)) (, ,) (NP (NN poetry) (NN literature)) (, ,) (NP (NN theatre)) (, ,) (NP (JJ narrative)) (, ,) (NP (NN film)) (, ,) (NP (NN photography)) (CC and) (NP (JJ graphic) (NNS arts)))) (. .)))"
      ]
     },
     "execution_count": 19,
     "metadata": {},
     "output_type": "execute_result"
    }
   ],
   "source": [
    "tree"
   ]
  },
  {
   "cell_type": "code",
   "execution_count": 20,
   "id": "afe5e207",
   "metadata": {},
   "outputs": [
    {
     "data": {
      "text/plain": [
       "3"
      ]
     },
     "execution_count": 20,
     "metadata": {},
     "output_type": "execute_result"
    }
   ],
   "source": [
    "len(wiki_pages)"
   ]
  },
  {
   "cell_type": "markdown",
   "id": "9e5cdf4a",
   "metadata": {},
   "source": [
    "### Example noun phrases"
   ]
  },
  {
   "cell_type": "code",
   "execution_count": 21,
   "id": "75d9fe94",
   "metadata": {},
   "outputs": [
    {
     "name": "stdout",
     "output_type": "stream",
     "text": [
      "[['Nikolaj Coster - Waldau', 'the Fox Broadcasting Company'], ['Roman Atwood', 'a content creator'], ['History of art', 'History', 'art', 'architecture , dance , sculpture , music , painting , poetry literature , theatre , narrative , film , photography and graphic arts', 'architecture', 'dance', 'sculpture', 'music', 'painting', 'poetry literature', 'theatre', 'narrative', 'film', 'photography', 'graphic arts']]\n"
     ]
    }
   ],
   "source": [
    "print(entities)"
   ]
  },
  {
   "cell_type": "markdown",
   "id": "06348771",
   "metadata": {},
   "source": [
    "### Example predicted wiki pages"
   ]
  },
  {
   "cell_type": "code",
   "execution_count": 22,
   "id": "4e4ae6ef",
   "metadata": {},
   "outputs": [
    {
     "data": {
      "text/plain": [
       "[['Nikolaj_Coster-Waldau', 'Fox_Broadcasting_Company'],\n",
       " ['Roman_Atwood', 'Content_creation'],\n",
       " ['History_of_art',\n",
       "  'History',\n",
       "  'Art',\n",
       "  'Arts_in_the_Philippines',\n",
       "  'Architecture',\n",
       "  'Dance',\n",
       "  'Sculpture',\n",
       "  'Music',\n",
       "  'Painting',\n",
       "  'Epic_poetry',\n",
       "  'Theatre',\n",
       "  'Narrative',\n",
       "  'Film',\n",
       "  'Photography',\n",
       "  'Graphic_arts']]"
      ]
     },
     "execution_count": 22,
     "metadata": {},
     "output_type": "execute_result"
    }
   ],
   "source": [
    "wiki_pages"
   ]
  },
  {
   "cell_type": "markdown",
   "id": "4553a103",
   "metadata": {},
   "source": [
    "### Example code for retrieving from fever.db"
   ]
  },
  {
   "cell_type": "code",
   "execution_count": 74,
   "id": "0efe822c",
   "metadata": {},
   "outputs": [],
   "source": [
    "P=preprocess('List_of_The_Simpsons_guest_stars_(seasons 21–present)')"
   ]
  },
  {
   "cell_type": "code",
   "execution_count": 76,
   "id": "ad63fd3d",
   "metadata": {},
   "outputs": [
    {
     "name": "stdout",
     "output_type": "stream",
     "text": [
      "0\tGame of Thrones is an American fantasy drama television series created by David Benioff and D. B. Weiss .\tDavid Benioff\tDavid Benioff\tD. B. Weiss\tD. B. Weiss\tfantasy\tfantasy\tdrama\tDrama (film and television)\n",
      "1\tIt is an adaptation of A Song of Ice and Fire , George R. R. Martin 's series of fantasy novels , the first of which is A Game of Thrones .\tA Song of Ice and Fire\tA Song of Ice and Fire\tGeorge R. R. Martin\tGeorge R. R. Martin\tfantasy\tfantasy\tA Game of Thrones\tA Game of Thrones\n",
      "2\tIt is filmed at Titanic Studios in Belfast , on location in the United Kingdom , and in Canada , Croatia , Iceland , Malta , Morocco , Spain , and the United States .\tBelfast\tBelfast\n",
      "3\tThe series premiered on HBO in the United States on April 17 , 2011 , and its sixth season ended on June 26 , 2016 .\tHBO\tHBO\n",
      "4\tThe series was renewed for a seventh season , which is scheduled to premiere on July 16 , 2017 , and will conclude with its eighth season in 2018 .\n",
      "5\t\n",
      "6\t\n",
      "7\tSet on the fictional continents of Westeros and Essos , Game of Thrones has several plot lines and a large ensemble cast .\tWesteros and Essos\tWorld of A Song of Ice and Fire\tensemble cast\tensemble cast\n",
      "8\tThe first story arc follows a dynastic conflict among competing claimants for succession to the Iron Throne of the Seven Kingdoms , with other noble families fighting for independence from the throne .\tstory arc\tstory arc\tIron Throne\tIron Throne (A Song of Ice and Fire)\tSeven Kingdoms\tWorld of A Song of Ice and Fire#Westeros\n",
      "9\tThe second covers attempts to reclaim the throne by the exiled last scion of the realm 's deposed ruling dynasty ; the third chronicles the threat of the impending winter and the legendary creatures and fierce peoples of the North .\tscion\tLineal descendant\n",
      "10\t\n",
      "11\t\n",
      "12\tGame of Thrones has attracted record viewership on HBO and has a broad , active , international fan base .\tHBO\tHBO\tfan base\tFandom\n",
      "13\tIt has been acclaimed by critics , particularly for its acting , complex characters , story , scope , and production values , although its frequent use of nudity and violence -LRB- including sexual violence -RRB- has attracted criticism .\n",
      "14\tThe series has received 38 Primetime Emmy Awards , including Outstanding Drama Series in 2015 and 2016 , more than any other primetime scripted television series .\tOutstanding Drama Series\tPrimetime Emmy Award for Outstanding Drama Series\n",
      "15\tIts other awards and nominations include three Hugo Awards for Best Dramatic Presentation -LRB- 2012 -- 2014 -RRB- , a 2011 Peabody Award , and four nominations for the Golden Globe Award for Best Television Series -- Drama -LRB- 2012 and 2015 -- 2017 -RRB- .\tother awards and nominations\tList of awards and nominations received by Game of Thrones\tHugo Awards for Best Dramatic Presentation\tHugo Award for Best Dramatic Presentation\tPeabody Award\tPeabody Award\n",
      "16\tOf the ensemble cast , Peter Dinklage has won two Primetime Emmy Awards for Outstanding Supporting Actor in a Drama Series -LRB- 2011 and 2015 -RRB- and the Golden Globe Award for Best Supporting Actor -- Series , Miniseries or Television Film -LRB- 2012 -RRB- for his performance as Tyrion Lannister .\tensemble cast\tensemble cast\tPeter Dinklage\tPeter Dinklage\tPrimetime Emmy Awards for Outstanding Supporting Actor in a Drama Series\tPrimetime Emmy Award for Outstanding Supporting Actor in a Drama Series\tTyrion Lannister\tTyrion Lannister\n",
      "17\tLena Headey , Emilia Clarke , Kit Harington , Maisie Williams , Diana Rigg , and Max von Sydow have also received Primetime Emmy Award nominations for their performances in the series .\tPrimetime Emmy Award\tPrimetime Emmy Award\tLena Headey\tLena Headey\tEmilia Clarke\tEmilia Clarke\tKit Harington\tKit Harington\tMaisie Williams\tMaisie Williams\tDiana Rigg\tDiana Rigg\tMax von Sydow\tMax von Sydow\n",
      "18\t\n"
     ]
    }
   ],
   "source": [
    "import sqlite3\n",
    "\n",
    "# Open a connection to the database file\n",
    "conn = sqlite3.connect(db_path)\n",
    "\n",
    "# Create a cursor object to execute SQL commands\n",
    "cursor = conn.cursor()\n",
    "\n",
    "# Execute a SELECT query on the database\n",
    "query = f\"SELECT lines FROM documents where id='Game_of_Thrones'\"\n",
    "cursor.execute(query)\n",
    "\n",
    "# Retrieve the results of the query\n",
    "results = cursor.fetchone()\n",
    "\n",
    "# Print the results\n",
    "for row in results:\n",
    "    print(row)\n",
    "\n",
    "# Close the connection to the database\n",
    "conn.close()"
   ]
  },
  {
   "cell_type": "markdown",
   "id": "234996c2",
   "metadata": {},
   "source": [
    "### Get the names of titles and the lines of pages in fever.db that matches with wiki_pages"
   ]
  },
  {
   "cell_type": "code",
   "execution_count": 24,
   "id": "64ced153",
   "metadata": {},
   "outputs": [
    {
     "name": "stdout",
     "output_type": "stream",
     "text": [
      "{'Nikolaj_Coster-Waldau': ['Nikolaj Coster-Waldau -LRB- -LSB- neɡ̊olaɪ̯ kʰʌsd̥ɐ ˈʋald̥ɑʊ̯ -RSB- ; born 27 July 1970 -RRB- is a Danish actor , producer and screenwriter .', 'He graduated from Danish National School of Theatre in Copenhagen in 1993 .', \"Coster-Waldau 's breakthrough performance in Denmark was his role in the film Nightwatch -LRB- 1994 -RRB- .\", 'Since then he has appeared in numerous films in his native Scandinavia and Europe in general , including Headhunters -LRB- 2011 -RRB- and A Thousand Times Good Night -LRB- 2013 -RRB- .', '', '', 'In the United States , his debut film role was in the war film Black Hawk Down -LRB- 2001 -RRB- , playing Medal of Honor recipient Gary Gordon .', 'He then played Detective John Amsterdam in the short-lived Fox television series New Amsterdam -LRB- 2008 -RRB- , as well as appearing as Frank Pike in the 2009 Fox television film Virtuality , originally intended as a pilot .', 'He became widely known to a broad audience for his current role as Ser Jaime Lannister , in the HBO series Game of Thrones .', 'In 2017 , he became one of the highest paid actors on television and earned # 2 million per episode of Game of Thrones .', ''], 'Fox_Broadcasting_Company': ['The Fox Broadcasting Company -LRB- often shortened to Fox and stylized as FOX -RRB- is an American English language commercial broadcast television network that is owned by the Fox Entertainment Group subsidiary of 21st Century Fox .', 'The network is headquartered at the 20th Century Fox studio lot on Pico Boulevard in the Century City section of Los Angeles , with additional major offices and production facilities at the Fox Television Center in nearby West Los Angeles and the Fox Broadcasting Center in the Yorkville neighborhood of Manhattan , New York City .', 'It is the third largest major television network in the world based on total revenues , assets , and international coverage .', '', '', 'Launched on October 9 , 1986 as a competitor to the Big Three television networks -LRB- ABC , NBC and CBS -RRB- , Fox went on to become the most successful attempt at a fourth television network .', 'It was the highest-rated broadcast network in the 18 -- 49 demographic from 2004 to 2012 , and earned the position as the most-watched American television network in total viewership during the 2007 -- 08 season .', '', '', 'Fox and its affiliated companies operate many entertainment channels in international markets , although these do not necessarily air the same programming as the U.S. network .', \"Most viewers in Canada have access to at least one U.S.-based Fox affiliate , either over-the-air or through a pay television provider , although Fox 's National Football League telecasts and most of its prime time programming are subject to simultaneous substitution regulations for cable and satellite providers imposed by the Canadian Radio-television and Telecommunications Commission -LRB- CRTC -RRB- to protect rights held by domestically based networks .\", '', '', \"The network is named after sister company 20th Century Fox , and indirectly for producer William Fox , who founded one of the movie studio 's predecessors , Fox Film .\", 'Fox is a member of the North American Broadcasters Association and the National Association of Broadcasters .', '']}\n"
     ]
    }
   ],
   "source": [
    "import sqlite3\n",
    "\n",
    "# Open a connection to the database file\n",
    "conn = sqlite3.connect(db_path)\n",
    "\n",
    "# Create a cursor object to execute SQL commands\n",
    "cursor = conn.cursor()\n",
    "\n",
    "candidate_lines = []  ## list of size (no_claims), each element of list should be lines of each matched page\n",
    "\n",
    "count=0\n",
    "\n",
    "for claim_pages in wiki_pages:\n",
    "    \n",
    "    \n",
    "    for page in claim_pages:\n",
    "        \n",
    "        #print(page)\n",
    "       # Execute a SELECT query on the database\n",
    "        query = f\"SELECT lines FROM documents where id='{page}'\"\n",
    "        cursor.execute(query)\n",
    "        \n",
    "\n",
    "       # Retrieve the results of the query\n",
    "        results = cursor.fetchone()\n",
    "        \n",
    "        #print(results)\n",
    "        \n",
    "       # If results are empty continue\n",
    "        if results is None or len(results) == 0:\n",
    "            continue  \n",
    "            \n",
    "       # Split the string into a list of lines using the newline character\n",
    "        lines_page = results[0].split('\\n')   \n",
    "        #print(lines_page)\n",
    "        \n",
    "        for line in lines_page:\n",
    "            \n",
    "         \n",
    "           # remove tab characters\n",
    "           line = line.replace('\\t', ' ')\n",
    "           \n",
    "           while len(line) >= 1 and line[0].isdigit():\n",
    "                try:\n",
    "                    line = line[1:]\n",
    "                    \n",
    "                except:\n",
    "                    line=''\n",
    "                    break\n",
    "                \n",
    "           # remove digits\n",
    "           #line = line.translate(str.maketrans('', '', '0123456789'))\n",
    "            \n",
    "\n",
    "           # remove all words after last . (the links to other pages)\n",
    "           last_period_index = line.rfind(\".\")\n",
    "\n",
    "           # Remove everything after the last period\n",
    "           \n",
    "           if last_period_index != -1:\n",
    "               \n",
    "                line = line[:last_period_index+1]\n",
    "                   \n",
    "           \n",
    "        \n",
    "           #line = line.split('.')[0]\n",
    "    \n",
    "           # remove extra spaces\n",
    "           line = ' '.join(line.split())\n",
    "            \n",
    "           # Each of the elements of candidate lines is a dictionary with (title,lines_page) (K,V) pairs\n",
    "           \n",
    "         \n",
    "           try:\n",
    "            \n",
    "              ((candidate_lines[count])[page]).append(line)\n",
    "                    \n",
    "           except:\n",
    "              \n",
    "              if len(candidate_lines)==count:\n",
    "                 candidate_lines.append({})\n",
    "                    \n",
    "               \n",
    "                 \n",
    "            \n",
    "              try:\n",
    "                      ((candidate_lines[count])[page]).append(line)\n",
    "              except:\n",
    "                      ((candidate_lines[count])[page])=[]\n",
    "                      ((candidate_lines[count])[page]).append(line)  \n",
    "                    \n",
    "        \n",
    "        \n",
    "        \n",
    "    count=count+1\n",
    "\n",
    "\n",
    "print(candidate_lines[0])\n",
    "\n",
    "# Close the connection to the database\n",
    "conn.close()\n"
   ]
  },
  {
   "cell_type": "code",
   "execution_count": 25,
   "id": "3801a590",
   "metadata": {},
   "outputs": [
    {
     "name": "stdout",
     "output_type": "stream",
     "text": [
      "{'Roman_Atwood': ['Roman Bernard Atwood -LRB- born May 28 , 1983 -RRB- is an American YouTube personality , comedian , vlogger and pranker .', 'He is best known for his vlogs , where he posts updates about his life on a daily basis .', \"His vlogging channel , `` RomanAtwoodVlogs '' , has a total of 3.3 billion views and 11.9 million subscribers .\", \"He also has another YouTube channel called `` RomanAtwood '' , where he posts pranks .\", 'His prank videos have gained over 1.4 billion views and 10.3 million subscribers .', 'Both of these channels are in the top 100 most subscribed on YouTube , and he became the second YouTuber after Germán Garmendia to receive two Diamond Play Buttons for his two channels .', ''], 'Content_creation': ['Content Creation is the contribution of information to any media and most especially to digital media for an end-user/audience in specific contexts .', \"Content is `` something that is to be expressed through some medium , as speech , writing or any of various arts '' for self-expression , distribution , marketing and/or publication .\", 'Typical forms of content creation include maintaining and updating web sites , blogging , photography , videography , online commentary , the maintenance of social media accounts , and editing and distribution of digital media .', 'A Pew survey described content creation as the creation of `` the material people contribute to the online world .', '']}\n"
     ]
    }
   ],
   "source": [
    "print(candidate_lines[1])\n"
   ]
  },
  {
   "cell_type": "code",
   "execution_count": 26,
   "id": "f12b2564",
   "metadata": {},
   "outputs": [
    {
     "name": "stdout",
     "output_type": "stream",
     "text": [
      "He is best known for his vlogs , where he posts updates about his life on a daily basis .\n"
     ]
    }
   ],
   "source": [
    "print(candidate_lines[1]['Roman_Atwood'][1])"
   ]
  },
  {
   "cell_type": "code",
   "execution_count": 27,
   "id": "030c4a9e",
   "metadata": {},
   "outputs": [
    {
     "name": "stdout",
     "output_type": "stream",
     "text": [
      "Requirement already satisfied: wikipedia in /Users/debrup/miniconda3/envs/def/lib/python3.11/site-packages (1.4.0)\n",
      "Requirement already satisfied: beautifulsoup4 in /Users/debrup/miniconda3/envs/def/lib/python3.11/site-packages (from wikipedia) (4.12.0)\n",
      "Requirement already satisfied: requests<3.0.0,>=2.0.0 in /Users/debrup/miniconda3/envs/def/lib/python3.11/site-packages (from wikipedia) (2.28.2)\n",
      "Requirement already satisfied: charset-normalizer<4,>=2 in /Users/debrup/miniconda3/envs/def/lib/python3.11/site-packages (from requests<3.0.0,>=2.0.0->wikipedia) (3.1.0)\n",
      "Requirement already satisfied: idna<4,>=2.5 in /Users/debrup/miniconda3/envs/def/lib/python3.11/site-packages (from requests<3.0.0,>=2.0.0->wikipedia) (3.4)\n",
      "Requirement already satisfied: urllib3<1.27,>=1.21.1 in /Users/debrup/miniconda3/envs/def/lib/python3.11/site-packages (from requests<3.0.0,>=2.0.0->wikipedia) (1.26.15)\n",
      "Requirement already satisfied: certifi>=2017.4.17 in /Users/debrup/miniconda3/envs/def/lib/python3.11/site-packages (from requests<3.0.0,>=2.0.0->wikipedia) (2022.12.7)\n",
      "Requirement already satisfied: soupsieve>1.2 in /Users/debrup/miniconda3/envs/def/lib/python3.11/site-packages (from beautifulsoup4->wikipedia) (2.4)\n",
      "Note: you may need to restart the kernel to use updated packages.\n"
     ]
    }
   ],
   "source": [
    "pip install wikipedia"
   ]
  },
  {
   "cell_type": "code",
   "execution_count": 72,
   "id": "10463070",
   "metadata": {},
   "outputs": [
    {
     "name": "stdout",
     "output_type": "stream",
     "text": [
      "Matching page titles:\n",
      "List of The Simpsons guest stars (seasons 21–present)\n",
      "List of The Simpsons episodes (season 21–present)\n",
      "List of The Simpsons episodes\n",
      "The Simpsons (season 34)\n",
      "The Simpsons\n",
      "Rosebud (The Simpsons)\n",
      "Mona Simpson (The Simpsons)\n",
      "List of The Simpsons cast members\n",
      "List of The Simpsons episodes (seasons 1–20)\n",
      "Jimmi Simpson\n",
      "Page summary: In addition to the show's regular cast of voice actors, celebrity guest stars have been a staple of The Simpsons, an American animated television sitcom created by Matt Groening for the Fox Broadcasting Company, since its first season. The Simpsons focuses on the eponymous family, which consists of Homer, Marge, Bart, Lisa and Maggie. The family was initially conceived by Groening for a series of animated shorts, which originally aired as a part of The Tracey Ullman Show between 1987 and 1989. The shorts were developed into a half-hour prime time series which began in December 1989. The series' 34th season began on September 25, 2022, and 745 episodes of The Simpsons have aired. A feature film adaptation of the series called The Simpsons Movie, was released in 2007.\n",
      "Guest voices have come from a wide range of professions, including actors, athletes, authors, musicians, artists, politicians and scientists. In the show's early years most guest stars voiced original characters, but as the show has continued the number of those appearing as themselves has increased.\n",
      "The first credited guest star was Marcia Wallace who appeared in \"Bart the Genius\" in her first stint as Bart's teacher Edna Krabappel. Singer Tony Bennett was the first guest star to appear as himself, appearing briefly in the season two episode \"Dancin' Homer\". Several guest stars have featured as recurring characters on the show, including Phil Hartman, Joe Mantegna and Kelsey Grammer. After Wallace, Hartman made the most appearances, guest starring 52 times. Mantegna has appeared over forty times, Grammer, Maurice LaMarche, Jon Lovitz and Frank Welker have appeared twenty times or more; Albert Brooks, Glenn Close and Jackie Mason have appeared ten or more times, while Michael Dees, Dana Gould, Terry W. Greene, Valerie Harper, Jan Hooks, Jane Kaczmarek, Stacy Keach, Kipp Lennon, J. K. Simmons, Sally Stevens, George Takei and Michael York have made over five appearances.\n",
      "Three guest stars, Ricky Gervais, Seth Rogen and Pete Holmes, earned writing credits for the episodes in which they appeared. Grammer, Mason and three-time guest star Anne Hathaway all won the Primetime Emmy Award for Outstanding Voice-Over Performance for guest voice roles on the show. The show was awarded the Guinness World Record for \"Most Guest Stars Featured in a TV Series\" in 2010. As of March 19, 2023, there have been 953 guest stars on the show,[A] with this figure rising to 957 if The Simpsons Movie is included.\n",
      "\n",
      "\n"
     ]
    }
   ],
   "source": [
    "import wikipedia\n",
    "\n",
    "# Query text\n",
    "query = \"List_of_The_Simpsons_guest_stars_(seasons 21–present)\"\n",
    "\n",
    "# Search for matching page titles\n",
    "results = wikipedia.search(query)\n",
    "\n",
    "# Print the list of matching page titles\n",
    "print(\"Matching page titles:\")\n",
    "for title in results:\n",
    "    print(title)\n",
    "\n",
    "# Choose a page to retrieve\n",
    "page_title = results[0]\n",
    "\n",
    "# Retrieve the content of the page\n",
    "page = wikipedia.page(page_title)\n",
    "\n",
    "# Print the page summary and content\n",
    "print(\"Page summary:\", page.summary)\n",
    "##print(\"Page content:\", page.content)\n"
   ]
  },
  {
   "cell_type": "markdown",
   "id": "a8ca7556",
   "metadata": {},
   "source": [
    "### Compute Similarity between the Claim and the Candidate Evidences found using TF-IDF"
   ]
  },
  {
   "cell_type": "code",
   "execution_count": 29,
   "id": "5a0ebe4e",
   "metadata": {},
   "outputs": [],
   "source": [
    "import sqlite3\n",
    "\n",
    "# Open a connection to the database file\n",
    "conn = sqlite3.connect(db_path)\n",
    "\n",
    "# Create a cursor object to execute SQL commands\n",
    "cursor = conn.cursor()\n",
    "\n",
    "query = \"SELECT lines FROM documents\"\n",
    "cursor.execute(query)\n",
    "\n",
    "results = cursor.fetchall()\n"
   ]
  },
  {
   "cell_type": "code",
   "execution_count": 30,
   "id": "f5464364",
   "metadata": {},
   "outputs": [
    {
     "name": "stdout",
     "output_type": "stream",
     "text": [
      "['0 A Diffusion limited enzyme is an enzyme which catalyses a reaction so efficiently that the rate limiting step is that of substrate diffusion into the active site , or product diffusion out . enzyme enzyme catalyses catalysis rate limiting step rate limiting step substrate enzyme substrate diffusion diffusion active site active site product product (chemistry) 1 This is also known as kinetic perfection or catalytic perfection . 2 Since the rate of catalysis of such enzymes is set by the diffusion-controlled reaction , it therefore represents an intrinsic , physical constraint on evolution -LRB- a maximum peak height in the fitness landscape -RRB- . diffusion diffusion diffusion-controlled reaction diffusion-controlled reaction fitness landscape fitness landscape fitness fitness (biology) 3 Diffusion limited perfect enzymes are very rare . 4 Most enzymes catalyse their reactions to a rate that is 1,000-10 ,000 times slower than this limit . 5 This is due to both the chemical limitations of difficult reactions , and the evolutionary limitations that such high reaction rates do not confer any extra fitness .', '0 Dehnow -LRB- ده نو , also known as Dehnow Barbarood -RRB- is a village in Zalaqi-ye Sharqi Rural District , Besharat District , Aligudarz County , Lorestan Province , Iran . Province Provinces of Iran Lorestan Lorestan Province County Counties of Iran Aligudarz Aligudarz County Besharat Besharat District Rural District Rural Districts of Iran Zalaqi-ye Sharqi Zalaqi-ye Sharqi Rural District Zalaqi-ye Sharqi Rural District Zalaqi-ye Sharqi Rural District Besharat District Besharat District Aligudarz County Aligudarz County Lorestan Province Lorestan Province Iran Iran 1 At the 2006 census , its population was 33 , comprised by five families .', \"0 Kacamchand `` Danny '' Ramnarais -LRB- born 20 June 1964 in Guyana -RRB- was a Guyanese and Canadian cricket player . Guyana Guyana cricket cricket 1 He played three first-class matches in the mid-1980s , and later played for the Canadian national team in two ICC Trophy tournaments plus the 1998 Commonwealth Games .\"]\n"
     ]
    }
   ],
   "source": [
    "L = len(results)\n",
    "documents = []\n",
    "for i in range(0, 3):\n",
    "    document = results[i][0]\n",
    "    \n",
    "    # remove tab characters\n",
    "    document = document.replace('\\t', ' ')\n",
    "    \n",
    "    # remove all words after last . (the links to other pages)\n",
    "    last_period_index = document.rfind(\".\")\n",
    "\n",
    "   # Remove everything after the last period\n",
    "\n",
    "    if last_period_index != -1:\n",
    "        document = document[:last_period_index+1]\n",
    "    \n",
    "#     while len(document) >= 1 and document[0].isdigit():\n",
    "#         try:\n",
    "#             document = document[1:]\n",
    "                    \n",
    "#         except:\n",
    "#             document=''\n",
    "#             break\n",
    "\n",
    "    document = ' '.join(document.split())\n",
    "    \n",
    "    documents.append(document)\n",
    "    \n",
    "print((documents))"
   ]
  },
  {
   "cell_type": "markdown",
   "id": "f22aa232",
   "metadata": {},
   "source": [
    "### Term frequency and inverse document frequency\n"
   ]
  },
  {
   "cell_type": "code",
   "execution_count": 31,
   "id": "cc10dbf9",
   "metadata": {},
   "outputs": [],
   "source": [
    "from sklearn.feature_extraction.text import TfidfVectorizer\n",
    "from sklearn.metrics.pairwise import cosine_similarity"
   ]
  },
  {
   "cell_type": "code",
   "execution_count": 32,
   "id": "78b3f3b0",
   "metadata": {},
   "outputs": [
    {
     "name": "stdout",
     "output_type": "stream",
     "text": [
      "['Nikolaj Coster-Waldau worked with the Fox Broadcasting Company.', 'Roman Atwood is a content creator.', 'History of art includes architecture, dance, sculpture, music, painting, poetry literature, theatre, narrative, film, photography and graphic arts.']\n"
     ]
    }
   ],
   "source": [
    "print(claim_test_lines)"
   ]
  },
  {
   "cell_type": "markdown",
   "id": "b8762777",
   "metadata": {},
   "source": [
    "### Extract all sentences with relevance scores  as tuples "
   ]
  },
  {
   "cell_type": "code",
   "execution_count": 33,
   "id": "8e970ade",
   "metadata": {},
   "outputs": [],
   "source": [
    "\n",
    "vectorizer = TfidfVectorizer()\n",
    "\n",
    "# Vectorize the claim and evidences\n",
    "vectors = vectorizer.fit_transform(documents)\n",
    "# candidate_sentence = candidate_lines[0]\n",
    "\n",
    "# Candidate_lines[i] -> the collection of candidate lines in an ith claim from all retrieved documents\n",
    "\n",
    "\n",
    "claim_similarities = []\n",
    "for i in range(len(claim_test_lines)):\n",
    "    similarity_scores_list = []\n",
    "    sim_score = {}\n",
    "    claim = claim_test_lines[i]\n",
    "    \n",
    "    max_similarity_score = 0\n",
    "    max_candidate_sentence = \"\"\n",
    "    \n",
    "    for key in candidate_lines[i].keys():\n",
    "        similarity_all_sentences = []\n",
    "        candidate_list_sentence = candidate_lines[i][key]\n",
    "        \n",
    "        for idx in range(len(candidate_list_sentence)) :\n",
    "            \n",
    "            candidate_sentence = candidate_list_sentence[idx]\n",
    "           # Vectorize the new sentences\n",
    "            new_vectors = vectorizer.transform([claim,candidate_sentence])\n",
    "\n",
    "           # Calculate cosine similarity between the two new sentences\n",
    "            similarity_scores = cosine_similarity(new_vectors)\n",
    "            \n",
    "            max_similarity_score = max(max_similarity_score, similarity_scores[0][1])\n",
    "            if(similarity_scores[0][1] == max_similarity_score):\n",
    "                max_candidate_sentence = candidate_sentence\n",
    "            \n",
    "            similarity_scores_list.append((key,idx, candidate_sentence, similarity_scores[0][1]))\n",
    "        \n",
    "    claim_similarities.append(similarity_scores_list)\n",
    "    "
   ]
  },
  {
   "cell_type": "code",
   "execution_count": 34,
   "id": "b6ada642",
   "metadata": {},
   "outputs": [
    {
     "data": {
      "text/plain": [
       "[[('Nikolaj_Coster-Waldau',\n",
       "   0,\n",
       "   'Nikolaj Coster-Waldau -LRB- -LSB- neɡ̊olaɪ̯ kʰʌsd̥ɐ ˈʋald̥ɑʊ̯ -RSB- ; born 27 July 1970 -RRB- is a Danish actor , producer and screenwriter .',\n",
       "   0.0),\n",
       "  ('Nikolaj_Coster-Waldau',\n",
       "   1,\n",
       "   'He graduated from Danish National School of Theatre in Copenhagen in 1993 .',\n",
       "   0.0),\n",
       "  ('Nikolaj_Coster-Waldau',\n",
       "   2,\n",
       "   \"Coster-Waldau 's breakthrough performance in Denmark was his role in the film Nightwatch -LRB- 1994 -RRB- .\",\n",
       "   0.33985062364609137),\n",
       "  ('Nikolaj_Coster-Waldau',\n",
       "   3,\n",
       "   'Since then he has appeared in numerous films in his native Scandinavia and Europe in general , including Headhunters -LRB- 2011 -RRB- and A Thousand Times Good Night -LRB- 2013 -RRB- .',\n",
       "   0.0),\n",
       "  ('Nikolaj_Coster-Waldau', 4, '', 0.0),\n",
       "  ('Nikolaj_Coster-Waldau', 5, '', 0.0),\n",
       "  ('Nikolaj_Coster-Waldau',\n",
       "   6,\n",
       "   'In the United States , his debut film role was in the war film Black Hawk Down -LRB- 2001 -RRB- , playing Medal of Honor recipient Gary Gordon .',\n",
       "   0.5480737748800985),\n",
       "  ('Nikolaj_Coster-Waldau',\n",
       "   7,\n",
       "   'He then played Detective John Amsterdam in the short-lived Fox television series New Amsterdam -LRB- 2008 -RRB- , as well as appearing as Frank Pike in the 2009 Fox television film Virtuality , originally intended as a pilot .',\n",
       "   0.30764317366318783),\n",
       "  ('Nikolaj_Coster-Waldau',\n",
       "   8,\n",
       "   'He became widely known to a broad audience for his current role as Ser Jaime Lannister , in the HBO series Game of Thrones .',\n",
       "   0.2533910700140413),\n",
       "  ('Nikolaj_Coster-Waldau',\n",
       "   9,\n",
       "   'In 2017 , he became one of the highest paid actors on television and earned # 2 million per episode of Game of Thrones .',\n",
       "   0.2027986837437102),\n",
       "  ('Nikolaj_Coster-Waldau', 10, '', 0.0),\n",
       "  ('Fox_Broadcasting_Company',\n",
       "   0,\n",
       "   'The Fox Broadcasting Company -LRB- often shortened to Fox and stylized as FOX -RRB- is an American English language commercial broadcast television network that is owned by the Fox Entertainment Group subsidiary of 21st Century Fox .',\n",
       "   0.3788772929120618),\n",
       "  ('Fox_Broadcasting_Company',\n",
       "   1,\n",
       "   'The network is headquartered at the 20th Century Fox studio lot on Pico Boulevard in the Century City section of Los Angeles , with additional major offices and production facilities at the Fox Television Center in nearby West Los Angeles and the Fox Broadcasting Center in the Yorkville neighborhood of Manhattan , New York City .',\n",
       "   0.6962784459401956),\n",
       "  ('Fox_Broadcasting_Company',\n",
       "   2,\n",
       "   'It is the third largest major television network in the world based on total revenues , assets , and international coverage .',\n",
       "   0.533575370787567),\n",
       "  ('Fox_Broadcasting_Company', 3, '', 0.0),\n",
       "  ('Fox_Broadcasting_Company', 4, '', 0.0),\n",
       "  ('Fox_Broadcasting_Company',\n",
       "   5,\n",
       "   'Launched on October 9 , 1986 as a competitor to the Big Three television networks -LRB- ABC , NBC and CBS -RRB- , Fox went on to become the most successful attempt at a fourth television network .',\n",
       "   0.3129186584040367),\n",
       "  ('Fox_Broadcasting_Company',\n",
       "   6,\n",
       "   'It was the highest-rated broadcast network in the 18 -- 49 demographic from 2004 to 2012 , and earned the position as the most-watched American television network in total viewership during the 2007 -- 08 season .',\n",
       "   0.7662925917871872),\n",
       "  ('Fox_Broadcasting_Company', 7, '', 0.0),\n",
       "  ('Fox_Broadcasting_Company', 8, '', 0.0),\n",
       "  ('Fox_Broadcasting_Company',\n",
       "   9,\n",
       "   'Fox and its affiliated companies operate many entertainment channels in international markets , although these do not necessarily air the same programming as the U.S. network .',\n",
       "   0.4862670442345278),\n",
       "  ('Fox_Broadcasting_Company',\n",
       "   10,\n",
       "   \"Most viewers in Canada have access to at least one U.S.-based Fox affiliate , either over-the-air or through a pay television provider , although Fox 's National Football League telecasts and most of its prime time programming are subject to simultaneous substitution regulations for cable and satellite providers imposed by the Canadian Radio-television and Telecommunications Commission -LRB- CRTC -RRB- to protect rights held by domestically based networks .\",\n",
       "   0.21374951937191025),\n",
       "  ('Fox_Broadcasting_Company', 11, '', 0.0),\n",
       "  ('Fox_Broadcasting_Company', 12, '', 0.0),\n",
       "  ('Fox_Broadcasting_Company',\n",
       "   13,\n",
       "   \"The network is named after sister company 20th Century Fox , and indirectly for producer William Fox , who founded one of the movie studio 's predecessors , Fox Film .\",\n",
       "   0.5812106375713183),\n",
       "  ('Fox_Broadcasting_Company',\n",
       "   14,\n",
       "   'Fox is a member of the North American Broadcasters Association and the National Association of Broadcasters .',\n",
       "   0.4877251237651747),\n",
       "  ('Fox_Broadcasting_Company', 15, '', 0.0)],\n",
       " [('Roman_Atwood',\n",
       "   0,\n",
       "   'Roman Bernard Atwood -LRB- born May 28 , 1983 -RRB- is an American YouTube personality , comedian , vlogger and pranker .',\n",
       "   0.3873758317012295),\n",
       "  ('Roman_Atwood',\n",
       "   1,\n",
       "   'He is best known for his vlogs , where he posts updates about his life on a daily basis .',\n",
       "   0.2842853829563292),\n",
       "  ('Roman_Atwood',\n",
       "   2,\n",
       "   \"His vlogging channel , `` RomanAtwoodVlogs '' , has a total of 3.3 billion views and 11.9 million subscribers .\",\n",
       "   0.0),\n",
       "  ('Roman_Atwood',\n",
       "   3,\n",
       "   \"He also has another YouTube channel called `` RomanAtwood '' , where he posts pranks .\",\n",
       "   0.0),\n",
       "  ('Roman_Atwood',\n",
       "   4,\n",
       "   'His prank videos have gained over 1.4 billion views and 10.3 million subscribers .',\n",
       "   0.0),\n",
       "  ('Roman_Atwood',\n",
       "   5,\n",
       "   'Both of these channels are in the top 100 most subscribed on YouTube , and he became the second YouTuber after Germán Garmendia to receive two Diamond Play Buttons for his two channels .',\n",
       "   0.0),\n",
       "  ('Roman_Atwood', 6, '', 0.0),\n",
       "  ('Content_creation',\n",
       "   0,\n",
       "   'Content Creation is the contribution of information to any media and most especially to digital media for an end-user/audience in specific contexts .',\n",
       "   0.23545742518697885),\n",
       "  ('Content_creation',\n",
       "   1,\n",
       "   \"Content is `` something that is to be expressed through some medium , as speech , writing or any of various arts '' for self-expression , distribution , marketing and/or publication .\",\n",
       "   0.43819972858563416),\n",
       "  ('Content_creation',\n",
       "   2,\n",
       "   'Typical forms of content creation include maintaining and updating web sites , blogging , photography , videography , online commentary , the maintenance of social media accounts , and editing and distribution of digital media .',\n",
       "   0.0),\n",
       "  ('Content_creation',\n",
       "   3,\n",
       "   'A Pew survey described content creation as the creation of `` the material people contribute to the online world .',\n",
       "   0.0),\n",
       "  ('Content_creation', 4, '', 0.0)],\n",
       " [('History_of_art',\n",
       "   0,\n",
       "   'The history of art is the history of any activity or product made by humans in a visual form for aesthetical or communicative purposes , expressing ideas , emotions or , in general , a worldview .',\n",
       "   0.25169029445723984),\n",
       "  ('History_of_art',\n",
       "   1,\n",
       "   'Over time visual art has been classified in diverse ways , from the medieval distinction between liberal arts and mechanical arts , to the modern distinction between fine arts and applied arts , or to the many contemporary definitions , which define art as a manifestation of human creativity .',\n",
       "   0.4481670970988545),\n",
       "  ('History_of_art',\n",
       "   2,\n",
       "   'The subsequent expansion of the list of principal arts in the 20th century reached to nine : architecture , dance , sculpture , music , painting , poetry -LRB- described broadly as a form of literature with aesthetic purpose or function , which also includes the distinct genres of theatre and narrative -RRB- , film , photography and graphic arts .',\n",
       "   0.6824754865750613),\n",
       "  ('History_of_art',\n",
       "   3,\n",
       "   'In addition to the old forms of artistic expression such as fashion and gastronomy , new modes of expression are being considered as arts such as video , computer art , performance , advertising , animation , television and videogames .',\n",
       "   0.5290742827516312),\n",
       "  ('History_of_art', 4, '', 0.0),\n",
       "  ('History_of_art', 5, '', 0.0),\n",
       "  ('History_of_art',\n",
       "   6,\n",
       "   'The history of art is a multidisciplinary branch of the arts and sciences , seeking an objective examination of art throughout time , classifying cultures , establishing periodizations , and observing the distinctive and influential characteristics of art .',\n",
       "   0.8596016117542263),\n",
       "  ('History_of_art',\n",
       "   7,\n",
       "   'The study of the history of art was initially developed during the Renaissance , with its limited scope being the artistic production of Western civilization .',\n",
       "   0.4412979714660458),\n",
       "  ('History_of_art',\n",
       "   8,\n",
       "   'However , as time has passed , it has imposed a broader view of artistic history , seeking a comprehensive overview of all the civilizations and analysis of their artistic production in terms of their own cultural values -LRB- cultural relativism -RRB- , and not just western art history .',\n",
       "   0.7299095404296726),\n",
       "  ('History_of_art', 9, '', 0.0),\n",
       "  ('History_of_art', 10, '', 0.0),\n",
       "  ('History_of_art',\n",
       "   11,\n",
       "   'Today , art enjoys a wide network of study , dissemination and preservation of all the artistic legacy of mankind throughout history .',\n",
       "   0.8686178569505373),\n",
       "  ('History_of_art',\n",
       "   12,\n",
       "   'The 20th century has seen the proliferation of institutions , foundations , art museums and galleries , in both the public and private sectors , dedicated to the analysis and cataloging of works of art as well as exhibitions aimed at a mainstream audience .',\n",
       "   0.6933820010938917),\n",
       "  ('History_of_art',\n",
       "   13,\n",
       "   'The rise of media has been crucial in improving the study and dissemination of art .',\n",
       "   0.7492766422895671),\n",
       "  ('History_of_art',\n",
       "   14,\n",
       "   'International events and exhibitions like the Whitney Biennial and biennales of Venice and São Paulo or the Documenta of Kassel have helped the development of new styles and trends .',\n",
       "   0.8728650987816711),\n",
       "  ('History_of_art',\n",
       "   15,\n",
       "   'Prizes such as the Turner of the Tate Gallery , the Wolf Prize in Arts , the Pritzker Prize of architecture , the Pulitzer of photography and the Oscar of cinema also promote the best creative work on an international level .',\n",
       "   0.4796120959228326),\n",
       "  ('History_of_art',\n",
       "   16,\n",
       "   'Institutions like UNESCO , with the establishment of the World Heritage Site lists , also help the conservation of the major monuments of the planet .',\n",
       "   0.40972154449644066),\n",
       "  ('History_of_art', 17, '', 0.0),\n",
       "  ('History',\n",
       "   0,\n",
       "   \"History -LRB- from Greek ἱστορία , historia , meaning `` inquiry , knowledge acquired by investigation '' -RRB- is the study of the past as it is described in written documents .\",\n",
       "   0.19649024187835964),\n",
       "  ('History',\n",
       "   1,\n",
       "   'Events occurring before written record are considered prehistory .',\n",
       "   0.0),\n",
       "  ('History',\n",
       "   2,\n",
       "   'It is an umbrella term that relates to past events as well as the memory , discovery , collection , organization , presentation , and interpretation of information about these events .',\n",
       "   0.371151084358374),\n",
       "  ('History',\n",
       "   3,\n",
       "   'Scholars who write about history are called historians .',\n",
       "   0.0),\n",
       "  ('History', 4, '', 0.0),\n",
       "  ('History', 5, '', 0.0),\n",
       "  ('History',\n",
       "   6,\n",
       "   'History can also refer to the academic discipline which uses a narrative to examine and analyse a sequence of past events , and objectively determine the patterns of cause and effect that determine them .',\n",
       "   0.6831287419990393),\n",
       "  ('History',\n",
       "   7,\n",
       "   \"Historians sometimes debate the nature of history and its usefulness by discussing the study of the discipline as an end in itself and as a way of providing `` perspective '' on the problems of the present .\",\n",
       "   0.6264489276309433),\n",
       "  ('History', 8, '', 0.0),\n",
       "  ('History', 9, '', 0.0),\n",
       "  ('History',\n",
       "   10,\n",
       "   \"Stories common to a particular culture , but not supported by external sources -LRB- such as the tales surrounding King Arthur -RRB- , are usually classified as cultural heritage or legends , because they do not show the `` disinterested investigation '' required of the discipline of history .\",\n",
       "   0.2532084618638697),\n",
       "  ('History',\n",
       "   11,\n",
       "   \"Herodotus , a 5th-century BC Greek historian is considered within the Western tradition to be the `` father of history '' , and , along with his contemporary Thucydides , helped form the foundations for the modern study of human history .\",\n",
       "   0.48529624279983985),\n",
       "  ('History',\n",
       "   12,\n",
       "   'Their works continue to be read today , and the gap between the culture-focused Herodotus and the military-focused Thucydides remains a point of contention or approach in modern historical writing .',\n",
       "   0.5267596470768332),\n",
       "  ('History',\n",
       "   13,\n",
       "   'In Asia , a state chronicle , the Spring and Autumn Annals was known to be compiled from as early as 722 BC although only 2nd-century BC texts survived .',\n",
       "   0.22433605955125527),\n",
       "  ('History', 14, '', 0.0),\n",
       "  ('History', 15, '', 0.0),\n",
       "  ('History',\n",
       "   16,\n",
       "   'Ancient influences have helped spawn variant interpretations of the nature of history which have evolved over the centuries and continue to change today .',\n",
       "   0.6434100895556233),\n",
       "  ('History',\n",
       "   17,\n",
       "   'The modern study of history is wide-ranging , and includes the study of specific regions and the study of certain topical or thematical elements of historical investigation .',\n",
       "   0.7995491652787601),\n",
       "  ('History',\n",
       "   18,\n",
       "   'Often history is taught as part of primary and secondary education , and the academic study of history is a major discipline in university studies .',\n",
       "   0.7504233043547751),\n",
       "  ('History', 19, '', 0.0),\n",
       "  ('Art',\n",
       "   0,\n",
       "   \"Art is a diverse range of human activities in creating visual , auditory or performing artifacts -LRB- artworks -RRB- , expressing the author 's imaginative or technical skill , intended to be appreciated for their beauty or emotional power .\",\n",
       "   0.1409730117820783),\n",
       "  ('Art',\n",
       "   1,\n",
       "   'In their most general form these activities include the production of works of art , the criticism of art , the study of the history of art , and the aesthetic dissemination of art .',\n",
       "   0.6606232939447159),\n",
       "  ('Art', 2, '', 0.0),\n",
       "  ('Art', 3, '', 0.0),\n",
       "  ('Art',\n",
       "   4,\n",
       "   'The oldest documented forms of art are visual arts , which include creation of images or objects in fields including painting , sculpture , printmaking , photography , and other visual media .',\n",
       "   0.6284763690702422),\n",
       "  ('Art',\n",
       "   5,\n",
       "   'Architecture is often included as one of the visual arts ; however , like the decorative arts , or advertising , it involves the creation of objects where the practical considerations of use are essential -- in a way that they usually are not in a painting , for example .',\n",
       "   0.3413413457657956),\n",
       "  ('Art',\n",
       "   6,\n",
       "   'Music , theatre , film , dance , and other performing arts , as well as literature and other media such as interactive media , are included in a broader definition of art or the arts .',\n",
       "   0.4697498735597676),\n",
       "  ('Art',\n",
       "   7,\n",
       "   'Until the 17th century , art referred to any skill or mastery and was not differentiated from crafts or sciences .',\n",
       "   0.1843935777342509),\n",
       "  ('Art',\n",
       "   8,\n",
       "   'In modern usage after the 17th century , where aesthetic considerations are paramount , the fine arts are separated and distinguished from acquired skills in general , such as the decorative or applied arts .',\n",
       "   0.1572761255812272),\n",
       "  ('Art', 9, '', 0.0),\n",
       "  ('Art', 10, '', 0.0),\n",
       "  ('Art',\n",
       "   11,\n",
       "   'Art may be characterized in terms of mimesis -LRB- its representation of reality -RRB- , expression , communication of emotion , or other qualities .',\n",
       "   0.5616148099364486),\n",
       "  ('Art',\n",
       "   12,\n",
       "   \"During the Romantic period , art came to be seen as `` a special faculty of the human mind to be classified with religion and science '' .\",\n",
       "   0.40278074619708887),\n",
       "  ('Art',\n",
       "   13,\n",
       "   'Though the definition of what constitutes art is disputed and has changed over time , general descriptions mention an idea of imaginative or technical skill stemming from human agency and creation .',\n",
       "   0.7826332528358582),\n",
       "  ('Art', 14, '', 0.0),\n",
       "  ('Art', 15, '', 0.0),\n",
       "  ('Art',\n",
       "   16,\n",
       "   'The nature of art and related concepts , such as creativity and interpretation , are explored in a branch of philosophy known as aesthetics .',\n",
       "   0.6729773868585175),\n",
       "  ('Art', 17, '', 0.0),\n",
       "  ('Architecture',\n",
       "   0,\n",
       "   \"Architecture -LRB- Latin architectura #Latin , from the Greek ἀρχιτέκτων arkhitekton `` architect '' , from ἀρχι - `` chief '' and τέκτων `` builder '' -RRB- is both the process and the product of planning , designing , and constructing buildings and other physical structures .\",\n",
       "   0.6474345967108739),\n",
       "  ('Architecture',\n",
       "   1,\n",
       "   'Architectural works , in the material form of buildings , are often perceived as cultural symbols and as works of art .',\n",
       "   0.6140353832237566),\n",
       "  ('Architecture',\n",
       "   2,\n",
       "   'Historical civilizations are often identified with their surviving architectural achievements .',\n",
       "   0.0),\n",
       "  ('Architecture', 3, '', 0.0),\n",
       "  ('Architecture', 4, '', 0.0),\n",
       "  ('Architecture', 5, \"`` Architecture '' can mean :\", 0.0),\n",
       "  ('Architecture', 6, '', 0.0),\n",
       "  ('Architecture',\n",
       "   7,\n",
       "   'A general term to describe buildings and other physical structures .',\n",
       "   0.3349067026613031),\n",
       "  ('Architecture', 8, '', 0.0),\n",
       "  ('Architecture',\n",
       "   9,\n",
       "   'The art and science of designing buildings and -LRB- some -RRB- nonbuilding structures .',\n",
       "   0.8129351517652247),\n",
       "  ('Architecture', 10, '', 0.0),\n",
       "  ('Architecture',\n",
       "   11,\n",
       "   'The style of design and method of construction of buildings and other physical structures .',\n",
       "   0.9029331641369582),\n",
       "  ('Architecture', 12, '', 0.0),\n",
       "  ('Architecture', 13, 'A unifying or coherent form or structure', 0.0),\n",
       "  ('Architecture', 14, '', 0.0),\n",
       "  ('Architecture',\n",
       "   15,\n",
       "   'Knowledge of art , science , technology , and humanity .',\n",
       "   1.0000000000000002),\n",
       "  ('Architecture', 16, '', 0.0),\n",
       "  ('Architecture',\n",
       "   17,\n",
       "   'The design activity of the architect , from the macro-level -LRB- urban design , landscape architecture -RRB- to the micro-level -LRB- construction details and furniture -RRB- .',\n",
       "   0.31676675142807237),\n",
       "  ('Architecture',\n",
       "   18,\n",
       "   'The practice of the architect , where architecture means offering or rendering professional services in connection with the design and construction of buildings , or built environments .',\n",
       "   0.5007441049089841),\n",
       "  ('Architecture', 19, '', 0.0),\n",
       "  ('Dance',\n",
       "   0,\n",
       "   'Dance is a performing art form consisting of purposefully selected sequences of human movement .',\n",
       "   0.632455532033676),\n",
       "  ('Dance',\n",
       "   1,\n",
       "   'This movement has aesthetic and symbolic value , and is acknowledged as dance by performers and observers within a particular culture .',\n",
       "   0.5725168120709276),\n",
       "  ('Dance',\n",
       "   2,\n",
       "   'Dance can be categorized and described by its choreography , by its repertoire of movements , or by its historical period or place of origin .',\n",
       "   0.3512398200277076),\n",
       "  ('Dance', 3, '', 0.0),\n",
       "  ('Dance', 4, '', 0.0),\n",
       "  ('Dance',\n",
       "   5,\n",
       "   'An important distinction is to be drawn between the contexts of theatrical and participatory dance , although these two categories are not always completely separate ; both may have special functions , whether social , ceremonial , competitive , erotic , martial , or sacred/liturgical .',\n",
       "   0.35685333267537517),\n",
       "  ('Dance',\n",
       "   6,\n",
       "   'Other forms of human movement are sometimes said to have a dance-like quality , including martial arts , gymnastics , cheerleading , figure skating , synchronized swimming , marching bands , and many other forms of athletics .',\n",
       "   0.7294190328096386),\n",
       "  ('Dance', 7, '', 0.0),\n",
       "  ('Sculpture',\n",
       "   0,\n",
       "   'Sculpture is the branch of the visual arts that operates in three dimensions .',\n",
       "   0.24291785114549017),\n",
       "  ('Sculpture', 1, 'It is one of the plastic arts .', 0.3397353908034664),\n",
       "  ('Sculpture',\n",
       "   2,\n",
       "   'Durable sculptural processes originally used carving -LRB- the removal of material -RRB- and modelling -LRB- the addition of material , as clay -RRB- , in stone , metal , ceramics , wood and other materials but , since Modernism , there has been an almost complete freedom of materials and process .',\n",
       "   0.7707779538253718),\n",
       "  ('Sculpture',\n",
       "   3,\n",
       "   'A wide variety of materials may be worked by removal such as carving , assembled by welding or modelling , or molded , or cast .',\n",
       "   0.14652399334778976),\n",
       "  ('Sculpture', 4, '', 0.0),\n",
       "  ('Sculpture', 5, '', 0.0),\n",
       "  ('Sculpture',\n",
       "   6,\n",
       "   'Sculpture in stone survives far better than works of art in perishable materials , and often represents the majority of the surviving works -LRB- other than pottery -RRB- from ancient cultures , though conversely traditions of sculpture in wood may have vanished almost entirely .',\n",
       "   0.5374974459297954),\n",
       "  ('Sculpture',\n",
       "   7,\n",
       "   'However , most ancient sculpture was brightly painted , and this has been lost .',\n",
       "   0.3026742540531458),\n",
       "  ('Sculpture', 8, '', 0.0),\n",
       "  ('Sculpture', 9, '', 0.0),\n",
       "  ('Sculpture',\n",
       "   10,\n",
       "   'Sculpture has been central in religious devotion in many cultures , and until recent centuries large sculptures , too expensive for private individuals to create , were usually an expression of religion or politics .',\n",
       "   0.4201829214890554),\n",
       "  ('Sculpture',\n",
       "   11,\n",
       "   'Those cultures whose sculptures have survived in quantities include the cultures of the ancient Mediterranean , India and China , as well as many in South America and Africa .',\n",
       "   0.5705293418221705),\n",
       "  ('Sculpture', 12, '', 0.0),\n",
       "  ('Sculpture', 13, '', 0.0),\n",
       "  ('Sculpture',\n",
       "   14,\n",
       "   'The Western tradition of sculpture began in ancient Greece , and Greece is widely seen as producing great masterpieces in the classical period .',\n",
       "   0.476062939276793),\n",
       "  ('Sculpture',\n",
       "   15,\n",
       "   'During the Middle Ages , Gothic sculpture represented the agonies and passions of the Christian faith .',\n",
       "   0.5189008654715492),\n",
       "  ('Sculpture',\n",
       "   16,\n",
       "   \"The revival of classical models in the Renaissance produced famous sculptures such as Michelangelo 's David .\",\n",
       "   0.27227924355613703),\n",
       "  ('Sculpture',\n",
       "   17,\n",
       "   'Modernist sculpture moved away from traditional processes and the emphasis on the depiction of the human body , with the making of constructed sculpture , and the presentation of found objects as finished art works .',\n",
       "   0.6369950977085417),\n",
       "  ('Sculpture', 18, '', 0.0),\n",
       "  ('Music',\n",
       "   0,\n",
       "   'Music is an art form and cultural activity whose medium is sound organized in time .',\n",
       "   0.26114022937359405),\n",
       "  ('Music',\n",
       "   1,\n",
       "   \"The common elements of music are pitch -LRB- which governs melody and harmony -RRB- , rhythm -LRB- and its associated concepts tempo , meter , and articulation -RRB- , dynamics -LRB- loudness and softness -RRB- , and the sonic qualities of timbre and texture -LRB- which are sometimes termed the `` color '' of a musical sound -RRB- .\",\n",
       "   0.6891064877144559),\n",
       "  ('Music',\n",
       "   2,\n",
       "   'Different styles or types of music may emphasize , de-emphasize or omit some of these elements .',\n",
       "   0.4280460350631186),\n",
       "  ('Music',\n",
       "   3,\n",
       "   'Music is performed with a vast range of instruments and vocal techniques ranging from singing to rapping ; there are solely instrumental pieces , solely vocal pieces -LRB- such as songs without instrumental accompaniment -RRB- and pieces that combine singing and instruments .',\n",
       "   0.6305381836394196),\n",
       "  ('Music',\n",
       "   4,\n",
       "   \"The word derives from Greek μουσική #Ancient Greek -LRB- mousike ; `` art of the Muses '' -RRB- .\",\n",
       "   0.3290276704958311),\n",
       "  ('Music', 5, '', 0.0),\n",
       "  ('Music', 6, '', 0.0),\n",
       "  ('Music',\n",
       "   7,\n",
       "   'In its most general form , the activities describing music as an art form or cultural activity include the creation of works of music -LRB- songs , tunes , symphonies , and so on -RRB- , the criticism of music , the study of the history of music , and the aesthetic examination of music .',\n",
       "   0.6536593698626676),\n",
       "  ('Music',\n",
       "   8,\n",
       "   'Ancient Greek and Indian philosophers defined music as tones ordered horizontally as melodies and vertically as harmonies .',\n",
       "   0.3922322702763681),\n",
       "  ('Music',\n",
       "   9,\n",
       "   \"Common sayings such as `` the harmony of the spheres '' and `` it is music to my ears '' point to the notion that music is often ordered and pleasant to listen to .\",\n",
       "   0.30530627216718753),\n",
       "  ('Music',\n",
       "   10,\n",
       "   'However , 20th-century composer John Cage thought that any sound can be music , saying , for example , `` There is no noise , only sound .',\n",
       "   0.0),\n",
       "  ('Music', 11, '', 0.0),\n",
       "  ('Music', 12, '', 0.0),\n",
       "  ('Music',\n",
       "   13,\n",
       "   'The creation , performance , significance , and even the definition of music vary according to culture and social context .',\n",
       "   0.7016215788241459),\n",
       "  ('Music',\n",
       "   14,\n",
       "   \"Indeed , throughout history , some new forms or styles of music have been criticized as `` not being music '' , including Beethoven 's Grosse Fuge string quartet in 1825 , early jazz in the beginning of the 1900s and hardcore punk in the 1980s .\",\n",
       "   0.45183222229359743),\n",
       "  ('Music',\n",
       "   15,\n",
       "   'There are many types of music , including popular music , traditional music , art music , music written for religious ceremonies and work songs such as chanteys .',\n",
       "   0.49426498713848693),\n",
       "  ('Music',\n",
       "   16,\n",
       "   'Music ranges from strictly organized compositions -- such as Classical music symphonies from the 1700s and 1800s , through to spontaneously played improvisational music such as jazz , and avant-garde styles of chance-based contemporary music from the 20th and 21st centuries .',\n",
       "   0.5465029935992314),\n",
       "  ('Music', 17, '', 0.0),\n",
       "  ('Music', 18, '', 0.0),\n",
       "  ('Music',\n",
       "   19,\n",
       "   'Music can be divided into genres -LRB- e.g. , country music -RRB- and genres can be further divided into subgenres -LRB- e.g. , country blues and pop country are two of the many country subgenres -RRB- , although the dividing lines and relationships between music genres are often subtle , sometimes open to personal interpretation , and occasionally controversial .',\n",
       "   0.5486482772399588),\n",
       "  ('Music',\n",
       "   20,\n",
       "   'For example , it can be hard to draw the line between some early 1980s hard rock and heavy metal .',\n",
       "   0.2422688965143804),\n",
       "  ('Music',\n",
       "   21,\n",
       "   'Within the arts , music may be classified as a performing art , a fine art or as an auditory art .',\n",
       "   0.0),\n",
       "  ('Music',\n",
       "   22,\n",
       "   'Music may be played or sung and heard live at a rock concert or orchestra performance , heard live as part of a dramatic work -LRB- a music theater show or opera -RRB- , or it may be recorded and listened to on a radio , MP3 player , CD player , smartphone or as film score or TV show .',\n",
       "   0.2261244061321036),\n",
       "  ('Music', 23, '', 0.0),\n",
       "  ('Music', 24, '', 0.0),\n",
       "  ('Music',\n",
       "   25,\n",
       "   \"In many cultures , music is an important part of people 's way of life , as it plays a key role in religious rituals , rite of passage ceremonies -LRB- e.g. , graduation and marriage -RRB- , social activities -LRB- e.g. , dancing -RRB- and cultural activities ranging from amateur karaoke singing to playing in an amateur funk band or singing in a community choir .\",\n",
       "   0.5483158809818801),\n",
       "  ('Music',\n",
       "   26,\n",
       "   'People may make music as a hobby , like a teen playing cello in a youth orchestra , or work as a professional musician or singer .',\n",
       "   0.0),\n",
       "  ('Music',\n",
       "   27,\n",
       "   'The music industry includes the individuals who create new songs and musical pieces -LRB- such as songwriters and composers -RRB- , individuals who perform music -LRB- which include orchestra , jazz band and rock band musicians , singers and conductors -RRB- , individuals who record music -LRB- music producers and sound engineers -RRB- , individuals who organize concert tours , and individuals who sell recordings and sheet music and scores to customers .',\n",
       "   0.6192264880915779),\n",
       "  ('Music', 28, '', 0.0),\n",
       "  ('Painting',\n",
       "   0,\n",
       "   'Painting is the practice of applying paint , pigment , color or other medium to a solid surface -LRB- support base -RRB- .',\n",
       "   0.2623038853148488),\n",
       "  ('Painting',\n",
       "   1,\n",
       "   'The medium is commonly applied to the base with a brush , but other implements , such as knives , sponges , and airbrushes , can be used .',\n",
       "   0.23742079703964503),\n",
       "  ('Painting', 2, '', 0.0),\n",
       "  ('Painting', 3, '', 0.0),\n",
       "  ('Painting',\n",
       "   4,\n",
       "   'Painting is a mode of creative expression , and the forms are numerous .',\n",
       "   0.6124490106034755),\n",
       "  ('Painting',\n",
       "   5,\n",
       "   'Drawing , gesture -LRB- as in gestural painting -RRB- , composition , narration -LRB- as in narrative art -RRB- , or abstraction -LRB- as in abstract art -RRB- , among other aesthetic modes , may serve to manifest the expressive and conceptual intention of the practitioner .',\n",
       "   0.24561191850465397),\n",
       "  ('Painting',\n",
       "   6,\n",
       "   'Paintings can be naturalistic and representational -LRB- as in a still life or landscape painting -RRB- , photographic , abstract , narrative , symbolistic -LRB- as in Symbolist art -RRB- , emotive -LRB- as in Expressionism -RRB- , or political in nature -LRB- as in Artivism -RRB- .',\n",
       "   0.09127133458876387),\n",
       "  ('Painting', 7, '', 0.0),\n",
       "  ('Painting', 8, '', 0.0),\n",
       "  ('Painting',\n",
       "   9,\n",
       "   'A portion of the history of painting in both Eastern and Western art is dominated by spiritual motifs and ideas .',\n",
       "   0.7864303342837579),\n",
       "  ('Painting',\n",
       "   10,\n",
       "   'Examples of this kind of painting range from artwork depicting mythological figures on pottery , to Biblical scenes rendered on the interior walls and ceiling of the Sistine Chapel , to scenes from the life of Buddha or other images of Eastern religious origin .',\n",
       "   0.6078499703678641),\n",
       "  ('Painting', 11, '', 0.0),\n",
       "  ('Painting', 12, '', 0.0),\n",
       "  ('Painting',\n",
       "   13,\n",
       "   'In art , the term painting describes both the act and the result of the action .',\n",
       "   0.3782150896548471),\n",
       "  ('Painting',\n",
       "   14,\n",
       "   'The support for paintings includes such surfaces as walls , paper , canvas , wood , glass , lacquer , clay , leaf , copper and concrete , and the painting may incorporate multiple other materials including sand , clay , paper , plaster , gold leaf , as well as objects .',\n",
       "   0.3255569444187957),\n",
       "  ('Painting',\n",
       "   15,\n",
       "   'The term painting is also used outside of art as a common trade among craftsmen and builders .',\n",
       "   0.5974494528583248),\n",
       "  ('Painting', 16, '', 0.0),\n",
       "  ('Epic_poetry',\n",
       "   0,\n",
       "   \"An epic poem , epic -LRB- from Latin epicus , from the Ancient Greek adjective ἐπικός , epikos , from ἔπος , epos , `` word , story , poem '' -RRB- , epos -LRB- from Latin epos , from Greek ἔπος , epos -RRB- , or epopee -LRB- from French épopée , from neo-Latin epopoeia , from Ancient Greek ἐποποιία , epopoiia -RRB- is a lengthy narrative poem , ordinarily concerning a serious subject containing details of heroic deeds and events significant to a culture or nation .\",\n",
       "   0.2837968584551253),\n",
       "  ('Epic_poetry',\n",
       "   1,\n",
       "   'Milman Parry and Albert Lord have argued that the Homeric epics , the earliest works of Western literature , were fundamentally an oral poetic form .',\n",
       "   0.5041068915759233),\n",
       "  ('Epic_poetry',\n",
       "   2,\n",
       "   'These works form the basis of the epic genre in Western literature .',\n",
       "   0.352872387147038),\n",
       "  ('Epic_poetry',\n",
       "   3,\n",
       "   \"Nearly all Western epic -LRB- including Virgil 's Aeneid and Dante 's Divine Comedy -RRB- self-consciously presents itself as a continuation of the tradition begun by these poems .\",\n",
       "   0.5867513905813903),\n",
       "  ('Epic_poetry',\n",
       "   4,\n",
       "   'Classical epic employs dactylic hexameter and recounts a journey , either physical -LRB- as typified by Odysseus in the Odyssey -RRB- or mental -LRB- as typified by Achilles in the Iliad -RRB- or both .',\n",
       "   0.13125460542584827),\n",
       "  ('Epic_poetry',\n",
       "   5,\n",
       "   'Epics also tend to highlight cultural norms and to define or call into question cultural values , particularly as they pertain to heroism .',\n",
       "   0.1506940422885606),\n",
       "  ('Epic_poetry', 6, '', 0.0),\n",
       "  ('Epic_poetry', 7, '', 0.0),\n",
       "  ('Epic_poetry',\n",
       "   8,\n",
       "   'Another type of epic poetry is epyllion -LRB- plural : epyllia -RRB- , which is a brief narrative poem with a romantic or mythological theme .',\n",
       "   0.22746079487628304),\n",
       "  ('Epic_poetry',\n",
       "   9,\n",
       "   \"The term , which means `` little epic '' , came into use in the nineteenth century .\",\n",
       "   0.0),\n",
       "  ('Epic_poetry',\n",
       "   10,\n",
       "   'It refers primarily to the erudite , shorter hexameter poems of the Hellenistic period and the similar works composed at Rome from the age of the neoterics ; to a lesser degree , the term includes some poems of the English Renaissance , particularly those influenced by Ovid .',\n",
       "   0.3963509368681412),\n",
       "  ('Epic_poetry',\n",
       "   11,\n",
       "   'The most famous example of classical epyllion is perhaps Catullus 64 .',\n",
       "   0.3397353908034664),\n",
       "  ('Epic_poetry', 12, '', 0.0),\n",
       "  ('Epic_poetry', 13, '', 0.0),\n",
       "  ('Epic_poetry',\n",
       "   14,\n",
       "   \"Some of the most famous examples of epic poetry include the Ancient Greek Iliad and Odyssey , Virgil 's Aeneid , the ancient Indian Ramayana , Ramcharitmanas , and Mahabharata , Dante 's Divine Comedy , the Portuguese Lusiads , and John Milton 's Paradise Lost .\",\n",
       "   0.7160654971649945),\n",
       "  ('Epic_poetry', 15, '', 0.0),\n",
       "  ('Theatre',\n",
       "   0,\n",
       "   'Theatre or theater is a collaborative form of fine art that uses live performers , typically actors or actresses , to present the experience of a real or imagined event before a live audience in a specific place , often a stage .',\n",
       "   0.28158302367800425),\n",
       "  ('Theatre',\n",
       "   1,\n",
       "   'The performers may communicate this experience to the audience through combinations of gesture , speech , song , music and dance .',\n",
       "   0.5041068915759234),\n",
       "  ('Theatre',\n",
       "   2,\n",
       "   'Elements of art , such as painted scenery and stagecraft such as lighting are used to enhance the physicality , presence and immediacy of the experience .',\n",
       "   0.5681243118991401),\n",
       "  ('Theatre',\n",
       "   3,\n",
       "   \"The specific place of the performance is also named by the word `` theatre '' as derived from the Ancient Greek θέατρον -LRB- théatron , `` a place for viewing '' -RRB- , itself from θεάομαι -LRB- theáomai , `` to see '' , `` to watch '' , `` to observe '' -RRB- .\",\n",
       "   0.11662131732894564),\n",
       "  ('Theatre', 4, '', 0.0),\n",
       "  ('Theatre', 5, '', 0.0),\n",
       "  ('Theatre',\n",
       "   6,\n",
       "   'Modern Western theatre comes , in large measure , from ancient Greek drama , from which it borrows technical terminology , classification into genres , and many of its themes , stock characters , and plot elements .',\n",
       "   0.5995510651425828),\n",
       "  ('Theatre',\n",
       "   7,\n",
       "   'Theatre artist Patrice Pavis defines theatricality , theatrical language , stage writing and the specificity of theatre as synonymous expressions that differentiate theatre from the other performing arts , literature and the arts in general .',\n",
       "   0.5718734430189096),\n",
       "  ('Theatre', 8, '', 0.0),\n",
       "  ('Theatre', 9, '', 0.0),\n",
       "  ('Theatre',\n",
       "   10,\n",
       "   'Modern theatre , broadly defined , includes performances of plays and musical theatre .',\n",
       "   1.0000000000000002),\n",
       "  ('Theatre',\n",
       "   11,\n",
       "   'There are connections between theatre and the art forms of ballet , opera -LRB- which uses staged , costumed performances with singing and orchestral accompaniment -RRB- and various other forms .',\n",
       "   0.7238804641732969),\n",
       "  ('Theatre', 12, '', 0.0),\n",
       "  ('Narrative',\n",
       "   0,\n",
       "   'A narrative or story is a report of connected events , real or imaginary , presented in a sequence of written or spoken words , or still or moving images , or both .',\n",
       "   0.16954910409936322),\n",
       "  ('Narrative',\n",
       "   1,\n",
       "   \"The word derives from the Latin verb narrare , `` to tell '' , which is derived from the adjective gnarus , `` knowing '' or `` skilled '' .\",\n",
       "   0.0),\n",
       "  ('Narrative', 2, '', 0.0),\n",
       "  ('Narrative', 3, '', 0.0),\n",
       "  ('Narrative',\n",
       "   4,\n",
       "   'Narrative can be organized in a number of thematic or formal categories : non-fiction -LRB- such as definitively including creative non-fiction , biography , journalism , transcript poetry , and historiography -RRB- ; fictionalization of historical events -LRB- such as anecdote , myth , legend , and historical fiction -RRB- ; and fiction proper -LRB- such as literature in prose and sometimes poetry , such as short stories , novels , and narrative poems and songs , and imaginary narratives as portrayed in other textual forms , games , or live or recorded performances -RRB- .',\n",
       "   0.5393282513537399),\n",
       "  ('Narrative', 5, '', 0.0),\n",
       "  ('Narrative', 6, '', 0.0),\n",
       "  ('Narrative',\n",
       "   7,\n",
       "   'Narrative is found in all forms of human creativity , art , and entertainment , including speech , literature , theatre , music and song , comics , journalism , film , television and video , radio , gameplay , unstructured recreation , and performance in general , as well as some painting , sculpture , drawing , photography , and other visual arts -LRB- though several modern art movements refuse the narrative in favor of the abstract and conceptual -RRB- , as long as a sequence of events is presented .',\n",
       "   0.7395638060136973),\n",
       "  ('Narrative', 8, '', 0.0),\n",
       "  ('Narrative', 9, '', 0.0),\n",
       "  ('Narrative',\n",
       "   10,\n",
       "   'Oral storytelling is the earliest method for sharing narratives .',\n",
       "   0.0),\n",
       "  ('Narrative',\n",
       "   11,\n",
       "   \"During most people 's childhoods , narratives are used to guide them on proper behavior , cultural history , formation of a communal identity , and values , as especially studied in anthropology today among traditional indigenous peoples .\",\n",
       "   0.4360471110882951),\n",
       "  ('Narrative', 12, '', 0.0),\n",
       "  ('Narrative', 13, '', 0.0),\n",
       "  ('Narrative',\n",
       "   14,\n",
       "   'Narratives may also be nested within other narratives , such as narratives told by an unreliable narrator -LRB- a character -RRB- typically found in noir fiction genre .',\n",
       "   0.0),\n",
       "  ('Narrative',\n",
       "   15,\n",
       "   \"An important part of narration is the narrative mode , the set of methods used to communicate the narrative through a process narration -LRB- see also `` Narrative Aesthetics '' below -RRB- .\",\n",
       "   0.3350057843014274),\n",
       "  ('Narrative', 16, '', 0.0),\n",
       "  ('Narrative', 17, '', 0.0),\n",
       "  ('Narrative',\n",
       "   18,\n",
       "   'Along with exposition , argumentation , and description , narration , broadly defined , is one of four rhetorical modes of discourse .',\n",
       "   0.8660254037844388),\n",
       "  ('Narrative',\n",
       "   19,\n",
       "   'More narrowly defined , it is the fiction-writing mode in which the narrator communicates directly to the reader .',\n",
       "   0.0),\n",
       "  ('Narrative', 20, '', 0.0),\n",
       "  ('Film',\n",
       "   0,\n",
       "   'A film , also called a movie , motion picture , theatrical film , or photoplay , is a series of still images which , when shown on a screen , creates the illusion of moving images due to the phi phenomenon .',\n",
       "   0.3424245112291733),\n",
       "  ('Film',\n",
       "   1,\n",
       "   'This optical illusion causes the audience to perceive continuous motion between separate objects viewed rapidly in succession .',\n",
       "   0.0),\n",
       "  ('Film',\n",
       "   2,\n",
       "   'The process of filmmaking is both an art and an industry .',\n",
       "   0.40410001793936545),\n",
       "  ('Film',\n",
       "   3,\n",
       "   'A film is created by photographing actual scenes with a motion picture camera ; by photographing drawings or miniature models using traditional animation techniques ; by means of CGI and computer animation ; or by a combination of some or all of these techniques and other visual effects .',\n",
       "   0.5237961330136227),\n",
       "  ('Film', 4, '', 0.0),\n",
       "  ('Film', 5, '', 0.0),\n",
       "  ('Film',\n",
       "   6,\n",
       "   \"The word `` cinema '' , short for cinematography , is often used to refer to the industry of films and filmmaking or to the art of filmmaking itself .\",\n",
       "   0.38445228780850205),\n",
       "  ('Film',\n",
       "   7,\n",
       "   'The contemporary definition of cinema is the art of simulating experiences to communicate ideas , stories , perceptions , feelings , beauty or atmosphere by the means of recorded or programmed moving images along with other sensory stimulations .',\n",
       "   0.42365138676646436),\n",
       "  ('Film', 8, '', 0.0),\n",
       "  ('Film', 9, '', 0.0),\n",
       "  ('Film',\n",
       "   10,\n",
       "   'Films were originally recorded onto plastic film through a photochemical process and then shown through a movie projector onto a large screen .',\n",
       "   0.7071067811865476),\n",
       "  ('Film',\n",
       "   11,\n",
       "   'The adoption of CGI-based special effects led to the use of digital intermediates .',\n",
       "   0.4956428682199607),\n",
       "  ('Film',\n",
       "   12,\n",
       "   'Most contemporary films are now fully digital through the entire process of production , distribution , and exhibition from start to finish .',\n",
       "   0.5067005216444894),\n",
       "  ('Film',\n",
       "   13,\n",
       "   'Films recorded in a photochemical form traditionally included an analogous optical soundtrack , which is a graphic recording of the spoken words , music and other sounds that accompany the images .',\n",
       "   0.42253599128438657),\n",
       "  ('Film',\n",
       "   14,\n",
       "   'It runs along a portion of the film exclusively reserved for it and is not projected .',\n",
       "   0.3782814901901378),\n",
       "  ('Film', 15, '', 0.0),\n",
       "  ('Film', 16, '', 0.0),\n",
       "  ('Film',\n",
       "   17,\n",
       "   'Films are cultural artifacts created by specific cultures .',\n",
       "   0.0),\n",
       "  ('Film',\n",
       "   18,\n",
       "   'They reflect those cultures , and , in turn , affect them .',\n",
       "   0.5584778353707551),\n",
       "  ('Film',\n",
       "   19,\n",
       "   'Film is considered to be an important art form , a source of popular entertainment , and a powerful medium for educating -- or indoctrinating -- citizens .',\n",
       "   0.4491120561670351),\n",
       "  ('Film',\n",
       "   20,\n",
       "   'The visual basis of film gives it a universal power of communication .',\n",
       "   0.5620106598950521),\n",
       "  ('Film',\n",
       "   21,\n",
       "   'Some films have become popular worldwide attractions by using dubbing or subtitles to translate the dialog into the language of the viewer .',\n",
       "   0.19908989764679078),\n",
       "  ('Film',\n",
       "   22,\n",
       "   \"Some have criticized the film industry 's glorification of violence and its potentially negative treatment of women .\",\n",
       "   0.7834206881207821),\n",
       "  ('Film', 23, '', 0.0),\n",
       "  ('Film', 24, '', 0.0),\n",
       "  ('Film',\n",
       "   25,\n",
       "   'The individual images that make up a film are called frames .',\n",
       "   0.0),\n",
       "  ('Film',\n",
       "   26,\n",
       "   'During projection of traditional films , a rotating shutter causes intervals of darkness as each frame , in turn , is moved into position to be projected , but the viewer does not notice the interruptions because of an effect known as persistence of vision , whereby the eye retains a visual image for a fraction of a second after the source has been removed .',\n",
       "   0.500515353947798),\n",
       "  ('Film',\n",
       "   27,\n",
       "   'The perception of motion is due to a psychological effect called phi phenomenon .',\n",
       "   0.28722096078741605),\n",
       "  ('Film', 28, '', 0.0),\n",
       "  ('Film', 29, '', 0.0),\n",
       "  ('Film',\n",
       "   30,\n",
       "   \"The name `` film '' originates from the fact that photographic film -LRB- also called film stock -RRB- has historically been the medium for recording and displaying motion pictures .\",\n",
       "   0.20334768140251527),\n",
       "  ('Film',\n",
       "   31,\n",
       "   'Many other terms exist for an individual motion picture , including picture , picture show , moving picture , photoplay , and flick .',\n",
       "   0.3349067026613031),\n",
       "  ('Film',\n",
       "   32,\n",
       "   'The most common term in the United States is movie , while in Europe film is preferred .',\n",
       "   0.0),\n",
       "  ('Film',\n",
       "   33,\n",
       "   'Terms for the field , in general , include the big screen , the silver screen , the movies , and cinema ; the latter is commonly used in scholarly texts and critical essays , especially by European writers .',\n",
       "   0.28161449847437936),\n",
       "  ('Film',\n",
       "   34,\n",
       "   'In early years , the word sheet was sometimes used instead of screen .',\n",
       "   0.39490346453304526),\n",
       "  ('Film', 35, '', 0.0),\n",
       "  ('Photography',\n",
       "   0,\n",
       "   'Photography is the science , art , application and practice of creating durable images by recording light or other electromagnetic radiation , either electronically by means of an image sensor , or chemically by means of a light-sensitive material such as photographic film .',\n",
       "   0.5001833464817693),\n",
       "  ('Photography', 1, '', 0.0),\n",
       "  ('Photography', 2, '', 0.0),\n",
       "  ('Photography',\n",
       "   3,\n",
       "   'Typically , a lens is used to focus the light reflected or emitted from objects into a real image on the light-sensitive surface inside a camera during a timed exposure .',\n",
       "   0.0),\n",
       "  ('Photography',\n",
       "   4,\n",
       "   'With an electronic image sensor , this produces an electrical charge at each pixel , which is electronically processed and stored in a digital image file for subsequent display or processing .',\n",
       "   0.16591588412771677),\n",
       "  ('Photography',\n",
       "   5,\n",
       "   \"The result with photographic emulsion is an invisible latent image , which is later chemically `` developed '' into a visible image , either negative or positive depending on the purpose of the photographic material and the method of processing .\",\n",
       "   0.3937638162775448),\n",
       "  ('Photography',\n",
       "   6,\n",
       "   'A negative image on film is traditionally used to photographically create a positive image on a paper base , known as a print , either by using an enlarger or by contact printing .',\n",
       "   0.0),\n",
       "  ('Photography', 7, '', 0.0),\n",
       "  ('Photography', 8, '', 0.0),\n",
       "  ('Photography',\n",
       "   9,\n",
       "   'Photography is employed in many fields of science , manufacturing -LRB- e.g. , photolithography -RRB- , and business , as well as its more direct uses for art , film and video production , recreational purposes , hobby , and mass communication .',\n",
       "   0.6282742959273286),\n",
       "  ('Photography', 10, '', 0.0),\n",
       "  ('Graphic_arts',\n",
       "   0,\n",
       "   'A category of fine art , graphic art covers a broad range of visual artistic expression , typically two-dimensional , i.e. produced on a flat surface .',\n",
       "   0.5178561161676976),\n",
       "  ('Graphic_arts',\n",
       "   1,\n",
       "   'The term usually refers to the arts that rely more on line or tone than on color , especially drawing and the various forms of engraving ; it is sometimes understood to refer specifically to printmaking processes , such as line engraving , aquatint , drypoint , etching , mezzotint , monotype , lithography , and screen printing -LRB- silk-screen , serigraphy -RRB- .',\n",
       "   0.3170944065250786),\n",
       "  ('Graphic_arts',\n",
       "   2,\n",
       "   'Graphic art further includes calligraphy , photography , painting , typography , computer graphics , and bindery .',\n",
       "   0.7071067811865476),\n",
       "  ('Graphic_arts',\n",
       "   3,\n",
       "   'It also encompasses drawn plans and layouts for interior and architectural designs .',\n",
       "   0.48627935520642573),\n",
       "  ('Graphic_arts', 4, '', 0.0)]]"
      ]
     },
     "execution_count": 34,
     "metadata": {},
     "output_type": "execute_result"
    }
   ],
   "source": [
    "claim_similarities"
   ]
  },
  {
   "cell_type": "markdown",
   "id": "91fac585",
   "metadata": {},
   "source": [
    "### Extract top K evidence sentences for every claim"
   ]
  },
  {
   "cell_type": "code",
   "execution_count": 35,
   "id": "cc2f101e",
   "metadata": {},
   "outputs": [],
   "source": [
    "# my_list = [(1, 2, 3, 4), (5, 6, 7, 8), (9, 10, 11, 2), (13, 14, 15, 8), (17, 18, 19, 1)]\n",
    "\n",
    "def topK(my_list, K):\n",
    "    # Find the indices of the top K tuples in the list based on the 4th element\n",
    "    top_indices = heapq.nlargest(K, range(len(my_list)), key=lambda i: my_list[i][3])\n",
    "\n",
    "    # Find the tuples corresponding to the top K indices\n",
    "    top_tuples = [my_list[i] for i in top_indices]\n",
    "\n",
    "    # Print the top indices and tuples\n",
    "    \n",
    "    zipped_list = list(zip(top_indices, top_tuples))\n",
    "    \n",
    "    return zipped_list"
   ]
  },
  {
   "cell_type": "code",
   "execution_count": 36,
   "id": "7bf44c9d",
   "metadata": {},
   "outputs": [],
   "source": [
    "K=5\n",
    "topK_evidences_for_each_claim = []\n",
    "for i in range(len(claim_similarities)):\n",
    "    topK_evidences_for_each_claim.append(topK(claim_similarities[i], K))\n",
    "    "
   ]
  },
  {
   "cell_type": "code",
   "execution_count": 37,
   "id": "df459a7e",
   "metadata": {},
   "outputs": [
    {
     "data": {
      "text/plain": [
       "[[(17,\n",
       "   ('Fox_Broadcasting_Company',\n",
       "    6,\n",
       "    'It was the highest-rated broadcast network in the 18 -- 49 demographic from 2004 to 2012 , and earned the position as the most-watched American television network in total viewership during the 2007 -- 08 season .',\n",
       "    0.7662925917871872)),\n",
       "  (12,\n",
       "   ('Fox_Broadcasting_Company',\n",
       "    1,\n",
       "    'The network is headquartered at the 20th Century Fox studio lot on Pico Boulevard in the Century City section of Los Angeles , with additional major offices and production facilities at the Fox Television Center in nearby West Los Angeles and the Fox Broadcasting Center in the Yorkville neighborhood of Manhattan , New York City .',\n",
       "    0.6962784459401956)),\n",
       "  (24,\n",
       "   ('Fox_Broadcasting_Company',\n",
       "    13,\n",
       "    \"The network is named after sister company 20th Century Fox , and indirectly for producer William Fox , who founded one of the movie studio 's predecessors , Fox Film .\",\n",
       "    0.5812106375713183)),\n",
       "  (6,\n",
       "   ('Nikolaj_Coster-Waldau',\n",
       "    6,\n",
       "    'In the United States , his debut film role was in the war film Black Hawk Down -LRB- 2001 -RRB- , playing Medal of Honor recipient Gary Gordon .',\n",
       "    0.5480737748800985)),\n",
       "  (13,\n",
       "   ('Fox_Broadcasting_Company',\n",
       "    2,\n",
       "    'It is the third largest major television network in the world based on total revenues , assets , and international coverage .',\n",
       "    0.533575370787567))],\n",
       " [(8,\n",
       "   ('Content_creation',\n",
       "    1,\n",
       "    \"Content is `` something that is to be expressed through some medium , as speech , writing or any of various arts '' for self-expression , distribution , marketing and/or publication .\",\n",
       "    0.43819972858563416)),\n",
       "  (0,\n",
       "   ('Roman_Atwood',\n",
       "    0,\n",
       "    'Roman Bernard Atwood -LRB- born May 28 , 1983 -RRB- is an American YouTube personality , comedian , vlogger and pranker .',\n",
       "    0.3873758317012295)),\n",
       "  (1,\n",
       "   ('Roman_Atwood',\n",
       "    1,\n",
       "    'He is best known for his vlogs , where he posts updates about his life on a daily basis .',\n",
       "    0.2842853829563292)),\n",
       "  (7,\n",
       "   ('Content_creation',\n",
       "    0,\n",
       "    'Content Creation is the contribution of information to any media and most especially to digital media for an end-user/audience in specific contexts .',\n",
       "    0.23545742518697885)),\n",
       "  (2,\n",
       "   ('Roman_Atwood',\n",
       "    2,\n",
       "    \"His vlogging channel , `` RomanAtwoodVlogs '' , has a total of 3.3 billion views and 11.9 million subscribers .\",\n",
       "    0.0))],\n",
       " [(71,\n",
       "   ('Architecture',\n",
       "    15,\n",
       "    'Knowledge of art , science , technology , and humanity .',\n",
       "    1.0000000000000002)),\n",
       "  (175,\n",
       "   ('Theatre',\n",
       "    10,\n",
       "    'Modern theatre , broadly defined , includes performances of plays and musical theatre .',\n",
       "    1.0000000000000002)),\n",
       "  (67,\n",
       "   ('Architecture',\n",
       "    11,\n",
       "    'The style of design and method of construction of buildings and other physical structures .',\n",
       "    0.9029331641369582)),\n",
       "  (14,\n",
       "   ('History_of_art',\n",
       "    14,\n",
       "    'International events and exhibitions like the Whitney Biennial and biennales of Venice and São Paulo or the Documenta of Kassel have helped the development of new styles and trends .',\n",
       "    0.8728650987816711)),\n",
       "  (11,\n",
       "   ('History_of_art',\n",
       "    11,\n",
       "    'Today , art enjoys a wide network of study , dissemination and preservation of all the artistic legacy of mankind throughout history .',\n",
       "    0.8686178569505373))]]"
      ]
     },
     "execution_count": 37,
     "metadata": {},
     "output_type": "execute_result"
    }
   ],
   "source": [
    "topK_evidences_for_each_claim\n",
    "# \n",
    "# Inner tuple:\n",
    "# \n",
    "\n",
    "# 1st index: position in the claim_no\n",
    "\n",
    "#     inner tuple:\n",
    "#         1st element: retrieved document name \n",
    "#         2nd: index of the candidate sentence in the retrieved document\n",
    "#         3rd: candidate sentence\n",
    "#         4th: Similarity score\n"
   ]
  },
  {
   "cell_type": "code",
   "execution_count": 38,
   "id": "179b39fb",
   "metadata": {},
   "outputs": [
    {
     "data": {
      "text/plain": [
       "('Fox_Broadcasting_Company',\n",
       " 6,\n",
       " 'It was the highest-rated broadcast network in the 18 -- 49 demographic from 2004 to 2012 , and earned the position as the most-watched American television network in total viewership during the 2007 -- 08 season .',\n",
       " 0.7662925917871872)"
      ]
     },
     "execution_count": 38,
     "metadata": {},
     "output_type": "execute_result"
    }
   ],
   "source": [
    "claim_similarities[0][17]"
   ]
  },
  {
   "cell_type": "markdown",
   "id": "59f67df0",
   "metadata": {},
   "source": [
    "### Find relevance of each candidate evidence sentence using BERT-based models(training)"
   ]
  },
  {
   "cell_type": "markdown",
   "id": "9bb4fd59",
   "metadata": {},
   "source": [
    "### Install transformers"
   ]
  },
  {
   "cell_type": "code",
   "execution_count": 39,
   "id": "956f07c5",
   "metadata": {},
   "outputs": [
    {
     "name": "stdout",
     "output_type": "stream",
     "text": [
      "Requirement already satisfied: transformers in /Users/debrup/miniconda3/envs/def/lib/python3.11/site-packages (4.27.4)\n",
      "Requirement already satisfied: filelock in /Users/debrup/miniconda3/envs/def/lib/python3.11/site-packages (from transformers) (3.10.7)\n",
      "Requirement already satisfied: huggingface-hub<1.0,>=0.11.0 in /Users/debrup/miniconda3/envs/def/lib/python3.11/site-packages (from transformers) (0.13.4)\n",
      "Requirement already satisfied: numpy>=1.17 in /Users/debrup/miniconda3/envs/def/lib/python3.11/site-packages (from transformers) (1.24.2)\n",
      "Requirement already satisfied: packaging>=20.0 in /Users/debrup/miniconda3/envs/def/lib/python3.11/site-packages (from transformers) (23.0)\n",
      "Requirement already satisfied: pyyaml>=5.1 in /Users/debrup/miniconda3/envs/def/lib/python3.11/site-packages (from transformers) (6.0)\n",
      "Requirement already satisfied: regex!=2019.12.17 in /Users/debrup/miniconda3/envs/def/lib/python3.11/site-packages (from transformers) (2023.3.23)\n",
      "Requirement already satisfied: requests in /Users/debrup/miniconda3/envs/def/lib/python3.11/site-packages (from transformers) (2.28.2)\n",
      "Requirement already satisfied: tokenizers!=0.11.3,<0.14,>=0.11.1 in /Users/debrup/miniconda3/envs/def/lib/python3.11/site-packages (from transformers) (0.13.2)\n",
      "Requirement already satisfied: tqdm>=4.27 in /Users/debrup/miniconda3/envs/def/lib/python3.11/site-packages (from transformers) (4.65.0)\n",
      "Requirement already satisfied: typing-extensions>=3.7.4.3 in /Users/debrup/miniconda3/envs/def/lib/python3.11/site-packages (from huggingface-hub<1.0,>=0.11.0->transformers) (4.5.0)\n",
      "Requirement already satisfied: charset-normalizer<4,>=2 in /Users/debrup/miniconda3/envs/def/lib/python3.11/site-packages (from requests->transformers) (3.1.0)\n",
      "Requirement already satisfied: idna<4,>=2.5 in /Users/debrup/miniconda3/envs/def/lib/python3.11/site-packages (from requests->transformers) (3.4)\n",
      "Requirement already satisfied: urllib3<1.27,>=1.21.1 in /Users/debrup/miniconda3/envs/def/lib/python3.11/site-packages (from requests->transformers) (1.26.15)\n",
      "Requirement already satisfied: certifi>=2017.4.17 in /Users/debrup/miniconda3/envs/def/lib/python3.11/site-packages (from requests->transformers) (2022.12.7)\n",
      "Note: you may need to restart the kernel to use updated packages.\n"
     ]
    }
   ],
   "source": [
    "pip install transformers"
   ]
  },
  {
   "cell_type": "markdown",
   "id": "e68c7a9c",
   "metadata": {},
   "source": [
    "### Import required libraries"
   ]
  },
  {
   "cell_type": "code",
   "execution_count": 40,
   "id": "aa79d418",
   "metadata": {},
   "outputs": [],
   "source": [
    "import torch\n",
    "import random\n",
    "import numpy as np\n",
    "from transformers import BertTokenizer, BertForSequenceClassification, AdamW\n",
    "from torch.utils.data import DataLoader, TensorDataset, random_split\n",
    "\n",
    "# Set random seed for reproducibility\n",
    "seed_val = 42\n",
    "random.seed(seed_val)\n",
    "np.random.seed(seed_val)\n",
    "torch.manual_seed(seed_val)\n",
    "torch.cuda.manual_seed_all(seed_val)"
   ]
  },
  {
   "cell_type": "markdown",
   "id": "686c6d54",
   "metadata": {},
   "source": [
    "### Load pre-trained BERT model and tokenizer\n"
   ]
  },
  {
   "cell_type": "code",
   "execution_count": 41,
   "id": "47d9a843",
   "metadata": {},
   "outputs": [],
   "source": [
    "model_name = 'bert-base-uncased'\n",
    "tokenizer = BertTokenizer.from_pretrained(model_name)\n",
    "\n",
    "### This is a sequence classification task with two labels (Relevant or not)\n",
    "#model = BertForSequenceClassification.from_pretrained(model_name, num_labels=2)\n"
   ]
  },
  {
   "cell_type": "markdown",
   "id": "b32a31ed",
   "metadata": {},
   "source": [
    "### Get (claim,evidence,label) pairs"
   ]
  },
  {
   "cell_type": "code",
   "execution_count": 42,
   "id": "f64409c6",
   "metadata": {},
   "outputs": [
    {
     "name": "stdout",
     "output_type": "stream",
     "text": [
      "[[[[92206, 104971, 'Nikolaj_Coster-Waldau', 7], [92206, 104971, 'Fox_Broadcasting_Company', 0]]], [[[174271, 187498, 'Roman_Atwood', 1]], [[174271, 187499, 'Roman_Atwood', 3]]], [[[255136, 254645, 'History_of_art', 2]]]]\n"
     ]
    }
   ],
   "source": [
    "evidence_test_lines = [ sub['evidence'] for sub in test_lines]\n",
    "print(evidence_test_lines)\n"
   ]
  },
  {
   "cell_type": "code",
   "execution_count": 43,
   "id": "22b27ffa",
   "metadata": {},
   "outputs": [
    {
     "name": "stdout",
     "output_type": "stream",
     "text": [
      "Nikolaj_Coster-Waldau\n"
     ]
    }
   ],
   "source": [
    "print(evidence_test_lines[0][0][0][2])"
   ]
  },
  {
   "cell_type": "code",
   "execution_count": 44,
   "id": "c053c3b3",
   "metadata": {},
   "outputs": [
    {
     "data": {
      "text/plain": [
       "2"
      ]
     },
     "execution_count": 44,
     "metadata": {},
     "output_type": "execute_result"
    }
   ],
   "source": [
    "len(evidence_test_lines[0][0])"
   ]
  },
  {
   "cell_type": "code",
   "execution_count": 45,
   "id": "ad79c3ae",
   "metadata": {},
   "outputs": [],
   "source": [
    "import sqlite3\n",
    "\n",
    "# Open a connection to the database file\n",
    "conn = sqlite3.connect(db_path)\n",
    "\n",
    "# Create a cursor object to execute SQL commands\n",
    "cursor = conn.cursor()\n",
    "\n",
    "claim_label_pos = []\n",
    "candidate_evidence_pos = []\n",
    "claim_pos = []\n",
    "for i in range(len(evidence_test_lines)):\n",
    "    for j in range(len(evidence_test_lines[i])):\n",
    "        for k in range(len(evidence_test_lines[i][j])):\n",
    "            claim_pos.append(claim_test_lines[i])\n",
    "\n",
    "            page = evidence_test_lines[i][j][k][2]\n",
    "            line_no = evidence_test_lines[i][j][k][3]\n",
    "\n",
    "            # Execute a SELECT query on the database\n",
    "            query = f\"SELECT lines FROM documents where id='{page}'\"\n",
    "            cursor.execute(query)\n",
    "\n",
    "            # Retrieve the results of the query\n",
    "            results = cursor.fetchone()\n",
    "                \n",
    "            lines_page = results[0].split('\\n') \n",
    "            line = lines_page[line_no]\n",
    "            line = line.replace('\\t', ' ')\n",
    "            \n",
    "            while len(line) >= 1 and line[0].isdigit():\n",
    "                try:\n",
    "                    line = line[1:]\n",
    "                    \n",
    "                except:\n",
    "                    line=''\n",
    "                    break\n",
    "                \n",
    "      \n",
    "            # remove all words after last . (the links to other pages)\n",
    "            last_period_index = line.rfind(\".\")\n",
    "            \n",
    "            # Remove everything after the last period\n",
    "            if last_period_index != -1:\n",
    "                line = line[:last_period_index+1]\n",
    "                   \n",
    "           \n",
    "            # remove extra spaces\n",
    "            line = ' '.join(line.split())\n",
    "            \n",
    "            \n",
    "            candidate_evidence_pos.append(line)\n",
    "            claim_label_pos.append(1)\n",
    "            \n",
    "                \n",
    "            \n",
    "# Close the connection to the database\n",
    "conn.close()"
   ]
  },
  {
   "cell_type": "code",
   "execution_count": 46,
   "id": "dc1544ab",
   "metadata": {},
   "outputs": [
    {
     "data": {
      "text/plain": [
       "[1, 1, 1, 1, 1]"
      ]
     },
     "execution_count": 46,
     "metadata": {},
     "output_type": "execute_result"
    }
   ],
   "source": [
    "claim_label_pos"
   ]
  },
  {
   "cell_type": "code",
   "execution_count": 47,
   "id": "124d0db3",
   "metadata": {},
   "outputs": [
    {
     "data": {
      "text/plain": [
       "['He then played Detective John Amsterdam in the short-lived Fox television series New Amsterdam -LRB- 2008 -RRB- , as well as appearing as Frank Pike in the 2009 Fox television film Virtuality , originally intended as a pilot .',\n",
       " 'The Fox Broadcasting Company -LRB- often shortened to Fox and stylized as FOX -RRB- is an American English language commercial broadcast television network that is owned by the Fox Entertainment Group subsidiary of 21st Century Fox .',\n",
       " 'He is best known for his vlogs , where he posts updates about his life on a daily basis .',\n",
       " \"He also has another YouTube channel called `` RomanAtwood '' , where he posts pranks .\",\n",
       " 'The subsequent expansion of the list of principal arts in the 20th century reached to nine : architecture , dance , sculpture , music , painting , poetry -LRB- described broadly as a form of literature with aesthetic purpose or function , which also includes the distinct genres of theatre and narrative -RRB- , film , photography and graphic arts .']"
      ]
     },
     "execution_count": 47,
     "metadata": {},
     "output_type": "execute_result"
    }
   ],
   "source": [
    "candidate_evidence_pos"
   ]
  },
  {
   "cell_type": "code",
   "execution_count": 48,
   "id": "6614c1d4",
   "metadata": {},
   "outputs": [
    {
     "data": {
      "text/plain": [
       "['Nikolaj Coster-Waldau worked with the Fox Broadcasting Company.',\n",
       " 'Nikolaj Coster-Waldau worked with the Fox Broadcasting Company.',\n",
       " 'Roman Atwood is a content creator.',\n",
       " 'Roman Atwood is a content creator.',\n",
       " 'History of art includes architecture, dance, sculpture, music, painting, poetry literature, theatre, narrative, film, photography and graphic arts.']"
      ]
     },
     "execution_count": 48,
     "metadata": {},
     "output_type": "execute_result"
    }
   ],
   "source": [
    "claim_pos"
   ]
  },
  {
   "cell_type": "markdown",
   "id": "f793d650",
   "metadata": {},
   "source": [
    "### Negative samples"
   ]
  },
  {
   "cell_type": "code",
   "execution_count": 86,
   "id": "ad6694c1",
   "metadata": {},
   "outputs": [
    {
     "name": "stdout",
     "output_type": "stream",
     "text": [
      "('Nikolaj Coster-Waldau worked with the Fox Broadcasting Company.', 'The series has received 110 Emmy Award nominations , including six consecutive Outstanding Drama Series nominations , with 38 wins .', 0)\n",
      "('Roman Atwood is a content creator.', 'Much of the importance of Hermeticism arises from its connection with the development of science during the time from 1300 to 1600 AD .', 0)\n",
      "('History of art includes architecture, dance, sculpture, music, painting, poetry literature, theatre, narrative, film, photography and graphic arts.', 'From the Middle Ages through the Renaissance painters worked for the church and a wealthy aristocracy .', 0)\n",
      "('History of art includes architecture, dance, sculpture, music, painting, poetry literature, theatre, narrative, film, photography and graphic arts.', 'The Goryeo Dynasty -LRB- 918 -- 1392 -RRB- was one of the most prolific periods for a wide range of disciplines , especially pottery .', 0)\n",
      "('History of art includes architecture, dance, sculpture, music, painting, poetry literature, theatre, narrative, film, photography and graphic arts.', 'There are several characteristics which lend art to being postmodern ; these include bricolage , the use of words prominently as the central artistic element , collage , simplification , appropriation , performance art , the recycling of past styles and themes in a modern-day context , as well as the break-up of the barrier between fine and high arts and low art and popular culture .', 0)\n"
     ]
    }
   ],
   "source": [
    "no_of_neg = 3\n",
    "k=10\n",
    "\n",
    "claim_neg = []\n",
    "candidate_neg = []\n",
    "label_neg =[]\n",
    "\n",
    "for i in range(len(claim_test_lines)):\n",
    "    claim = claim_test_lines[i]\n",
    "    for j in range(no_of_neg):\n",
    "        \n",
    "        # Look at pages related to claim\n",
    "        random_pages = wikipedia.search(claim)\n",
    "        #print(\"AAAAAAAAA........\",random_pages)\n",
    "        n = len(random_pages)\n",
    "        \n",
    "        # Pick a random page from the list\n",
    "        page_name = random_pages[random.randint(0, n-1)]\n",
    "        #print(\"BBBBBBB\",page_name)\n",
    "       \n",
    "        \n",
    "        conn = sqlite3.connect(db_path)\n",
    "\n",
    "        # Create a cursor object to execute SQL commands\n",
    "        cursor = conn.cursor()\n",
    "\n",
    "        page_name=preprocess(page_name)\n",
    "        \n",
    "        \n",
    "        query = f\"SELECT lines FROM documents where id='{page_name}'\"\n",
    "        cursor.execute(query)\n",
    "        \n",
    "\n",
    "        # Retrieve the results of the query\n",
    "        results = cursor.fetchone()\n",
    "        \n",
    "        #print(\"CCCCCCC\",results)\n",
    "        \n",
    "        # If results are empty continue\n",
    "        if results is None or len(results) == 0:\n",
    "            continue  \n",
    "            \n",
    "        # Split the string into a list of lines using the newline character\n",
    "        lines_page = results[0].split('\\n') \n",
    "        #lines_page = lines_page[0:k]\n",
    "        #print(type(lines_page))\n",
    "        \n",
    "        # Get a random line from first k lines\n",
    "        flag = True\n",
    "\n",
    "        # simulate a do-while loop\n",
    "        while flag:\n",
    "         \n",
    "            # sample random line\n",
    "            line = lines_page[random.randrange(len(lines_page))]\n",
    "         \n",
    "            # preprocess the line\n",
    "            line = line.replace('\\t', ' ')\n",
    "           \n",
    "            while len(line) >= 1 and line[0].isdigit():\n",
    "                try:\n",
    "                    line = line[1:]\n",
    "                    \n",
    "                except:\n",
    "                    line=''\n",
    "                    break\n",
    "                \n",
    "          \n",
    "\n",
    "            # remove all words after last . (the links to other pages)\n",
    "            last_period_index = line.rfind(\".\")\n",
    "\n",
    "            # Remove everything after the last period\n",
    "           \n",
    "            if last_period_index != -1:\n",
    "                line = line[:last_period_index+1]\n",
    "            \n",
    "            # remove extra spaces\n",
    "            line = ' '.join(line.split())\n",
    "                \n",
    "            if len(line)!=0:\n",
    "                flag = False\n",
    "                \n",
    "        print((claim,line,0))                             \n",
    "        claim_neg.append(claim)\n",
    "        candidate_neg.append(line)\n",
    "        label_neg.append(0)\n",
    "        "
   ]
  },
  {
   "cell_type": "code",
   "execution_count": 89,
   "id": "e2efb439",
   "metadata": {},
   "outputs": [
    {
     "name": "stdout",
     "output_type": "stream",
     "text": [
      "Nikolaj Coster-Waldau worked with the Fox Broadcasting Company.\n",
      "The series has received 110 Emmy Award nominations , including six consecutive Outstanding Drama Series nominations , with 38 wins .\n",
      "0\n"
     ]
    }
   ],
   "source": [
    "print(claim_neg[0])\n",
    "print(candidate_neg[0])\n",
    "print(label_neg[0])"
   ]
  },
  {
   "cell_type": "code",
   "execution_count": 93,
   "id": "1a800465",
   "metadata": {},
   "outputs": [
    {
     "name": "stdout",
     "output_type": "stream",
     "text": [
      "Nikolaj Coster-Waldau worked with the Fox Broadcasting Company.\n",
      "He then played Detective John Amsterdam in the short-lived Fox television series New Amsterdam -LRB- 2008 -RRB- , as well as appearing as Frank Pike in the 2009 Fox television film Virtuality , originally intended as a pilot .\n",
      "1\n"
     ]
    }
   ],
   "source": [
    "print(claim_pos[0]) \n",
    "print(candidate_evidence_pos[0])\n",
    "print(claim_label_pos[0])\n"
   ]
  },
  {
   "cell_type": "markdown",
   "id": "e78ec8cd",
   "metadata": {},
   "source": [
    "### Define train_claims,train_evidence and train_labels using positive and negative samples"
   ]
  },
  {
   "cell_type": "code",
   "execution_count": 94,
   "id": "fc724fe2",
   "metadata": {},
   "outputs": [],
   "source": [
    "train_claims = claim_pos + claim_neg\n",
    "train_evidence = candidate_evidence_pos + candidate_neg\n",
    "train_labels = claim_label_pos + label_neg\n"
   ]
  },
  {
   "cell_type": "markdown",
   "id": "8405084f",
   "metadata": {},
   "source": [
    "### Load your training data"
   ]
  },
  {
   "cell_type": "code",
   "execution_count": 95,
   "id": "f61cc356",
   "metadata": {},
   "outputs": [],
   "source": [
    "# Tokenize input sequences\n",
    "input_ids = []\n",
    "attention_masks = []\n",
    "for claim, evidence in zip(train_claims, train_evidence):\n",
    "    encoded_dict = tokenizer.encode_plus(\n",
    "                        claim,\n",
    "                        evidence,\n",
    "                        add_special_tokens = True,\n",
    "                        max_length = 128,\n",
    "                        padding = 'max_length',\n",
    "                        return_attention_mask = True,\n",
    "                        return_tensors = 'pt',\n",
    "                   )\n",
    "    input_ids.append(encoded_dict['input_ids'])\n",
    "    attention_masks.append(encoded_dict['attention_mask'])\n",
    "\n",
    "input_ids = torch.cat(input_ids, dim=0)\n",
    "attention_masks = torch.cat(attention_masks, dim=0)\n",
    "labels = torch.tensor(train_labels)"
   ]
  },
  {
   "cell_type": "code",
   "execution_count": 96,
   "id": "e9f82e58",
   "metadata": {},
   "outputs": [
    {
     "data": {
      "text/plain": [
       "tensor([[  101, 24794,  3501,  ...,     0,     0,     0],\n",
       "        [  101, 24794,  3501,  ...,     0,     0,     0],\n",
       "        [  101,  3142,  2012,  ...,     0,     0,     0],\n",
       "        ...,\n",
       "        [  101,  2381,  1997,  ...,     0,     0,     0],\n",
       "        [  101,  2381,  1997,  ...,     0,     0,     0],\n",
       "        [  101,  2381,  1997,  ...,     0,     0,     0]])"
      ]
     },
     "execution_count": 96,
     "metadata": {},
     "output_type": "execute_result"
    }
   ],
   "source": [
    "input_ids"
   ]
  },
  {
   "cell_type": "code",
   "execution_count": 97,
   "id": "8e79d788",
   "metadata": {},
   "outputs": [
    {
     "data": {
      "text/plain": [
       "torch.Size([10, 128])"
      ]
     },
     "execution_count": 97,
     "metadata": {},
     "output_type": "execute_result"
    }
   ],
   "source": [
    "input_ids.shape"
   ]
  },
  {
   "cell_type": "code",
   "execution_count": 98,
   "id": "348ee37d",
   "metadata": {},
   "outputs": [
    {
     "data": {
      "text/plain": [
       "tensor([[1, 1, 1,  ..., 0, 0, 0],\n",
       "        [1, 1, 1,  ..., 0, 0, 0],\n",
       "        [1, 1, 1,  ..., 0, 0, 0],\n",
       "        ...,\n",
       "        [1, 1, 1,  ..., 0, 0, 0],\n",
       "        [1, 1, 1,  ..., 0, 0, 0],\n",
       "        [1, 1, 1,  ..., 0, 0, 0]])"
      ]
     },
     "execution_count": 98,
     "metadata": {},
     "output_type": "execute_result"
    }
   ],
   "source": [
    "attention_masks"
   ]
  },
  {
   "cell_type": "code",
   "execution_count": 99,
   "id": "c8d50e8b",
   "metadata": {},
   "outputs": [
    {
     "data": {
      "text/plain": [
       "torch.Size([10, 128])"
      ]
     },
     "execution_count": 99,
     "metadata": {},
     "output_type": "execute_result"
    }
   ],
   "source": [
    "attention_masks.shape"
   ]
  },
  {
   "cell_type": "code",
   "execution_count": 100,
   "id": "939cb095",
   "metadata": {},
   "outputs": [
    {
     "data": {
      "text/plain": [
       "tensor([1, 1, 1, 1, 1, 0, 0, 0, 0, 0])"
      ]
     },
     "execution_count": 100,
     "metadata": {},
     "output_type": "execute_result"
    }
   ],
   "source": [
    "labels"
   ]
  },
  {
   "cell_type": "code",
   "execution_count": 101,
   "id": "e237461b",
   "metadata": {},
   "outputs": [
    {
     "data": {
      "text/plain": [
       "torch.Size([10])"
      ]
     },
     "execution_count": 101,
     "metadata": {},
     "output_type": "execute_result"
    }
   ],
   "source": [
    "labels.shape"
   ]
  },
  {
   "cell_type": "markdown",
   "id": "b8a2f32e",
   "metadata": {},
   "source": [
    "### Construct dataset with (input_ids,attention_masks,labels)"
   ]
  },
  {
   "cell_type": "code",
   "execution_count": 102,
   "id": "5feb426f",
   "metadata": {},
   "outputs": [],
   "source": [
    "# Combine input sequences with labels\n",
    "dataset = TensorDataset(input_ids, attention_masks, labels)\n",
    "\n",
    "# Split data into training and validation sets\n",
    "train_size = int(0.8 * len(dataset))\n",
    "val_size = len(dataset) - train_size\n",
    "train_dataset, val_dataset = random_split(dataset, [train_size, val_size])\n"
   ]
  },
  {
   "cell_type": "code",
   "execution_count": 103,
   "id": "2159e6aa",
   "metadata": {},
   "outputs": [
    {
     "name": "stdout",
     "output_type": "stream",
     "text": [
      "8\n",
      "2\n"
     ]
    }
   ],
   "source": [
    "print(len(train_dataset))\n",
    "print(len(val_dataset))"
   ]
  },
  {
   "cell_type": "markdown",
   "id": "46ee8da9",
   "metadata": {},
   "source": [
    "### Construct the dataloaders"
   ]
  },
  {
   "cell_type": "code",
   "execution_count": 104,
   "id": "38559e12",
   "metadata": {},
   "outputs": [],
   "source": [
    "# Create data loaders for batching\n",
    "\n",
    "batch_size = 2\n",
    "train_dataloader = DataLoader(train_dataset, sampler=torch.utils.data.RandomSampler(train_dataset), batch_size=batch_size)\n",
    "val_dataloader = DataLoader(val_dataset, sampler=torch.utils.data.SequentialSampler(val_dataset), batch_size=batch_size)\n"
   ]
  },
  {
   "cell_type": "markdown",
   "id": "12e1b97d",
   "metadata": {},
   "source": [
    "### Load the pretrained model"
   ]
  },
  {
   "cell_type": "code",
   "execution_count": 105,
   "id": "8b9a101d",
   "metadata": {},
   "outputs": [
    {
     "name": "stderr",
     "output_type": "stream",
     "text": [
      "Some weights of the model checkpoint at bert-base-uncased were not used when initializing BertForSequenceClassification: ['cls.predictions.bias', 'cls.seq_relationship.bias', 'cls.predictions.transform.dense.bias', 'cls.predictions.decoder.weight', 'cls.predictions.transform.LayerNorm.bias', 'cls.predictions.transform.LayerNorm.weight', 'cls.seq_relationship.weight', 'cls.predictions.transform.dense.weight']\n",
      "- This IS expected if you are initializing BertForSequenceClassification from the checkpoint of a model trained on another task or with another architecture (e.g. initializing a BertForSequenceClassification model from a BertForPreTraining model).\n",
      "- This IS NOT expected if you are initializing BertForSequenceClassification from the checkpoint of a model that you expect to be exactly identical (initializing a BertForSequenceClassification model from a BertForSequenceClassification model).\n",
      "Some weights of BertForSequenceClassification were not initialized from the model checkpoint at bert-base-uncased and are newly initialized: ['classifier.bias', 'classifier.weight']\n",
      "You should probably TRAIN this model on a down-stream task to be able to use it for predictions and inference.\n"
     ]
    }
   ],
   "source": [
    "model_name = 'bert-base-uncased'\n",
    "model = BertForSequenceClassification.from_pretrained(model_name, num_labels=2)"
   ]
  },
  {
   "cell_type": "markdown",
   "id": "65f27f79",
   "metadata": {},
   "source": [
    "### Finetune the pretrained BERT Model using training examples"
   ]
  },
  {
   "cell_type": "code",
   "execution_count": 108,
   "id": "cf28bcf3",
   "metadata": {},
   "outputs": [
    {
     "name": "stdout",
     "output_type": "stream",
     "text": [
      "Training epoch 0...\n",
      "Average training loss: 0.1866\n",
      "Training epoch 1...\n",
      "Average training loss: 0.1271\n",
      "Training epoch 2...\n",
      "Average training loss: 0.0949\n",
      "Training epoch 3...\n",
      "Average training loss: 0.0705\n",
      "Training epoch 4...\n",
      "Average training loss: 0.0515\n",
      "Training epoch 5...\n",
      "Average training loss: 0.0392\n",
      "Training epoch 6...\n",
      "Average training loss: 0.0269\n",
      "Training epoch 7...\n",
      "Average training loss: 0.0180\n"
     ]
    }
   ],
   "source": [
    "# Set up the optimizer and loss function\n",
    "import torch.nn.functional as F\n",
    "\n",
    "optimizer = torch.optim.Adam(model.parameters(), lr=2e-5)\n",
    "criterion = torch.nn.CrossEntropyLoss()\n",
    "\n",
    "n_epochs = 8\n",
    "\n",
    "model = model.to(device)\n",
    "model.train()\n",
    "\n",
    "for epoch in range(n_epochs):\n",
    "    print('Training epoch %d...' % epoch)\n",
    "    total_loss = 0\n",
    "    for step, batch in enumerate(train_dataloader):\n",
    "        input_ids = batch[0].to(device)\n",
    "        attention_masks = batch[1].to(device)\n",
    "        labels = batch[2].to(device)\n",
    "        optimizer.zero_grad()\n",
    "        outputs = model(input_ids, attention_mask=attention_masks, labels=labels)\n",
    "        #print(\"AAAAA\",outputs[0])\n",
    "        loss = criterion(outputs[1], labels)\n",
    "        total_loss += loss.item()\n",
    "        loss.backward()\n",
    "        torch.nn.utils.clip_grad_norm_(model.parameters(), 1.0)\n",
    "        optimizer.step()\n",
    "    print('Average training loss: %.4f' % (total_loss / len(train_dataloader)))\n",
    "\n",
    "# Evaluate the fine-tuned model on your validation set\n",
    "# Let's assume your validation set is in the same format as your training set\n",
    "# and you have converted it into a DataLoader of input tensors called val_dataloader\n",
    "# with the same structure as train_dataloader\n",
    "model.eval()\n",
    "with torch.no_grad():\n",
    "    val_loss = 0\n",
    "    val_accuracy = 0\n",
    "    val_steps = 0\n",
    "    \n",
    "    for batch in val_dataloader:\n",
    "        input_ids = batch[0].to(device)\n",
    "        attention_masks = batch[1].to(device)\n",
    "        labels = batch[2].to(device)\n",
    "        outputs = model(input_ids, attention_mask=attention_masks, labels=labels)\n",
    "        \n",
    "        # Extract loss and logits from the model output\n",
    "        val_loss += outputs.loss.item()\n",
    "        logits = outputs.logits\n",
    "\n",
    "        # Convert logits to probabilities and get predicted labels\n",
    "        probs = F.softmax(logits, dim=1)\n",
    "        preds = torch.argmax(probs, dim=1)\n",
    "\n",
    "        # Compute accuracy for the batch\n",
    "        val_accuracy += torch.sum(preds == labels).item()\n",
    "\n",
    "        # Update the number of evaluation steps\n",
    "        val_steps += 1\n",
    "        \n",
    "        \n",
    "# Calculate average evaluation loss and accuracy\n",
    "avg_val_loss = val_loss / val_steps\n",
    "avg_val_accuracy = val_accuracy / len(val_dataset)\n",
    "        \n"
   ]
  },
  {
   "cell_type": "markdown",
   "id": "d985ddbd",
   "metadata": {},
   "source": [
    "### Print Validation Accuracy"
   ]
  },
  {
   "cell_type": "code",
   "execution_count": 109,
   "id": "2fe4385f",
   "metadata": {},
   "outputs": [
    {
     "name": "stdout",
     "output_type": "stream",
     "text": [
      "avg val accuracy 1.0\n",
      "avg loss 0.012902320362627506\n"
     ]
    }
   ],
   "source": [
    "print(\"avg val accuracy\", avg_val_accuracy)\n",
    "print(\"avg loss\",avg_val_loss)"
   ]
  },
  {
   "cell_type": "code",
   "execution_count": null,
   "id": "910cbc21",
   "metadata": {},
   "outputs": [],
   "source": [
    "\n",
    "def get_top_k_lines(page_title, k):\n",
    "    # Get the Wikipedia page\n",
    "    page = wikipedia.page(page_title)\n",
    "\n",
    "    # Get the summary of the page and split it into sentences\n",
    "    summary_sentences = page.summary.split('. ')\n",
    "\n",
    "    # Get the top k sentences from the summary\n",
    "    top_k_sentences = summary_sentences[:k]\n",
    "\n",
    "    # Join the sentences back into a single string and return it\n",
    "    return '. '.join(top_k_sentences)\n",
    "\n",
    "\n",
    "\n",
    "\n"
   ]
  },
  {
   "cell_type": "code",
   "execution_count": null,
   "id": "8d381b2f",
   "metadata": {},
   "outputs": [],
   "source": []
  }
 ],
 "metadata": {
  "kernelspec": {
   "display_name": "def_env",
   "language": "python",
   "name": "def_env"
  },
  "language_info": {
   "codemirror_mode": {
    "name": "ipython",
    "version": 3
   },
   "file_extension": ".py",
   "mimetype": "text/x-python",
   "name": "python",
   "nbconvert_exporter": "python",
   "pygments_lexer": "ipython3",
   "version": "3.11.0"
  }
 },
 "nbformat": 4,
 "nbformat_minor": 5
}
