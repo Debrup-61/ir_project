{
 "cells": [
  {
   "cell_type": "code",
   "execution_count": null,
   "id": "fde752ff",
   "metadata": {},
   "outputs": [],
   "source": [
    "### Fact Verification and Evidence Retrieval"
   ]
  },
  {
   "cell_type": "code",
   "execution_count": null,
   "id": "08e5d64b",
   "metadata": {},
   "outputs": [],
   "source": [
    "## Import libraries"
   ]
  },
  {
   "cell_type": "code",
   "execution_count": 1,
   "id": "fe4790a8",
   "metadata": {},
   "outputs": [],
   "source": [
    "import json\n",
    "import os\n",
    "import os.path as path"
   ]
  },
  {
   "cell_type": "code",
   "execution_count": null,
   "id": "467a5fd0",
   "metadata": {},
   "outputs": [],
   "source": [
    "### Define the paths"
   ]
  },
  {
   "cell_type": "code",
   "execution_count": 3,
   "id": "24ff6da7",
   "metadata": {},
   "outputs": [
    {
     "name": "stdout",
     "output_type": "stream",
     "text": [
      "Base dir: /Users/debrup/PycharmProjects/ir_project/ir_project\n",
      "Raw Training set: /Users/debrup/PycharmProjects/ir_project/ir_project/fever/train.jsonl\n",
      "Training DocRetrieval Output File: /Users/debrup/PycharmProjects/ir_project/ir_project/fever/train.wiki7.jsonl\n",
      "Database path: /Users/debrup/PycharmProjects/ir_project/ir_project/fever/fever.db\n"
     ]
    }
   ],
   "source": [
    "BASE_DIR = os.getcwd()\n",
    "\n",
    "raw_training_set = path.join(BASE_DIR, \"fever/train.jsonl\")\n",
    "training_doc_file = path.join(BASE_DIR,\"fever/train.wiki7.jsonl\")\n",
    "db_path = path.join(BASE_DIR, \"fever/fever.db\")\n",
    "\n",
    "print(\"Base dir:\",BASE_DIR)\n",
    "print(\"Raw Training set:\",raw_training_set)\n",
    "print(\"Training DocRetrieval Output File:\",training_doc_file)\n",
    "print(\"Database path:\",db_path)\n"
   ]
  },
  {
   "cell_type": "code",
   "execution_count": null,
   "id": "56e490be",
   "metadata": {},
   "outputs": [],
   "source": [
    "### Open the train.jsonl file"
   ]
  },
  {
   "cell_type": "code",
   "execution_count": 4,
   "id": "1164eea5",
   "metadata": {},
   "outputs": [],
   "source": [
    "class Reader:\n",
    "    def __init__(self,encoding=\"utf-8\"):\n",
    "        self.enc = encoding\n",
    "\n",
    "    def read(self,file):\n",
    "        with open(file,\"r\",encoding = self.enc) as f:\n",
    "            return self.process(f)\n",
    "\n",
    "    def process(self,f):\n",
    "        pass"
   ]
  },
  {
   "cell_type": "code",
   "execution_count": 5,
   "id": "0a599e21",
   "metadata": {},
   "outputs": [],
   "source": [
    "class JSONLineReader(Reader):\n",
    "    def process(self,fp):\n",
    "        data = []\n",
    "        for line in fp.readlines():\n",
    "            data.append(json.loads(line.strip()))\n",
    "        return data\n",
    "    "
   ]
  },
  {
   "cell_type": "code",
   "execution_count": 6,
   "id": "70b1359a",
   "metadata": {},
   "outputs": [],
   "source": [
    "processed = dict()\n",
    "jlr = JSONLineReader()\n",
    "lines = jlr.read(raw_training_set)"
   ]
  },
  {
   "cell_type": "code",
   "execution_count": 50,
   "id": "45e8fe27",
   "metadata": {},
   "outputs": [
    {
     "name": "stdout",
     "output_type": "stream",
     "text": [
      "<class 'list'>\n"
     ]
    }
   ],
   "source": [
    "test_lines = lines[0:3]\n",
    "print(type(test_lines))"
   ]
  },
  {
   "cell_type": "code",
   "execution_count": 51,
   "id": "3509f296",
   "metadata": {},
   "outputs": [
    {
     "name": "stdout",
     "output_type": "stream",
     "text": [
      "['Nikolaj Coster-Waldau worked with the Fox Broadcasting Company.', 'Roman Atwood is a content creator.', 'History of art includes architecture, dance, sculpture, music, painting, poetry literature, theatre, narrative, film, photography and graphic arts.']\n"
     ]
    }
   ],
   "source": [
    "claim_test_lines = [ sub['claim'] for sub in test_lines]\n",
    "print(claim_test_lines )"
   ]
  },
  {
   "cell_type": "code",
   "execution_count": 53,
   "id": "8320b2d4",
   "metadata": {
    "scrolled": true
   },
   "outputs": [
    {
     "name": "stdout",
     "output_type": "stream",
     "text": [
      "Collecting stanza\n",
      "  Using cached stanza-1.5.0-py3-none-any.whl (802 kB)\n",
      "Collecting emoji\n",
      "  Using cached emoji-2.2.0.tar.gz (240 kB)\n",
      "  Preparing metadata (setup.py) ... \u001b[?25ldone\n",
      "\u001b[?25hRequirement already satisfied: numpy in /Users/debrup/miniconda3/envs/def/lib/python3.11/site-packages (from stanza) (1.24.2)\n",
      "Collecting protobuf\n",
      "  Using cached protobuf-4.22.1-cp37-abi3-macosx_10_9_universal2.whl (397 kB)\n",
      "Requirement already satisfied: requests in /Users/debrup/miniconda3/envs/def/lib/python3.11/site-packages (from stanza) (2.28.2)\n",
      "Requirement already satisfied: six in /Users/debrup/miniconda3/envs/def/lib/python3.11/site-packages (from stanza) (1.16.0)\n",
      "Collecting torch>=1.3.0\n",
      "  Downloading torch-2.0.0-cp311-none-macosx_11_0_arm64.whl (55.8 MB)\n",
      "\u001b[2K     \u001b[90m━━━━━━━━━━━━━━━━━━━━━━━━━━━━━━━━━━━━━━━\u001b[0m \u001b[32m55.8/55.8 MB\u001b[0m \u001b[31m563.2 kB/s\u001b[0m eta \u001b[36m0:00:00\u001b[0m00:01\u001b[0m00:03\u001b[0m\n",
      "\u001b[?25hCollecting tqdm\n",
      "  Using cached tqdm-4.65.0-py3-none-any.whl (77 kB)\n",
      "Collecting filelock\n",
      "  Downloading filelock-3.10.7-py3-none-any.whl (10 kB)\n",
      "Requirement already satisfied: typing-extensions in /Users/debrup/miniconda3/envs/def/lib/python3.11/site-packages (from torch>=1.3.0->stanza) (4.5.0)\n",
      "Collecting sympy\n",
      "  Using cached sympy-1.11.1-py3-none-any.whl (6.5 MB)\n",
      "Collecting networkx\n",
      "  Using cached networkx-3.0-py3-none-any.whl (2.0 MB)\n",
      "Requirement already satisfied: jinja2 in /Users/debrup/miniconda3/envs/def/lib/python3.11/site-packages (from torch>=1.3.0->stanza) (3.1.2)\n",
      "Requirement already satisfied: charset-normalizer<4,>=2 in /Users/debrup/miniconda3/envs/def/lib/python3.11/site-packages (from requests->stanza) (3.1.0)\n",
      "Requirement already satisfied: idna<4,>=2.5 in /Users/debrup/miniconda3/envs/def/lib/python3.11/site-packages (from requests->stanza) (3.4)\n",
      "Requirement already satisfied: urllib3<1.27,>=1.21.1 in /Users/debrup/miniconda3/envs/def/lib/python3.11/site-packages (from requests->stanza) (1.26.15)\n",
      "Requirement already satisfied: certifi>=2017.4.17 in /Users/debrup/miniconda3/envs/def/lib/python3.11/site-packages (from requests->stanza) (2022.12.7)\n",
      "Requirement already satisfied: MarkupSafe>=2.0 in /Users/debrup/miniconda3/envs/def/lib/python3.11/site-packages (from jinja2->torch>=1.3.0->stanza) (2.1.2)\n",
      "Collecting mpmath>=0.19\n",
      "  Using cached mpmath-1.3.0-py3-none-any.whl (536 kB)\n",
      "Building wheels for collected packages: emoji\n",
      "  Building wheel for emoji (setup.py) ... \u001b[?25ldone\n",
      "\u001b[?25h  Created wheel for emoji: filename=emoji-2.2.0-py3-none-any.whl size=234911 sha256=8b636c5b9a393062962458f65d54ccdff479f27a8b5ff97a43e6a976ef42e9d7\n",
      "  Stored in directory: /Users/debrup/Library/Caches/pip/wheels/a1/d5/63/4dbdee6f4e23f24b771ea5ac6c9ebe3d7e227028c60e06ead3\n",
      "Successfully built emoji\n",
      "Installing collected packages: mpmath, tqdm, sympy, protobuf, networkx, filelock, emoji, torch, stanza\n",
      "Successfully installed emoji-2.2.0 filelock-3.10.7 mpmath-1.3.0 networkx-3.0 protobuf-4.22.1 stanza-1.5.0 sympy-1.11.1 torch-2.0.0 tqdm-4.65.0\n",
      "Note: you may need to restart the kernel to use updated packages.\n"
     ]
    }
   ],
   "source": [
    "pip install stanza\n"
   ]
  },
  {
   "cell_type": "code",
   "execution_count": 54,
   "id": "5a27e7f8",
   "metadata": {},
   "outputs": [
    {
     "name": "stderr",
     "output_type": "stream",
     "text": [
      "/Users/debrup/miniconda3/envs/def/lib/python3.11/site-packages/tqdm/auto.py:21: TqdmWarning: IProgress not found. Please update jupyter and ipywidgets. See https://ipywidgets.readthedocs.io/en/stable/user_install.html\n",
      "  from .autonotebook import tqdm as notebook_tqdm\n",
      "Downloading https://raw.githubusercontent.com/stanfordnlp/stanza-resources/main/resources_1.5.0.json: 200kB [00:00, 34.3MB/s]\n",
      "2023-04-02 11:40:44 INFO: Downloading default packages for language: en (English) ...\n",
      "Downloading https://huggingface.co/stanfordnlp/stanza-en/resolve/v1.5.0/models/d\n",
      "2023-04-02 11:42:59 INFO: Finished downloading models and saved to /Users/debrup/stanza_resources.\n"
     ]
    }
   ],
   "source": [
    "import stanza\n",
    "stanza.download('en') # download the English model"
   ]
  },
  {
   "cell_type": "code",
   "execution_count": 57,
   "id": "52ac3134",
   "metadata": {},
   "outputs": [
    {
     "name": "stderr",
     "output_type": "stream",
     "text": [
      "2023-04-02 11:52:53 INFO: Checking for updates to resources.json in case models have been updated.  Note: this behavior can be turned off with download_method=None or download_method=DownloadMethod.REUSE_RESOURCES\n",
      "Downloading https://raw.githubusercontent.com/stanfordnlp/stanza-resources/main/resources_1.5.0.json: 200kB [00:00, 4.80MB/s]\n",
      "2023-04-02 11:52:54 INFO: Loading these models for language: en (English):\n",
      "=========================\n",
      "| Processor | Package   |\n",
      "-------------------------\n",
      "| tokenize  | combined  |\n",
      "| ner       | ontonotes |\n",
      "=========================\n",
      "\n",
      "2023-04-02 11:52:54 INFO: Using device: cpu\n",
      "2023-04-02 11:52:54 INFO: Loading: tokenize\n",
      "2023-04-02 11:52:54 INFO: Loading: ner\n",
      "2023-04-02 11:52:55 INFO: Done loading processors!\n"
     ]
    },
    {
     "name": "stdout",
     "output_type": "stream",
     "text": [
      "Nikolaj Coster-Waldau PERSON\n",
      "the Fox Broadcasting Company ORG\n",
      "Roman Atwood PERSON\n"
     ]
    }
   ],
   "source": [
    "## Find the entities in the lines and the noun phrases\n",
    "\n",
    "nlp = stanza.Pipeline('en', processors='tokenize,ner')\n",
    "\n",
    "for text in claim_test_lines:\n",
    "    doc = nlp(text)\n",
    "    for ent in doc.ents:\n",
    "        print(ent.text, ent.type)\n"
   ]
  },
  {
   "cell_type": "code",
   "execution_count": 59,
   "id": "dbc316d8",
   "metadata": {
    "scrolled": true
   },
   "outputs": [
    {
     "name": "stdout",
     "output_type": "stream",
     "text": [
      "Collecting spacy\n",
      "  Downloading spacy-3.5.1-cp311-cp311-macosx_11_0_arm64.whl (6.5 MB)\n",
      "\u001b[2K     \u001b[90m━━━━━━━━━━━━━━━━━━━━━━━━━━━━━━━━━━━━━━━━\u001b[0m \u001b[32m6.5/6.5 MB\u001b[0m \u001b[31m3.0 MB/s\u001b[0m eta \u001b[36m0:00:00\u001b[0m00:01\u001b[0m00:01\u001b[0m\n",
      "\u001b[?25hCollecting spacy-legacy<3.1.0,>=3.0.11\n",
      "  Using cached spacy_legacy-3.0.12-py2.py3-none-any.whl (29 kB)\n",
      "Collecting spacy-loggers<2.0.0,>=1.0.0\n",
      "  Using cached spacy_loggers-1.0.4-py3-none-any.whl (11 kB)\n",
      "Collecting murmurhash<1.1.0,>=0.28.0\n",
      "  Downloading murmurhash-1.0.9-cp311-cp311-macosx_11_0_arm64.whl (18 kB)\n",
      "Collecting cymem<2.1.0,>=2.0.2\n",
      "  Downloading cymem-2.0.7-cp311-cp311-macosx_11_0_arm64.whl (30 kB)\n",
      "Collecting preshed<3.1.0,>=3.0.2\n",
      "  Downloading preshed-3.0.8-cp311-cp311-macosx_11_0_arm64.whl (98 kB)\n",
      "\u001b[2K     \u001b[90m━━━━━━━━━━━━━━━━━━━━━━━━━━━━━━━━━━━━━━━━\u001b[0m \u001b[32m98.2/98.2 kB\u001b[0m \u001b[31m1.0 MB/s\u001b[0m eta \u001b[36m0:00:00\u001b[0ma \u001b[36m0:00:01\u001b[0m\n",
      "\u001b[?25hCollecting thinc<8.2.0,>=8.1.8\n",
      "  Downloading thinc-8.1.9-cp311-cp311-macosx_11_0_arm64.whl (767 kB)\n",
      "\u001b[2K     \u001b[90m━━━━━━━━━━━━━━━━━━━━━━━━━━━━━━━━━━━━━\u001b[0m \u001b[32m767.8/767.8 kB\u001b[0m \u001b[31m609.5 kB/s\u001b[0m eta \u001b[36m0:00:00\u001b[0ma \u001b[36m0:00:01\u001b[0m\n",
      "\u001b[?25hCollecting wasabi<1.2.0,>=0.9.1\n",
      "  Using cached wasabi-1.1.1-py3-none-any.whl (27 kB)\n",
      "Collecting srsly<3.0.0,>=2.4.3\n",
      "  Downloading srsly-2.4.6-cp311-cp311-macosx_11_0_arm64.whl (487 kB)\n",
      "\u001b[2K     \u001b[90m━━━━━━━━━━━━━━━━━━━━━━━━━━━━━━━━━━━━━\u001b[0m \u001b[32m487.6/487.6 kB\u001b[0m \u001b[31m566.2 kB/s\u001b[0m eta \u001b[36m0:00:00\u001b[0m00:01\u001b[0m00:01\u001b[0m\n",
      "\u001b[?25hCollecting catalogue<2.1.0,>=2.0.6\n",
      "  Using cached catalogue-2.0.8-py3-none-any.whl (17 kB)\n",
      "Collecting typer<0.8.0,>=0.3.0\n",
      "  Using cached typer-0.7.0-py3-none-any.whl (38 kB)\n",
      "Collecting pathy>=0.10.0\n",
      "  Using cached pathy-0.10.1-py3-none-any.whl (48 kB)\n",
      "Collecting smart-open<7.0.0,>=5.2.1\n",
      "  Using cached smart_open-6.3.0-py3-none-any.whl (56 kB)\n",
      "Requirement already satisfied: tqdm<5.0.0,>=4.38.0 in /Users/debrup/miniconda3/envs/def/lib/python3.11/site-packages (from spacy) (4.65.0)\n",
      "Requirement already satisfied: numpy>=1.15.0 in /Users/debrup/miniconda3/envs/def/lib/python3.11/site-packages (from spacy) (1.24.2)\n",
      "Requirement already satisfied: requests<3.0.0,>=2.13.0 in /Users/debrup/miniconda3/envs/def/lib/python3.11/site-packages (from spacy) (2.28.2)\n",
      "Collecting pydantic!=1.8,!=1.8.1,<1.11.0,>=1.7.4\n",
      "  Downloading pydantic-1.10.7-cp311-cp311-macosx_11_0_arm64.whl (2.5 MB)\n",
      "\u001b[2K     \u001b[90m━━━━━━━━━━━━━━━━━━━━━━━━━━━━━━━━━━━━━━━━\u001b[0m \u001b[32m2.5/2.5 MB\u001b[0m \u001b[31m368.3 kB/s\u001b[0m eta \u001b[36m0:00:00\u001b[0m00:01\u001b[0m00:01\u001b[0m\n",
      "\u001b[?25hRequirement already satisfied: jinja2 in /Users/debrup/miniconda3/envs/def/lib/python3.11/site-packages (from spacy) (3.1.2)\n",
      "Requirement already satisfied: setuptools in /Users/debrup/miniconda3/envs/def/lib/python3.11/site-packages (from spacy) (67.6.1)\n",
      "Requirement already satisfied: packaging>=20.0 in /Users/debrup/miniconda3/envs/def/lib/python3.11/site-packages (from spacy) (23.0)\n",
      "Collecting langcodes<4.0.0,>=3.2.0\n",
      "  Using cached langcodes-3.3.0-py3-none-any.whl (181 kB)\n",
      "Requirement already satisfied: typing-extensions>=4.2.0 in /Users/debrup/miniconda3/envs/def/lib/python3.11/site-packages (from pydantic!=1.8,!=1.8.1,<1.11.0,>=1.7.4->spacy) (4.5.0)\n",
      "Requirement already satisfied: charset-normalizer<4,>=2 in /Users/debrup/miniconda3/envs/def/lib/python3.11/site-packages (from requests<3.0.0,>=2.13.0->spacy) (3.1.0)\n",
      "Requirement already satisfied: idna<4,>=2.5 in /Users/debrup/miniconda3/envs/def/lib/python3.11/site-packages (from requests<3.0.0,>=2.13.0->spacy) (3.4)\n",
      "Requirement already satisfied: urllib3<1.27,>=1.21.1 in /Users/debrup/miniconda3/envs/def/lib/python3.11/site-packages (from requests<3.0.0,>=2.13.0->spacy) (1.26.15)\n",
      "Requirement already satisfied: certifi>=2017.4.17 in /Users/debrup/miniconda3/envs/def/lib/python3.11/site-packages (from requests<3.0.0,>=2.13.0->spacy) (2022.12.7)\n",
      "Collecting blis<0.8.0,>=0.7.8\n",
      "  Downloading blis-0.7.9-cp311-cp311-macosx_11_0_arm64.whl (1.1 MB)\n",
      "\u001b[2K     \u001b[90m━━━━━━━━━━━━━━━━━━━━━━━━━━━━━━━━━━━━━━━━\u001b[0m \u001b[32m1.1/1.1 MB\u001b[0m \u001b[31m419.9 kB/s\u001b[0m eta \u001b[36m0:00:00\u001b[0m00:01\u001b[0m00:01\u001b[0m\n",
      "\u001b[?25hCollecting confection<1.0.0,>=0.0.1\n",
      "  Using cached confection-0.0.4-py3-none-any.whl (32 kB)\n",
      "Collecting click<9.0.0,>=7.1.1\n",
      "  Using cached click-8.1.3-py3-none-any.whl (96 kB)\n",
      "Requirement already satisfied: MarkupSafe>=2.0 in /Users/debrup/miniconda3/envs/def/lib/python3.11/site-packages (from jinja2->spacy) (2.1.2)\n",
      "Installing collected packages: cymem, wasabi, spacy-loggers, spacy-legacy, smart-open, pydantic, murmurhash, langcodes, click, catalogue, blis, typer, srsly, preshed, pathy, confection, thinc, spacy\n",
      "Successfully installed blis-0.7.9 catalogue-2.0.8 click-8.1.3 confection-0.0.4 cymem-2.0.7 langcodes-3.3.0 murmurhash-1.0.9 pathy-0.10.1 preshed-3.0.8 pydantic-1.10.7 smart-open-6.3.0 spacy-3.5.1 spacy-legacy-3.0.12 spacy-loggers-1.0.4 srsly-2.4.6 thinc-8.1.9 typer-0.7.0 wasabi-1.1.1\n",
      "Note: you may need to restart the kernel to use updated packages.\n"
     ]
    }
   ],
   "source": [
    "pip install spacy"
   ]
  },
  {
   "cell_type": "code",
   "execution_count": 62,
   "id": "95c3560b",
   "metadata": {},
   "outputs": [
    {
     "name": "stdout",
     "output_type": "stream",
     "text": [
      "Nikolaj Coster-Waldau PERSON\n",
      "the Fox Broadcasting Company ORG\n",
      "Roman Atwood PERSON\n"
     ]
    }
   ],
   "source": [
    "import spacy\n",
    "\n",
    "nlp = spacy.load(\"en_core_web_sm\")\n",
    "\n",
    "\n",
    "docs = list(nlp.pipe(claim_test_lines))\n",
    "\n",
    "for doc in docs:\n",
    "    for ent in doc.ents:\n",
    "        print(ent.text, ent.label_)"
   ]
  },
  {
   "cell_type": "code",
   "execution_count": null,
   "id": "9cbb4c80",
   "metadata": {},
   "outputs": [],
   "source": [
    "### As we can see the NER Models cannot get all the required entities. \n",
    "### They can only derive very specific entity objects"
   ]
  },
  {
   "cell_type": "code",
   "execution_count": 83,
   "id": "c53cc046",
   "metadata": {},
   "outputs": [
    {
     "name": "stdout",
     "output_type": "stream",
     "text": [
      "Collecting nltk\n",
      "  Using cached nltk-3.8.1-py3-none-any.whl (1.5 MB)\n",
      "Requirement already satisfied: click in /Users/debrup/miniconda3/envs/def/lib/python3.11/site-packages (from nltk) (8.1.3)\n",
      "Requirement already satisfied: joblib in /Users/debrup/miniconda3/envs/def/lib/python3.11/site-packages (from nltk) (1.2.0)\n",
      "Collecting regex>=2021.8.3\n",
      "  Downloading regex-2023.3.23-cp311-cp311-macosx_11_0_arm64.whl (288 kB)\n",
      "\u001b[2K     \u001b[90m━━━━━━━━━━━━━━━━━━━━━━━━━━━━━━━━━━━━━\u001b[0m \u001b[32m288.8/288.8 kB\u001b[0m \u001b[31m227.6 kB/s\u001b[0m eta \u001b[36m0:00:00\u001b[0ma \u001b[36m0:00:01\u001b[0m\n",
      "\u001b[?25hRequirement already satisfied: tqdm in /Users/debrup/miniconda3/envs/def/lib/python3.11/site-packages (from nltk) (4.65.0)\n",
      "Installing collected packages: regex, nltk\n",
      "Successfully installed nltk-3.8.1 regex-2023.3.23\n",
      "Note: you may need to restart the kernel to use updated packages.\n"
     ]
    }
   ],
   "source": [
    "pip install nltk"
   ]
  },
  {
   "cell_type": "code",
   "execution_count": 105,
   "id": "3c570f7e",
   "metadata": {
    "scrolled": true
   },
   "outputs": [
    {
     "name": "stdout",
     "output_type": "stream",
     "text": [
      "Collecting constituent-treelib\n",
      "  Using cached constituent_treelib-0.0.6-py3-none-any.whl (799 kB)\n",
      "Collecting benepar\n",
      "  Using cached benepar-0.2.0-py3-none-any.whl\n",
      "Collecting contractions\n",
      "  Using cached contractions-0.1.73-py2.py3-none-any.whl (8.7 kB)\n",
      "Collecting fasttext\n",
      "  Using cached fasttext-0.9.2-cp311-cp311-macosx_12_0_arm64.whl\n",
      "Collecting huspacy\n",
      "  Using cached huspacy-0.5.1-py3-none-any.whl (15 kB)\n",
      "Requirement already satisfied: ipython in /Users/debrup/miniconda3/envs/def/lib/python3.11/site-packages (from constituent-treelib) (8.11.0)\n",
      "Requirement already satisfied: nltk in /Users/debrup/miniconda3/envs/def/lib/python3.11/site-packages (from constituent-treelib) (3.8.1)\n",
      "Collecting pdfkit\n",
      "  Using cached pdfkit-1.0.0-py3-none-any.whl (12 kB)\n",
      "Collecting protobuf==3.20.3\n",
      "  Using cached protobuf-3.20.3-py2.py3-none-any.whl (162 kB)\n",
      "Collecting pytest\n",
      "  Using cached pytest-7.2.2-py3-none-any.whl (317 kB)\n",
      "Requirement already satisfied: spacy in /Users/debrup/miniconda3/envs/def/lib/python3.11/site-packages (from constituent-treelib) (3.5.1)\n",
      "Collecting streamlit\n",
      "  Using cached streamlit-1.20.0-py2.py3-none-any.whl (9.6 MB)\n",
      "Collecting svgling\n",
      "  Using cached svgling-0.3.1-py3-none-any.whl (21 kB)\n",
      "Collecting tokenizers\n",
      "  Using cached tokenizers-0.13.2-cp311-cp311-macosx_12_0_arm64.whl (3.7 MB)\n",
      "Requirement already satisfied: torch in /Users/debrup/miniconda3/envs/def/lib/python3.11/site-packages (from constituent-treelib) (2.0.0)\n",
      "Collecting transformers[torch]\n",
      "  Using cached transformers-4.27.4-py3-none-any.whl (6.8 MB)\n",
      "Collecting wand\n",
      "  Using cached Wand-0.6.11-py2.py3-none-any.whl (143 kB)\n",
      "Collecting torch-struct>=0.5\n",
      "  Using cached torch_struct-0.5-py3-none-any.whl (34 kB)\n",
      "Collecting sentencepiece>=0.1.91\n",
      "  Using cached sentencepiece-0.1.97.tar.gz (524 kB)\n",
      "  Preparing metadata (setup.py) ... \u001b[?25ldone\n",
      "\u001b[?25hRequirement already satisfied: click in /Users/debrup/miniconda3/envs/def/lib/python3.11/site-packages (from nltk->constituent-treelib) (8.1.3)\n",
      "Requirement already satisfied: joblib in /Users/debrup/miniconda3/envs/def/lib/python3.11/site-packages (from nltk->constituent-treelib) (1.2.0)\n",
      "Requirement already satisfied: regex>=2021.8.3 in /Users/debrup/miniconda3/envs/def/lib/python3.11/site-packages (from nltk->constituent-treelib) (2023.3.23)\n",
      "Requirement already satisfied: tqdm in /Users/debrup/miniconda3/envs/def/lib/python3.11/site-packages (from nltk->constituent-treelib) (4.65.0)\n",
      "Requirement already satisfied: spacy-legacy<3.1.0,>=3.0.11 in /Users/debrup/miniconda3/envs/def/lib/python3.11/site-packages (from spacy->constituent-treelib) (3.0.12)\n",
      "Requirement already satisfied: spacy-loggers<2.0.0,>=1.0.0 in /Users/debrup/miniconda3/envs/def/lib/python3.11/site-packages (from spacy->constituent-treelib) (1.0.4)\n",
      "Requirement already satisfied: murmurhash<1.1.0,>=0.28.0 in /Users/debrup/miniconda3/envs/def/lib/python3.11/site-packages (from spacy->constituent-treelib) (1.0.9)\n",
      "Requirement already satisfied: cymem<2.1.0,>=2.0.2 in /Users/debrup/miniconda3/envs/def/lib/python3.11/site-packages (from spacy->constituent-treelib) (2.0.7)\n",
      "Requirement already satisfied: preshed<3.1.0,>=3.0.2 in /Users/debrup/miniconda3/envs/def/lib/python3.11/site-packages (from spacy->constituent-treelib) (3.0.8)\n",
      "Requirement already satisfied: thinc<8.2.0,>=8.1.8 in /Users/debrup/miniconda3/envs/def/lib/python3.11/site-packages (from spacy->constituent-treelib) (8.1.9)\n",
      "Requirement already satisfied: wasabi<1.2.0,>=0.9.1 in /Users/debrup/miniconda3/envs/def/lib/python3.11/site-packages (from spacy->constituent-treelib) (1.1.1)\n",
      "Requirement already satisfied: srsly<3.0.0,>=2.4.3 in /Users/debrup/miniconda3/envs/def/lib/python3.11/site-packages (from spacy->constituent-treelib) (2.4.6)\n",
      "Requirement already satisfied: catalogue<2.1.0,>=2.0.6 in /Users/debrup/miniconda3/envs/def/lib/python3.11/site-packages (from spacy->constituent-treelib) (2.0.8)\n",
      "Requirement already satisfied: typer<0.8.0,>=0.3.0 in /Users/debrup/miniconda3/envs/def/lib/python3.11/site-packages (from spacy->constituent-treelib) (0.7.0)\n",
      "Requirement already satisfied: pathy>=0.10.0 in /Users/debrup/miniconda3/envs/def/lib/python3.11/site-packages (from spacy->constituent-treelib) (0.10.1)\n",
      "Requirement already satisfied: smart-open<7.0.0,>=5.2.1 in /Users/debrup/miniconda3/envs/def/lib/python3.11/site-packages (from spacy->constituent-treelib) (6.3.0)\n",
      "Requirement already satisfied: numpy>=1.15.0 in /Users/debrup/miniconda3/envs/def/lib/python3.11/site-packages (from spacy->constituent-treelib) (1.24.2)\n",
      "Requirement already satisfied: requests<3.0.0,>=2.13.0 in /Users/debrup/miniconda3/envs/def/lib/python3.11/site-packages (from spacy->constituent-treelib) (2.28.2)\n",
      "Requirement already satisfied: pydantic!=1.8,!=1.8.1,<1.11.0,>=1.7.4 in /Users/debrup/miniconda3/envs/def/lib/python3.11/site-packages (from spacy->constituent-treelib) (1.10.7)\n",
      "Requirement already satisfied: jinja2 in /Users/debrup/miniconda3/envs/def/lib/python3.11/site-packages (from spacy->constituent-treelib) (3.1.2)\n",
      "Requirement already satisfied: setuptools in /Users/debrup/miniconda3/envs/def/lib/python3.11/site-packages (from spacy->constituent-treelib) (67.6.1)\n",
      "Requirement already satisfied: packaging>=20.0 in /Users/debrup/miniconda3/envs/def/lib/python3.11/site-packages (from spacy->constituent-treelib) (23.0)\n",
      "Requirement already satisfied: langcodes<4.0.0,>=3.2.0 in /Users/debrup/miniconda3/envs/def/lib/python3.11/site-packages (from spacy->constituent-treelib) (3.3.0)\n",
      "Requirement already satisfied: filelock in /Users/debrup/miniconda3/envs/def/lib/python3.11/site-packages (from torch->constituent-treelib) (3.10.7)\n",
      "Requirement already satisfied: typing-extensions in /Users/debrup/miniconda3/envs/def/lib/python3.11/site-packages (from torch->constituent-treelib) (4.5.0)\n",
      "Requirement already satisfied: sympy in /Users/debrup/miniconda3/envs/def/lib/python3.11/site-packages (from torch->constituent-treelib) (1.11.1)\n",
      "Requirement already satisfied: networkx in /Users/debrup/miniconda3/envs/def/lib/python3.11/site-packages (from torch->constituent-treelib) (3.0)\n",
      "Collecting textsearch>=0.0.21\n",
      "  Using cached textsearch-0.0.24-py2.py3-none-any.whl (7.6 kB)\n",
      "Requirement already satisfied: pybind11>=2.2 in /Users/debrup/miniconda3/envs/def/lib/python3.11/site-packages (from fasttext->constituent-treelib) (2.10.4)\n",
      "Requirement already satisfied: backcall in /Users/debrup/miniconda3/envs/def/lib/python3.11/site-packages (from ipython->constituent-treelib) (0.2.0)\n",
      "Requirement already satisfied: decorator in /Users/debrup/miniconda3/envs/def/lib/python3.11/site-packages (from ipython->constituent-treelib) (5.1.1)\n",
      "Requirement already satisfied: jedi>=0.16 in /Users/debrup/miniconda3/envs/def/lib/python3.11/site-packages (from ipython->constituent-treelib) (0.18.2)\n",
      "Requirement already satisfied: matplotlib-inline in /Users/debrup/miniconda3/envs/def/lib/python3.11/site-packages (from ipython->constituent-treelib) (0.1.6)\n",
      "Requirement already satisfied: pickleshare in /Users/debrup/miniconda3/envs/def/lib/python3.11/site-packages (from ipython->constituent-treelib) (0.7.5)\n",
      "Requirement already satisfied: prompt-toolkit!=3.0.37,<3.1.0,>=3.0.30 in /Users/debrup/miniconda3/envs/def/lib/python3.11/site-packages (from ipython->constituent-treelib) (3.0.38)\n",
      "Requirement already satisfied: pygments>=2.4.0 in /Users/debrup/miniconda3/envs/def/lib/python3.11/site-packages (from ipython->constituent-treelib) (2.14.0)\n",
      "Requirement already satisfied: stack-data in /Users/debrup/miniconda3/envs/def/lib/python3.11/site-packages (from ipython->constituent-treelib) (0.6.2)\n",
      "Requirement already satisfied: traitlets>=5 in /Users/debrup/miniconda3/envs/def/lib/python3.11/site-packages (from ipython->constituent-treelib) (5.9.0)\n",
      "Requirement already satisfied: pexpect>4.3 in /Users/debrup/miniconda3/envs/def/lib/python3.11/site-packages (from ipython->constituent-treelib) (4.8.0)\n",
      "Requirement already satisfied: appnope in /Users/debrup/miniconda3/envs/def/lib/python3.11/site-packages (from ipython->constituent-treelib) (0.1.3)\n",
      "Requirement already satisfied: attrs>=19.2.0 in /Users/debrup/miniconda3/envs/def/lib/python3.11/site-packages (from pytest->constituent-treelib) (22.2.0)\n"
     ]
    },
    {
     "name": "stdout",
     "output_type": "stream",
     "text": [
      "Collecting iniconfig\n",
      "  Using cached iniconfig-2.0.0-py3-none-any.whl (5.9 kB)\n",
      "Collecting pluggy<2.0,>=0.12\n",
      "  Using cached pluggy-1.0.0-py2.py3-none-any.whl (13 kB)\n",
      "Collecting altair<5,>=3.2.0\n",
      "  Using cached altair-4.2.2-py3-none-any.whl (813 kB)\n",
      "Collecting blinker>=1.0.0\n",
      "  Using cached blinker-1.5-py2.py3-none-any.whl (12 kB)\n",
      "Collecting cachetools>=4.0\n",
      "  Using cached cachetools-5.3.0-py3-none-any.whl (9.3 kB)\n",
      "Collecting importlib-metadata>=1.4\n",
      "  Using cached importlib_metadata-6.1.0-py3-none-any.whl (21 kB)\n",
      "Requirement already satisfied: pandas<2,>=0.25 in /Users/debrup/miniconda3/envs/def/lib/python3.11/site-packages (from streamlit->constituent-treelib) (1.5.3)\n",
      "Requirement already satisfied: pillow>=6.2.0 in /Users/debrup/miniconda3/envs/def/lib/python3.11/site-packages (from streamlit->constituent-treelib) (9.4.0)\n",
      "Collecting pyarrow>=4.0\n",
      "  Using cached pyarrow-11.0.0-cp311-cp311-macosx_11_0_arm64.whl (22.3 MB)\n",
      "Collecting pympler>=0.9\n",
      "  Using cached Pympler-1.0.1-py3-none-any.whl (164 kB)\n",
      "Requirement already satisfied: python-dateutil in /Users/debrup/miniconda3/envs/def/lib/python3.11/site-packages (from streamlit->constituent-treelib) (2.8.2)\n",
      "Collecting rich>=10.11.0\n",
      "  Using cached rich-13.3.3-py3-none-any.whl (238 kB)\n",
      "Collecting semver\n",
      "  Using cached semver-2.13.0-py2.py3-none-any.whl (12 kB)\n",
      "Collecting toml\n",
      "  Using cached toml-0.10.2-py2.py3-none-any.whl (16 kB)\n",
      "Collecting tzlocal>=1.1\n",
      "  Using cached tzlocal-4.3-py3-none-any.whl (20 kB)\n",
      "Collecting validators>=0.2\n",
      "  Using cached validators-0.20.0.tar.gz (30 kB)\n",
      "  Preparing metadata (setup.py) ... \u001b[?25ldone\n",
      "\u001b[?25hCollecting gitpython!=3.1.19\n",
      "  Using cached GitPython-3.1.31-py3-none-any.whl (184 kB)\n",
      "Collecting pydeck>=0.1.dev5\n",
      "  Using cached pydeck-0.8.0-py2.py3-none-any.whl (4.7 MB)\n",
      "Requirement already satisfied: tornado>=6.0.3 in /Users/debrup/miniconda3/envs/def/lib/python3.11/site-packages (from streamlit->constituent-treelib) (6.2)\n",
      "Collecting svgwrite\n",
      "  Using cached svgwrite-1.4.3-py3-none-any.whl (67 kB)\n",
      "Collecting huggingface-hub<1.0,>=0.11.0\n",
      "  Using cached huggingface_hub-0.13.3-py3-none-any.whl (199 kB)\n",
      "Requirement already satisfied: pyyaml>=5.1 in /Users/debrup/miniconda3/envs/def/lib/python3.11/site-packages (from transformers[torch]->constituent-treelib) (6.0)\n",
      "Collecting entrypoints\n",
      "  Using cached entrypoints-0.4-py3-none-any.whl (5.3 kB)\n",
      "Requirement already satisfied: jsonschema>=3.0 in /Users/debrup/miniconda3/envs/def/lib/python3.11/site-packages (from altair<5,>=3.2.0->streamlit->constituent-treelib) (4.17.3)\n",
      "Requirement already satisfied: toolz in /Users/debrup/miniconda3/envs/def/lib/python3.11/site-packages (from altair<5,>=3.2.0->streamlit->constituent-treelib) (0.12.0)\n",
      "Collecting gitdb<5,>=4.0.1\n",
      "  Using cached gitdb-4.0.10-py3-none-any.whl (62 kB)\n",
      "Collecting zipp>=0.5\n",
      "  Using cached zipp-3.15.0-py3-none-any.whl (6.8 kB)\n",
      "Requirement already satisfied: parso<0.9.0,>=0.8.0 in /Users/debrup/miniconda3/envs/def/lib/python3.11/site-packages (from jedi>=0.16->ipython->constituent-treelib) (0.8.3)\n",
      "Requirement already satisfied: pytz>=2020.1 in /Users/debrup/miniconda3/envs/def/lib/python3.11/site-packages (from pandas<2,>=0.25->streamlit->constituent-treelib) (2022.7.1)\n",
      "Requirement already satisfied: ptyprocess>=0.5 in /Users/debrup/miniconda3/envs/def/lib/python3.11/site-packages (from pexpect>4.3->ipython->constituent-treelib) (0.7.0)\n",
      "Requirement already satisfied: wcwidth in /Users/debrup/miniconda3/envs/def/lib/python3.11/site-packages (from prompt-toolkit!=3.0.37,<3.1.0,>=3.0.30->ipython->constituent-treelib) (0.2.6)\n",
      "Requirement already satisfied: MarkupSafe>=2.0 in /Users/debrup/miniconda3/envs/def/lib/python3.11/site-packages (from jinja2->spacy->constituent-treelib) (2.1.2)\n",
      "Requirement already satisfied: six>=1.5 in /Users/debrup/miniconda3/envs/def/lib/python3.11/site-packages (from python-dateutil->streamlit->constituent-treelib) (1.16.0)\n",
      "Requirement already satisfied: charset-normalizer<4,>=2 in /Users/debrup/miniconda3/envs/def/lib/python3.11/site-packages (from requests<3.0.0,>=2.13.0->spacy->constituent-treelib) (3.1.0)\n",
      "Requirement already satisfied: idna<4,>=2.5 in /Users/debrup/miniconda3/envs/def/lib/python3.11/site-packages (from requests<3.0.0,>=2.13.0->spacy->constituent-treelib) (3.4)\n",
      "Requirement already satisfied: urllib3<1.27,>=1.21.1 in /Users/debrup/miniconda3/envs/def/lib/python3.11/site-packages (from requests<3.0.0,>=2.13.0->spacy->constituent-treelib) (1.26.15)\n",
      "Requirement already satisfied: certifi>=2017.4.17 in /Users/debrup/miniconda3/envs/def/lib/python3.11/site-packages (from requests<3.0.0,>=2.13.0->spacy->constituent-treelib) (2022.12.7)\n",
      "Collecting markdown-it-py<3.0.0,>=2.2.0\n",
      "  Using cached markdown_it_py-2.2.0-py3-none-any.whl (84 kB)\n",
      "Collecting anyascii\n",
      "  Using cached anyascii-0.3.2-py3-none-any.whl (289 kB)\n",
      "Collecting pyahocorasick\n",
      "  Using cached pyahocorasick-2.0.0-cp311-cp311-macosx_10_9_universal2.whl (63 kB)\n",
      "Requirement already satisfied: blis<0.8.0,>=0.7.8 in /Users/debrup/miniconda3/envs/def/lib/python3.11/site-packages (from thinc<8.2.0,>=8.1.8->spacy->constituent-treelib) (0.7.9)\n",
      "Requirement already satisfied: confection<1.0.0,>=0.0.1 in /Users/debrup/miniconda3/envs/def/lib/python3.11/site-packages (from thinc<8.2.0,>=8.1.8->spacy->constituent-treelib) (0.0.4)\n",
      "Collecting pytz-deprecation-shim\n",
      "  Using cached pytz_deprecation_shim-0.1.0.post0-py2.py3-none-any.whl (15 kB)\n",
      "Requirement already satisfied: executing>=1.2.0 in /Users/debrup/miniconda3/envs/def/lib/python3.11/site-packages (from stack-data->ipython->constituent-treelib) (1.2.0)\n",
      "Requirement already satisfied: asttokens>=2.1.0 in /Users/debrup/miniconda3/envs/def/lib/python3.11/site-packages (from stack-data->ipython->constituent-treelib) (2.2.1)\n",
      "Requirement already satisfied: pure-eval in /Users/debrup/miniconda3/envs/def/lib/python3.11/site-packages (from stack-data->ipython->constituent-treelib) (0.2.2)\n",
      "Requirement already satisfied: mpmath>=0.19 in /Users/debrup/miniconda3/envs/def/lib/python3.11/site-packages (from sympy->torch->constituent-treelib) (1.3.0)\n",
      "Collecting smmap<6,>=3.0.1\n",
      "  Using cached smmap-5.0.0-py3-none-any.whl (24 kB)\n",
      "Requirement already satisfied: pyrsistent!=0.17.0,!=0.17.1,!=0.17.2,>=0.14.0 in /Users/debrup/miniconda3/envs/def/lib/python3.11/site-packages (from jsonschema>=3.0->altair<5,>=3.2.0->streamlit->constituent-treelib) (0.19.3)\n",
      "Collecting mdurl~=0.1\n",
      "  Using cached mdurl-0.1.2-py3-none-any.whl (10.0 kB)\n",
      "Collecting tzdata\n",
      "  Using cached tzdata-2023.3-py2.py3-none-any.whl (341 kB)\n",
      "Building wheels for collected packages: sentencepiece, validators\n",
      "  Building wheel for sentencepiece (setup.py) ... \u001b[?25lerror\n",
      "  \u001b[1;31merror\u001b[0m: \u001b[1msubprocess-exited-with-error\u001b[0m\n",
      "  \n",
      "  \u001b[31m×\u001b[0m \u001b[32mpython setup.py bdist_wheel\u001b[0m did not run successfully.\n",
      "  \u001b[31m│\u001b[0m exit code: \u001b[1;36m1\u001b[0m\n",
      "  \u001b[31m╰─>\u001b[0m \u001b[31m[84 lines of output]\u001b[0m\n",
      "  \u001b[31m   \u001b[0m running bdist_wheel\n",
      "  \u001b[31m   \u001b[0m running build\n",
      "  \u001b[31m   \u001b[0m running build_py\n",
      "  \u001b[31m   \u001b[0m creating build\n",
      "  \u001b[31m   \u001b[0m creating build/lib.macosx-11.1-arm64-cpython-311\n",
      "  \u001b[31m   \u001b[0m creating build/lib.macosx-11.1-arm64-cpython-311/sentencepiece\n",
      "  \u001b[31m   \u001b[0m copying src/sentencepiece/__init__.py -> build/lib.macosx-11.1-arm64-cpython-311/sentencepiece\n",
      "  \u001b[31m   \u001b[0m copying src/sentencepiece/_version.py -> build/lib.macosx-11.1-arm64-cpython-311/sentencepiece\n",
      "  \u001b[31m   \u001b[0m copying src/sentencepiece/sentencepiece_model_pb2.py -> build/lib.macosx-11.1-arm64-cpython-311/sentencepiece\n",
      "  \u001b[31m   \u001b[0m copying src/sentencepiece/sentencepiece_pb2.py -> build/lib.macosx-11.1-arm64-cpython-311/sentencepiece\n",
      "  \u001b[31m   \u001b[0m running build_ext\n",
      "  \u001b[31m   \u001b[0m Package sentencepiece was not found in the pkg-config search path.\n",
      "  \u001b[31m   \u001b[0m Perhaps you should add the directory containing `sentencepiece.pc'\n",
      "  \u001b[31m   \u001b[0m to the PKG_CONFIG_PATH environment variable\n",
      "  \u001b[31m   \u001b[0m No package 'sentencepiece' found\n",
      "  \u001b[31m   \u001b[0m Cloning into 'sentencepiece'...\n",
      "  \u001b[31m   \u001b[0m Note: switching to '58f256cf6f01bb86e6fa634a5cc560de5bd1667d'.\n",
      "  \u001b[31m   \u001b[0m \n",
      "  \u001b[31m   \u001b[0m You are in 'detached HEAD' state. You can look around, make experimental\n",
      "  \u001b[31m   \u001b[0m changes and commit them, and you can discard any commits you make in this\n",
      "  \u001b[31m   \u001b[0m state without impacting any branches by switching back to a branch.\n",
      "  \u001b[31m   \u001b[0m \n",
      "  \u001b[31m   \u001b[0m If you want to create a new branch to retain commits you create, you may\n",
      "  \u001b[31m   \u001b[0m do so (now or later) by using -c with the switch command. Example:\n",
      "  \u001b[31m   \u001b[0m \n",
      "  \u001b[31m   \u001b[0m   git switch -c <new-branch-name>\n",
      "  \u001b[31m   \u001b[0m \n",
      "  \u001b[31m   \u001b[0m Or undo this operation with:\n",
      "  \u001b[31m   \u001b[0m \n",
      "  \u001b[31m   \u001b[0m   git switch -\n",
      "  \u001b[31m   \u001b[0m \n",
      "  \u001b[31m   \u001b[0m Turn off this advice by setting config variable advice.detachedHead to false\n",
      "  \u001b[31m   \u001b[0m \n",
      "  \u001b[31m   \u001b[0m ./build_bundled.sh: line 19: cmake: command not found\n",
      "  \u001b[31m   \u001b[0m ./build_bundled.sh: line 20: nproc: command not found\n",
      "  \u001b[31m   \u001b[0m ./build_bundled.sh: line 20: cmake: command not found\n",
      "  \u001b[31m   \u001b[0m Traceback (most recent call last):\n",
      "  \u001b[31m   \u001b[0m   File \"<string>\", line 2, in <module>\n",
      "  \u001b[31m   \u001b[0m   File \"<pip-setuptools-caller>\", line 34, in <module>\n",
      "  \u001b[31m   \u001b[0m   File \"/private/var/folders/dt/nr1bpqhj02nczn6h6wf73x1c0000gn/T/pip-install-gxkhgo9f/sentencepiece_66f604880ceb4344a32cc89b7e6088d8/setup.py\", line 136, in <module>\n",
      "  \u001b[31m   \u001b[0m     setup(\n",
      "  \u001b[31m   \u001b[0m   File \"/Users/debrup/miniconda3/envs/def/lib/python3.11/site-packages/setuptools/__init__.py\", line 108, in setup\n",
      "  \u001b[31m   \u001b[0m     return distutils.core.setup(**attrs)\n",
      "  \u001b[31m   \u001b[0m            ^^^^^^^^^^^^^^^^^^^^^^^^^^^^^\n",
      "  \u001b[31m   \u001b[0m   File \"/Users/debrup/miniconda3/envs/def/lib/python3.11/site-packages/setuptools/_distutils/core.py\", line 185, in setup\n",
      "  \u001b[31m   \u001b[0m     return run_commands(dist)\n",
      "  \u001b[31m   \u001b[0m            ^^^^^^^^^^^^^^^^^^\n",
      "  \u001b[31m   \u001b[0m   File \"/Users/debrup/miniconda3/envs/def/lib/python3.11/site-packages/setuptools/_distutils/core.py\", line 201, in run_commands\n",
      "  \u001b[31m   \u001b[0m     dist.run_commands()\n",
      "  \u001b[31m   \u001b[0m   File \"/Users/debrup/miniconda3/envs/def/lib/python3.11/site-packages/setuptools/_distutils/dist.py\", line 969, in run_commands\n",
      "  \u001b[31m   \u001b[0m     self.run_command(cmd)\n",
      "  \u001b[31m   \u001b[0m   File \"/Users/debrup/miniconda3/envs/def/lib/python3.11/site-packages/setuptools/dist.py\", line 1221, in run_command\n",
      "  \u001b[31m   \u001b[0m     super().run_command(command)\n",
      "  \u001b[31m   \u001b[0m   File \"/Users/debrup/miniconda3/envs/def/lib/python3.11/site-packages/setuptools/_distutils/dist.py\", line 988, in run_command\n",
      "  \u001b[31m   \u001b[0m     cmd_obj.run()\n",
      "  \u001b[31m   \u001b[0m   File \"/Users/debrup/miniconda3/envs/def/lib/python3.11/site-packages/wheel/bdist_wheel.py\", line 343, in run\n",
      "  \u001b[31m   \u001b[0m     self.run_command(\"build\")\n",
      "  \u001b[31m   \u001b[0m   File \"/Users/debrup/miniconda3/envs/def/lib/python3.11/site-packages/setuptools/_distutils/cmd.py\", line 318, in run_command\n",
      "  \u001b[31m   \u001b[0m     self.distribution.run_command(command)\n",
      "  \u001b[31m   \u001b[0m   File \"/Users/debrup/miniconda3/envs/def/lib/python3.11/site-packages/setuptools/dist.py\", line 1221, in run_command\n",
      "  \u001b[31m   \u001b[0m     super().run_command(command)\n",
      "  \u001b[31m   \u001b[0m   File \"/Users/debrup/miniconda3/envs/def/lib/python3.11/site-packages/setuptools/_distutils/dist.py\", line 988, in run_command\n",
      "  \u001b[31m   \u001b[0m     cmd_obj.run()\n",
      "  \u001b[31m   \u001b[0m   File \"/Users/debrup/miniconda3/envs/def/lib/python3.11/site-packages/setuptools/_distutils/command/build.py\", line 131, in run\n",
      "  \u001b[31m   \u001b[0m     self.run_command(cmd_name)\n",
      "  \u001b[31m   \u001b[0m   File \"/Users/debrup/miniconda3/envs/def/lib/python3.11/site-packages/setuptools/_distutils/cmd.py\", line 318, in run_command\n",
      "  \u001b[31m   \u001b[0m     self.distribution.run_command(command)\n",
      "  \u001b[31m   \u001b[0m   File \"/Users/debrup/miniconda3/envs/def/lib/python3.11/site-packages/setuptools/dist.py\", line 1221, in run_command\n",
      "  \u001b[31m   \u001b[0m     super().run_command(command)\n",
      "  \u001b[31m   \u001b[0m   File \"/Users/debrup/miniconda3/envs/def/lib/python3.11/site-packages/setuptools/_distutils/dist.py\", line 988, in run_command\n",
      "  \u001b[31m   \u001b[0m     cmd_obj.run()\n",
      "  \u001b[31m   \u001b[0m   File \"/Users/debrup/miniconda3/envs/def/lib/python3.11/site-packages/setuptools/command/build_ext.py\", line 84, in run\n",
      "  \u001b[31m   \u001b[0m     _build_ext.run(self)\n",
      "  \u001b[31m   \u001b[0m   File \"/Users/debrup/miniconda3/envs/def/lib/python3.11/site-packages/setuptools/_distutils/command/build_ext.py\", line 345, in run\n",
      "  \u001b[31m   \u001b[0m     self.build_extensions()\n",
      "  \u001b[31m   \u001b[0m   File \"/Users/debrup/miniconda3/envs/def/lib/python3.11/site-packages/setuptools/_distutils/command/build_ext.py\", line 467, in build_extensions\n",
      "  \u001b[31m   \u001b[0m     self._build_extensions_serial()\n",
      "  \u001b[31m   \u001b[0m   File \"/Users/debrup/miniconda3/envs/def/lib/python3.11/site-packages/setuptools/_distutils/command/build_ext.py\", line 493, in _build_extensions_serial\n",
      "  \u001b[31m   \u001b[0m     self.build_extension(ext)\n",
      "  \u001b[31m   \u001b[0m   File \"/private/var/folders/dt/nr1bpqhj02nczn6h6wf73x1c0000gn/T/pip-install-gxkhgo9f/sentencepiece_66f604880ceb4344a32cc89b7e6088d8/setup.py\", line 89, in build_extension\n",
      "  \u001b[31m   \u001b[0m     subprocess.check_call(['./build_bundled.sh', __version__])\n",
      "  \u001b[31m   \u001b[0m   File \"/Users/debrup/miniconda3/envs/def/lib/python3.11/subprocess.py\", line 413, in check_call\n",
      "  \u001b[31m   \u001b[0m     raise CalledProcessError(retcode, cmd)\n",
      "  \u001b[31m   \u001b[0m subprocess.CalledProcessError: Command '['./build_bundled.sh', '0.1.97']' returned non-zero exit status 127.\n",
      "  \u001b[31m   \u001b[0m \u001b[31m[end of output]\u001b[0m\n",
      "  \n",
      "  \u001b[1;35mnote\u001b[0m: This error originates from a subprocess, and is likely not a problem with pip.\n",
      "\u001b[31m  ERROR: Failed building wheel for sentencepiece\u001b[0m\u001b[31m\n",
      "\u001b[0m\u001b[?25h  Running setup.py clean for sentencepiece\n"
     ]
    },
    {
     "name": "stdout",
     "output_type": "stream",
     "text": [
      "  Building wheel for validators (setup.py) ... \u001b[?25ldone\n",
      "\u001b[?25h  Created wheel for validators: filename=validators-0.20.0-py3-none-any.whl size=19579 sha256=34f4ac92e6ecd86e701a54ca50a70fc3aa33d34bd53d7416a99f1ef174e72de9\n",
      "  Stored in directory: /Users/debrup/Library/Caches/pip/wheels/82/35/dc/f88ec71edf2a5596bd72a8fa1b697277e0fcd3cde83048b8bf\n",
      "Successfully built validators\n",
      "Failed to build sentencepiece\n",
      "Installing collected packages: wand, tokenizers, sentencepiece, pdfkit, zipp, validators, tzdata, toml, svgwrite, smmap, semver, pympler, pyarrow, pyahocorasick, protobuf, pluggy, mdurl, iniconfig, huspacy, fasttext, entrypoints, cachetools, blinker, anyascii, textsearch, svgling, pytz-deprecation-shim, pytest, pydeck, markdown-it-py, importlib-metadata, huggingface-hub, gitdb, tzlocal, transformers, torch-struct, rich, gitpython, contractions, altair, streamlit, benepar, constituent-treelib\n",
      "  Running setup.py install for sentencepiece ... \u001b[?25lerror\n",
      "  \u001b[1;31merror\u001b[0m: \u001b[1msubprocess-exited-with-error\u001b[0m\n",
      "  \n",
      "  \u001b[31m×\u001b[0m \u001b[32mRunning setup.py install for sentencepiece\u001b[0m did not run successfully.\n",
      "  \u001b[31m│\u001b[0m exit code: \u001b[1;36m1\u001b[0m\n",
      "  \u001b[31m╰─>\u001b[0m \u001b[31m[73 lines of output]\u001b[0m\n",
      "  \u001b[31m   \u001b[0m running install\n",
      "  \u001b[31m   \u001b[0m /Users/debrup/miniconda3/envs/def/lib/python3.11/site-packages/setuptools/command/install.py:34: SetuptoolsDeprecationWarning: setup.py install is deprecated. Use build and pip and other standards-based tools.\n",
      "  \u001b[31m   \u001b[0m   warnings.warn(\n",
      "  \u001b[31m   \u001b[0m running build\n",
      "  \u001b[31m   \u001b[0m running build_py\n",
      "  \u001b[31m   \u001b[0m creating build\n",
      "  \u001b[31m   \u001b[0m creating build/lib.macosx-11.1-arm64-cpython-311\n",
      "  \u001b[31m   \u001b[0m creating build/lib.macosx-11.1-arm64-cpython-311/sentencepiece\n",
      "  \u001b[31m   \u001b[0m copying src/sentencepiece/__init__.py -> build/lib.macosx-11.1-arm64-cpython-311/sentencepiece\n",
      "  \u001b[31m   \u001b[0m copying src/sentencepiece/_version.py -> build/lib.macosx-11.1-arm64-cpython-311/sentencepiece\n",
      "  \u001b[31m   \u001b[0m copying src/sentencepiece/sentencepiece_model_pb2.py -> build/lib.macosx-11.1-arm64-cpython-311/sentencepiece\n",
      "  \u001b[31m   \u001b[0m copying src/sentencepiece/sentencepiece_pb2.py -> build/lib.macosx-11.1-arm64-cpython-311/sentencepiece\n",
      "  \u001b[31m   \u001b[0m running build_ext\n",
      "  \u001b[31m   \u001b[0m Package sentencepiece was not found in the pkg-config search path.\n",
      "  \u001b[31m   \u001b[0m Perhaps you should add the directory containing `sentencepiece.pc'\n",
      "  \u001b[31m   \u001b[0m to the PKG_CONFIG_PATH environment variable\n",
      "  \u001b[31m   \u001b[0m No package 'sentencepiece' found\n",
      "  \u001b[31m   \u001b[0m fatal: destination path 'sentencepiece' already exists and is not an empty directory.\n",
      "  \u001b[31m   \u001b[0m fatal: destination path 'sentencepiece' already exists and is not an empty directory.\n",
      "  \u001b[31m   \u001b[0m ./build_bundled.sh: line 19: cmake: command not found\n",
      "  \u001b[31m   \u001b[0m ./build_bundled.sh: line 20: nproc: command not found\n",
      "  \u001b[31m   \u001b[0m ./build_bundled.sh: line 20: cmake: command not found\n",
      "  \u001b[31m   \u001b[0m Traceback (most recent call last):\n",
      "  \u001b[31m   \u001b[0m   File \"<string>\", line 2, in <module>\n",
      "  \u001b[31m   \u001b[0m   File \"<pip-setuptools-caller>\", line 34, in <module>\n",
      "  \u001b[31m   \u001b[0m   File \"/private/var/folders/dt/nr1bpqhj02nczn6h6wf73x1c0000gn/T/pip-install-gxkhgo9f/sentencepiece_66f604880ceb4344a32cc89b7e6088d8/setup.py\", line 136, in <module>\n",
      "  \u001b[31m   \u001b[0m     setup(\n",
      "  \u001b[31m   \u001b[0m   File \"/Users/debrup/miniconda3/envs/def/lib/python3.11/site-packages/setuptools/__init__.py\", line 108, in setup\n",
      "  \u001b[31m   \u001b[0m     return distutils.core.setup(**attrs)\n",
      "  \u001b[31m   \u001b[0m            ^^^^^^^^^^^^^^^^^^^^^^^^^^^^^\n",
      "  \u001b[31m   \u001b[0m   File \"/Users/debrup/miniconda3/envs/def/lib/python3.11/site-packages/setuptools/_distutils/core.py\", line 185, in setup\n",
      "  \u001b[31m   \u001b[0m     return run_commands(dist)\n",
      "  \u001b[31m   \u001b[0m            ^^^^^^^^^^^^^^^^^^\n",
      "  \u001b[31m   \u001b[0m   File \"/Users/debrup/miniconda3/envs/def/lib/python3.11/site-packages/setuptools/_distutils/core.py\", line 201, in run_commands\n",
      "  \u001b[31m   \u001b[0m     dist.run_commands()\n",
      "  \u001b[31m   \u001b[0m   File \"/Users/debrup/miniconda3/envs/def/lib/python3.11/site-packages/setuptools/_distutils/dist.py\", line 969, in run_commands\n",
      "  \u001b[31m   \u001b[0m     self.run_command(cmd)\n",
      "  \u001b[31m   \u001b[0m   File \"/Users/debrup/miniconda3/envs/def/lib/python3.11/site-packages/setuptools/dist.py\", line 1221, in run_command\n",
      "  \u001b[31m   \u001b[0m     super().run_command(command)\n",
      "  \u001b[31m   \u001b[0m   File \"/Users/debrup/miniconda3/envs/def/lib/python3.11/site-packages/setuptools/_distutils/dist.py\", line 988, in run_command\n",
      "  \u001b[31m   \u001b[0m     cmd_obj.run()\n",
      "  \u001b[31m   \u001b[0m   File \"/Users/debrup/miniconda3/envs/def/lib/python3.11/site-packages/setuptools/command/install.py\", line 68, in run\n",
      "  \u001b[31m   \u001b[0m     return orig.install.run(self)\n",
      "  \u001b[31m   \u001b[0m            ^^^^^^^^^^^^^^^^^^^^^^\n",
      "  \u001b[31m   \u001b[0m   File \"/Users/debrup/miniconda3/envs/def/lib/python3.11/site-packages/setuptools/_distutils/command/install.py\", line 697, in run\n",
      "  \u001b[31m   \u001b[0m     self.run_command('build')\n",
      "  \u001b[31m   \u001b[0m   File \"/Users/debrup/miniconda3/envs/def/lib/python3.11/site-packages/setuptools/_distutils/cmd.py\", line 318, in run_command\n",
      "  \u001b[31m   \u001b[0m     self.distribution.run_command(command)\n",
      "  \u001b[31m   \u001b[0m   File \"/Users/debrup/miniconda3/envs/def/lib/python3.11/site-packages/setuptools/dist.py\", line 1221, in run_command\n",
      "  \u001b[31m   \u001b[0m     super().run_command(command)\n",
      "  \u001b[31m   \u001b[0m   File \"/Users/debrup/miniconda3/envs/def/lib/python3.11/site-packages/setuptools/_distutils/dist.py\", line 988, in run_command\n",
      "  \u001b[31m   \u001b[0m     cmd_obj.run()\n",
      "  \u001b[31m   \u001b[0m   File \"/Users/debrup/miniconda3/envs/def/lib/python3.11/site-packages/setuptools/_distutils/command/build.py\", line 131, in run\n",
      "  \u001b[31m   \u001b[0m     self.run_command(cmd_name)\n",
      "  \u001b[31m   \u001b[0m   File \"/Users/debrup/miniconda3/envs/def/lib/python3.11/site-packages/setuptools/_distutils/cmd.py\", line 318, in run_command\n",
      "  \u001b[31m   \u001b[0m     self.distribution.run_command(command)\n",
      "  \u001b[31m   \u001b[0m   File \"/Users/debrup/miniconda3/envs/def/lib/python3.11/site-packages/setuptools/dist.py\", line 1221, in run_command\n",
      "  \u001b[31m   \u001b[0m     super().run_command(command)\n",
      "  \u001b[31m   \u001b[0m   File \"/Users/debrup/miniconda3/envs/def/lib/python3.11/site-packages/setuptools/_distutils/dist.py\", line 988, in run_command\n",
      "  \u001b[31m   \u001b[0m     cmd_obj.run()\n",
      "  \u001b[31m   \u001b[0m   File \"/Users/debrup/miniconda3/envs/def/lib/python3.11/site-packages/setuptools/command/build_ext.py\", line 84, in run\n",
      "  \u001b[31m   \u001b[0m     _build_ext.run(self)\n",
      "  \u001b[31m   \u001b[0m   File \"/Users/debrup/miniconda3/envs/def/lib/python3.11/site-packages/setuptools/_distutils/command/build_ext.py\", line 345, in run\n",
      "  \u001b[31m   \u001b[0m     self.build_extensions()\n",
      "  \u001b[31m   \u001b[0m   File \"/Users/debrup/miniconda3/envs/def/lib/python3.11/site-packages/setuptools/_distutils/command/build_ext.py\", line 467, in build_extensions\n",
      "  \u001b[31m   \u001b[0m     self._build_extensions_serial()\n",
      "  \u001b[31m   \u001b[0m   File \"/Users/debrup/miniconda3/envs/def/lib/python3.11/site-packages/setuptools/_distutils/command/build_ext.py\", line 493, in _build_extensions_serial\n",
      "  \u001b[31m   \u001b[0m     self.build_extension(ext)\n",
      "  \u001b[31m   \u001b[0m   File \"/private/var/folders/dt/nr1bpqhj02nczn6h6wf73x1c0000gn/T/pip-install-gxkhgo9f/sentencepiece_66f604880ceb4344a32cc89b7e6088d8/setup.py\", line 89, in build_extension\n",
      "  \u001b[31m   \u001b[0m     subprocess.check_call(['./build_bundled.sh', __version__])\n",
      "  \u001b[31m   \u001b[0m   File \"/Users/debrup/miniconda3/envs/def/lib/python3.11/subprocess.py\", line 413, in check_call\n",
      "  \u001b[31m   \u001b[0m     raise CalledProcessError(retcode, cmd)\n",
      "  \u001b[31m   \u001b[0m subprocess.CalledProcessError: Command '['./build_bundled.sh', '0.1.97']' returned non-zero exit status 127.\n",
      "  \u001b[31m   \u001b[0m \u001b[31m[end of output]\u001b[0m\n",
      "  \n",
      "  \u001b[1;35mnote\u001b[0m: This error originates from a subprocess, and is likely not a problem with pip.\n",
      "\u001b[1;31merror\u001b[0m: \u001b[1mlegacy-install-failure\u001b[0m\n",
      "\n",
      "\u001b[31m×\u001b[0m Encountered error while trying to install package.\n",
      "\u001b[31m╰─>\u001b[0m sentencepiece\n",
      "\n",
      "\u001b[1;35mnote\u001b[0m: This is an issue with the package mentioned above, not pip.\n",
      "\u001b[1;36mhint\u001b[0m: See above for output from the failure.\n",
      "\u001b[?25hNote: you may need to restart the kernel to use updated packages.\n"
     ]
    }
   ],
   "source": [
    "pip install constituent-treelib"
   ]
  },
  {
   "cell_type": "code",
   "execution_count": 206,
   "id": "2f473337",
   "metadata": {},
   "outputs": [
    {
     "name": "stderr",
     "output_type": "stream",
     "text": [
      "2023-04-03 22:08:13 INFO: Checking for updates to resources.json in case models have been updated.  Note: this behavior can be turned off with download_method=None or download_method=DownloadMethod.REUSE_RESOURCES\n",
      "Downloading https://raw.githubusercontent.com/stanfordnlp/stanza-resources/main/resources_1.5.0.json: 200kB [00:00, 964kB/s]\n",
      "2023-04-03 22:08:15 INFO: Loading these models for language: en (English):\n",
      "===========================\n",
      "| Processor    | Package  |\n",
      "---------------------------\n",
      "| tokenize     | combined |\n",
      "| pos          | combined |\n",
      "| constituency | wsj      |\n",
      "===========================\n",
      "\n",
      "2023-04-03 22:08:15 INFO: Using device: cpu\n",
      "2023-04-03 22:08:15 INFO: Loading: tokenize\n",
      "2023-04-03 22:08:15 INFO: Loading: pos\n",
      "2023-04-03 22:08:15 INFO: Loading: constituency\n",
      "2023-04-03 22:08:16 INFO: Done loading processors!\n"
     ]
    }
   ],
   "source": [
    "import stanza\n",
    "\n",
    "\n",
    "def preprocess(np):\n",
    "    page = np.replace('( ', '-LRB-')\n",
    "    page = page.replace(' )', '-RRB-')\n",
    "    page = page.replace(' - ', '-')\n",
    "    page = page.replace(' :', '-COLON-')\n",
    "    page = page.replace(' ,', ',')\n",
    "    page = page.replace(\" 's\", \"'s\")\n",
    "    page = page.replace(' ', '_')\n",
    "    return page\n",
    "    \n",
    "\n",
    "claim_train_lines = [ sub['claim'] for sub in lines]\n",
    "\n",
    "nlp = stanza.Pipeline(lang='en', processors='tokenize,pos,constituency')\n",
    "entities=[]  # entities will be a list of size len(train_claims) having list of entities(noun_phrases) as each elem\n",
    "wiki_pages=[]\n",
    "\n",
    "test=[\"I am a happy person\"]\n",
    "\n",
    "for claim in test:\n",
    "    doc = nlp(claim)\n",
    "    for sentence in doc.sentences:\n",
    "        tree = sentence.constituency\n",
    "        np=[]\n",
    "        tree.visit_preorder(internal = lambda x: np.append(x.leaf_labels()) if x.label==\"NP\" else None)\n",
    "        noun_phrases = [' '.join(n) for n in np]\n",
    "        entities.append(noun_phrases)\n",
    "        \n",
    "        predicted_wiki = [preprocess((wikipedia.search(n))[0]) for n in noun_phrases] \n",
    "        wiki_pages.append(predicted_wiki)\n",
    "        \n",
    "        ##print(noun_phrases)\n",
    "        ##print(type(sentence.constituency))\n",
    "\n",
    "        \n",
    "    "
   ]
  },
  {
   "cell_type": "code",
   "execution_count": 207,
   "id": "5c12ad2e",
   "metadata": {},
   "outputs": [
    {
     "name": "stdout",
     "output_type": "stream",
     "text": [
      "[(ROOT (S (NP (PRP I)) (VP (VBP am) (NP (DT a) (JJ happy) (NN person)))))]\n"
     ]
    }
   ],
   "source": [
    "print([i.constituency for i in doc.sentences])"
   ]
  },
  {
   "cell_type": "code",
   "execution_count": 208,
   "id": "1a413039",
   "metadata": {},
   "outputs": [
    {
     "data": {
      "text/plain": [
       "(ROOT (S (NP (PRP I)) (VP (VBP am) (NP (DT a) (JJ happy) (NN person)))))"
      ]
     },
     "execution_count": 208,
     "metadata": {},
     "output_type": "execute_result"
    }
   ],
   "source": [
    "tree"
   ]
  },
  {
   "cell_type": "code",
   "execution_count": 209,
   "id": "afe5e207",
   "metadata": {},
   "outputs": [
    {
     "data": {
      "text/plain": [
       "1"
      ]
     },
     "execution_count": 209,
     "metadata": {},
     "output_type": "execute_result"
    }
   ],
   "source": [
    "len(wiki_pages)"
   ]
  },
  {
   "cell_type": "code",
   "execution_count": 195,
   "id": "75d9fe94",
   "metadata": {},
   "outputs": [
    {
     "name": "stdout",
     "output_type": "stream",
     "text": [
      "[['I']]\n"
     ]
    }
   ],
   "source": [
    "print(entities)"
   ]
  },
  {
   "cell_type": "code",
   "execution_count": 181,
   "id": "49b8a0f7",
   "metadata": {},
   "outputs": [
    {
     "name": "stdout",
     "output_type": "stream",
     "text": [
      "[['Nikolaj_Coster-Waldau', 'Fox_Broadcasting_Company'], ['Roman_Atwood', 'Content_creation'], ['History_of_art', 'History', 'Art', 'Arts_in_the_Philippines', 'Architecture', 'Dance', 'Sculpture', 'Music', 'Painting', 'Epic_poetry', 'Theatre', 'Narrative', 'Film', 'Photography', 'Graphic_arts']]\n"
     ]
    }
   ],
   "source": [
    "print(wiki_pages)"
   ]
  },
  {
   "cell_type": "code",
   "execution_count": 174,
   "id": "64ced153",
   "metadata": {},
   "outputs": [
    {
     "name": "stdout",
     "output_type": "stream",
     "text": [
      "0\tSculpture is the branch of the visual arts that operates in three dimensions .\tvisual arts\tvisual arts\tthree dimensions\tthree dimensions\n",
      "1\tIt is one of the plastic arts .\tplastic arts\tplastic arts\n",
      "2\tDurable sculptural processes originally used carving -LRB- the removal of material -RRB- and modelling -LRB- the addition of material , as clay -RRB- , in stone , metal , ceramics , wood and other materials but , since Modernism , there has been an almost complete freedom of materials and process .\tcarving\tcarving\tstone\tstone\tmetal\tmetal\tceramics\tceramic art\twood\twood\tModernism\tModernism\n",
      "3\tA wide variety of materials may be worked by removal such as carving , assembled by welding or modelling , or molded , or cast .\tcarving\tcarving\twelding\twelding\tmolded\tMolding (process)\tcast\tCasting\n",
      "4\t\n",
      "5\t\n",
      "6\tSculpture in stone survives far better than works of art in perishable materials , and often represents the majority of the surviving works -LRB- other than pottery -RRB- from ancient cultures , though conversely traditions of sculpture in wood may have vanished almost entirely .\tstone\tstone\twood\twood\n",
      "7\tHowever , most ancient sculpture was brightly painted , and this has been lost .\n",
      "8\t\n",
      "9\t\n",
      "10\tSculpture has been central in religious devotion in many cultures , and until recent centuries large sculptures , too expensive for private individuals to create , were usually an expression of religion or politics .\n",
      "11\tThose cultures whose sculptures have survived in quantities include the cultures of the ancient Mediterranean , India and China , as well as many in South America and Africa .\n",
      "12\t\n",
      "13\t\n",
      "14\tThe Western tradition of sculpture began in ancient Greece , and Greece is widely seen as producing great masterpieces in the classical period .\tWestern\tWestern culture\tancient Greece\tancient Greece\tclassical\tClassical Greece\n",
      "15\tDuring the Middle Ages , Gothic sculpture represented the agonies and passions of the Christian faith .\tMiddle Ages\tMiddle Ages\tGothic\tGothic art\n",
      "16\tThe revival of classical models in the Renaissance produced famous sculptures such as Michelangelo 's David .\tclassical\tClassical Greece\tRenaissance\tRenaissance\tMichelangelo\tMichelangelo\tDavid\tDavid (Michelangelo)\n",
      "17\tModernist sculpture moved away from traditional processes and the emphasis on the depiction of the human body , with the making of constructed sculpture , and the presentation of found objects as finished art works .\tconstructed sculpture\tAssemblage (art)\n",
      "18\t\n"
     ]
    }
   ],
   "source": [
    "import sqlite3\n",
    "\n",
    "# Open a connection to the database file\n",
    "conn = sqlite3.connect(db_path)\n",
    "\n",
    "# Create a cursor object to execute SQL commands\n",
    "cursor = conn.cursor()\n",
    "\n",
    "# Execute a SELECT query on the database\n",
    "query = \"SELECT lines FROM documents where id='Sculpture'\"\n",
    "cursor.execute(query)\n",
    "\n",
    "# Retrieve the results of the query\n",
    "results = cursor.fetchone()\n",
    "\n",
    "# Print the results\n",
    "for row in results:\n",
    "    print(row)\n",
    "\n",
    "# Close the connection to the database\n",
    "conn.close()\n"
   ]
  },
  {
   "cell_type": "code",
   "execution_count": 30,
   "id": "a94aef88",
   "metadata": {},
   "outputs": [
    {
     "name": "stdout",
     "output_type": "stream",
     "text": [
      "Collecting requests\n",
      "  Using cached requests-2.28.2-py3-none-any.whl (62 kB)\n",
      "Collecting charset-normalizer<4,>=2\n",
      "  Downloading charset_normalizer-3.1.0-cp311-cp311-macosx_11_0_arm64.whl (121 kB)\n",
      "\u001b[2K     \u001b[90m━━━━━━━━━━━━━━━━━━━━━━━━━━━━━━━━━━━━━━━\u001b[0m \u001b[32m121.7/121.7 kB\u001b[0m \u001b[31m1.1 MB/s\u001b[0m eta \u001b[36m0:00:00\u001b[0ma \u001b[36m0:00:01\u001b[0m\n",
      "\u001b[?25hRequirement already satisfied: idna<4,>=2.5 in /Users/debrup/miniconda3/envs/def/lib/python3.11/site-packages (from requests) (3.4)\n",
      "Collecting urllib3<1.27,>=1.21.1\n",
      "  Using cached urllib3-1.26.15-py2.py3-none-any.whl (140 kB)\n",
      "Requirement already satisfied: certifi>=2017.4.17 in /Users/debrup/miniconda3/envs/def/lib/python3.11/site-packages (from requests) (2022.12.7)\n",
      "Installing collected packages: urllib3, charset-normalizer, requests\n",
      "Successfully installed charset-normalizer-3.1.0 requests-2.28.2 urllib3-1.26.15\n",
      "Note: you may need to restart the kernel to use updated packages.\n"
     ]
    }
   ],
   "source": [
    "pip install requests"
   ]
  },
  {
   "cell_type": "code",
   "execution_count": 40,
   "id": "030c4a9e",
   "metadata": {},
   "outputs": [
    {
     "name": "stdout",
     "output_type": "stream",
     "text": [
      "Collecting wikipedia\n",
      "  Using cached wikipedia-1.4.0.tar.gz (27 kB)\n",
      "  Preparing metadata (setup.py) ... \u001b[?25ldone\n",
      "\u001b[?25hRequirement already satisfied: beautifulsoup4 in /Users/debrup/miniconda3/envs/def/lib/python3.11/site-packages (from wikipedia) (4.12.0)\n",
      "Requirement already satisfied: requests<3.0.0,>=2.0.0 in /Users/debrup/miniconda3/envs/def/lib/python3.11/site-packages (from wikipedia) (2.28.2)\n",
      "Requirement already satisfied: charset-normalizer<4,>=2 in /Users/debrup/miniconda3/envs/def/lib/python3.11/site-packages (from requests<3.0.0,>=2.0.0->wikipedia) (3.1.0)\n",
      "Requirement already satisfied: idna<4,>=2.5 in /Users/debrup/miniconda3/envs/def/lib/python3.11/site-packages (from requests<3.0.0,>=2.0.0->wikipedia) (3.4)\n",
      "Requirement already satisfied: urllib3<1.27,>=1.21.1 in /Users/debrup/miniconda3/envs/def/lib/python3.11/site-packages (from requests<3.0.0,>=2.0.0->wikipedia) (1.26.15)\n",
      "Requirement already satisfied: certifi>=2017.4.17 in /Users/debrup/miniconda3/envs/def/lib/python3.11/site-packages (from requests<3.0.0,>=2.0.0->wikipedia) (2022.12.7)\n",
      "Requirement already satisfied: soupsieve>1.2 in /Users/debrup/miniconda3/envs/def/lib/python3.11/site-packages (from beautifulsoup4->wikipedia) (2.4)\n",
      "Building wheels for collected packages: wikipedia\n",
      "  Building wheel for wikipedia (setup.py) ... \u001b[?25ldone\n",
      "\u001b[?25h  Created wheel for wikipedia: filename=wikipedia-1.4.0-py3-none-any.whl size=11680 sha256=e813a16c5cf96f4a8c2b5da18702d4199cb06133177bb8cd4187340c8ec37144\n",
      "  Stored in directory: /Users/debrup/Library/Caches/pip/wheels/8f/ab/cb/45ccc40522d3a1c41e1d2ad53b8f33a62f394011ec38cd71c6\n",
      "Successfully built wikipedia\n",
      "Installing collected packages: wikipedia\n",
      "Successfully installed wikipedia-1.4.0\n",
      "Note: you may need to restart the kernel to use updated packages.\n"
     ]
    }
   ],
   "source": [
    "pip install wikipedia"
   ]
  },
  {
   "cell_type": "code",
   "execution_count": 166,
   "id": "10463070",
   "metadata": {},
   "outputs": [
    {
     "name": "stdout",
     "output_type": "stream",
     "text": [
      "Matching page titles:\n",
      "Content creation\n",
      "Creator Clash\n",
      "OnlyFans\n",
      "YouTuber\n",
      "One True King\n",
      "Creator economy\n",
      "Emiru\n",
      "Patreon\n",
      "QTCinderella\n",
      "Content house\n",
      "Page summary: Content creation is the act of producing and sharing information or media content for specific audiences, particularly in digital contexts. According to the Merriam-Webster dictionary, content refers to \"something that is to be expressed through some medium, as speech, writing or any of various arts\" for self-expression, distribution, marketing and/or publication. Content creation encompasses various activities including maintaining and updating web sites, blogging, article writing, photography, videography, online commentary, the maintenance of social media accounts, and editing and distribution of digital media. In a survey conducted by Pew, content creation was defined as \"the material people contribute to the online world.\"\n"
     ]
    }
   ],
   "source": [
    "import wikipedia\n",
    "\n",
    "# Query text\n",
    "query = \"a content creator\"\n",
    "\n",
    "# Search for matching page titles\n",
    "results = wikipedia.search(query)\n",
    "\n",
    "# Print the list of matching page titles\n",
    "print(\"Matching page titles:\")\n",
    "for title in results:\n",
    "    print(title)\n",
    "\n",
    "# Choose a page to retrieve\n",
    "page_title = results[0]\n",
    "\n",
    "# Retrieve the content of the page\n",
    "page = wikipedia.page(page_title)\n",
    "\n",
    "# Print the page summary and content\n",
    "print(\"Page summary:\", page.summary)\n",
    "##print(\"Page content:\", page.content)\n"
   ]
  },
  {
   "cell_type": "code",
   "execution_count": null,
   "id": "fdbe7d05",
   "metadata": {},
   "outputs": [],
   "source": []
  }
 ],
 "metadata": {
  "kernelspec": {
   "display_name": "def_env",
   "language": "python",
   "name": "def_env"
  },
  "language_info": {
   "codemirror_mode": {
    "name": "ipython",
    "version": 3
   },
   "file_extension": ".py",
   "mimetype": "text/x-python",
   "name": "python",
   "nbconvert_exporter": "python",
   "pygments_lexer": "ipython3",
   "version": "3.11.0"
  }
 },
 "nbformat": 4,
 "nbformat_minor": 5
}
